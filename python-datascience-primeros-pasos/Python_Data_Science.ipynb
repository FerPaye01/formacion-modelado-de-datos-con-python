{
  "nbformat": 4,
  "nbformat_minor": 0,
  "metadata": {
    "colab": {
      "provenance": [],
      "toc_visible": true
    },
    "kernelspec": {
      "name": "python3",
      "display_name": "Python 3"
    },
    "language_info": {
      "name": "python"
    }
  },
  "cells": [
    {
      "cell_type": "markdown",
      "metadata": {
        "id": "view-in-github"
      },
      "source": [
        "<a href=\"https://colab.research.google.com/github/ahcamachod/python-para-datascience-primeros-pasos/blob/proyecto-final/Python_Data_Science.ipynb\" target=\"_parent\"><img src=\"https://colab.research.google.com/assets/colab-badge.svg\" alt=\"Open In Colab\"/></a>"
      ]
    },
    {
      "cell_type": "markdown",
      "source": [
        "# Python para Data Science\n",
        "\n",
        "Notebook para el curso de Python para Data Science publicado en la plataforma de [Alura Latam](https://www.aluracursos.com/)"
      ],
      "metadata": {
        "id": "lQx6Mmv0OJyT"
      }
    },
    {
      "cell_type": "markdown",
      "source": [
        "# Introducción a Python\n",
        "¡Vamos a conocer Python, nuestro ambiente de estudio, y también generaremos nuestro primer código en este lenguaje!"
      ],
      "metadata": {
        "id": "7SiB6JIpYKmY"
      }
    },
    {
      "cell_type": "markdown",
      "source": [
        "## Google Colaboratory\n",
        "\n",
        "Ya aprendimos qué es [Python](https://www.python.org/) y ahora aprenderemos a usar nuestra herramienta de ejecución [Google Colaboratory](https://colab.research.google.com/) para programar en un notebook interactivo.\n",
        "\n",
        "Vamos a probar algunas funciones de este ambiente."
      ],
      "metadata": {
        "id": "Yugfb3fCOYY9"
      }
    },
    {
      "cell_type": "markdown",
      "source": [
        " **`>>> Usa esta celda para mover <<<`**"
      ],
      "metadata": {
        "id": "2iUHQsJasJAk"
      }
    },
    {
      "cell_type": "code",
      "source": [],
      "metadata": {
        "id": "o7jrX_iKhdkU"
      },
      "execution_count": null,
      "outputs": []
    },
    {
      "cell_type": "markdown",
      "source": [
        "## ¡Hola mundo!\n",
        "\n",
        "Vamos a conocer un poco más de cerca nuestro notebook. Para ello ejecutaremos nuestro primer comando en Python: [`print()`](https://docs.python.org/3/library/functions.html#print)"
      ],
      "metadata": {
        "id": "aLSFP2V7XTfe"
      }
    },
    {
      "cell_type": "code",
      "source": [
        "print('¡Hola mundo!')"
      ],
      "metadata": {
        "colab": {
          "base_uri": "https://localhost:8080/"
        },
        "id": "ssay2Zn4exhI",
        "outputId": "1cb49a43-c972-43b2-bfda-45921af98cbd"
      },
      "execution_count": null,
      "outputs": [
        {
          "output_type": "stream",
          "name": "stdout",
          "text": [
            "¡Hola mundo!\n"
          ]
        }
      ]
    },
    {
      "cell_type": "code",
      "source": [
        "15"
      ],
      "metadata": {
        "colab": {
          "base_uri": "https://localhost:8080/"
        },
        "id": "T1qc2bSsi1Mj",
        "outputId": "e8f82f80-9f6c-4b12-a568-65426bb81e3c"
      },
      "execution_count": null,
      "outputs": [
        {
          "output_type": "execute_result",
          "data": {
            "text/plain": [
              "15"
            ]
          },
          "metadata": {},
          "execution_count": 2
        }
      ]
    },
    {
      "cell_type": "code",
      "source": [
        "print('Mi nombre es Álvaro y tengo 39 años y me encanta la ciencia de datos.')"
      ],
      "metadata": {
        "colab": {
          "base_uri": "https://localhost:8080/"
        },
        "id": "qxUFEBNOi-KZ",
        "outputId": "7a91e0c2-47a1-43b1-8d89-1e9b891e156e"
      },
      "execution_count": null,
      "outputs": [
        {
          "output_type": "stream",
          "name": "stdout",
          "text": [
            "Mi nombre es Álvaro y tengo 39 años y me encanta la ciencia de datos.\n"
          ]
        }
      ]
    },
    {
      "cell_type": "markdown",
      "source": [
        "---"
      ],
      "metadata": {
        "id": "2wATBn8CnP8a"
      }
    },
    {
      "cell_type": "markdown",
      "source": [
        "## Desafios del aula 1"
      ],
      "metadata": {
        "id": "VsGGAyACmTuO"
      }
    },
    {
      "cell_type": "markdown",
      "source": [
        "1 - Imprime la frase \"Escuela de Datos de Alura\".\n",
        "\n"
      ],
      "metadata": {
        "id": "hbjjpwk7mVNm"
      }
    },
    {
      "cell_type": "code",
      "source": [
        "print(\"Escuela de Datos de Alura\")"
      ],
      "metadata": {
        "id": "gIwKRssJmc_R"
      },
      "execution_count": null,
      "outputs": []
    },
    {
      "cell_type": "markdown",
      "source": [
        "2 - Imprime tu nombre y tu apellido siguiendo la estructura a continuación:\n",
        "\n",
        "Nombre: [tu nombre]\n",
        "Apellido: [tu apellido]\n",
        "\n",
        "```\n",
        "Nombre: [tu nombre]\n",
        "Apellido: [tu apellido]\n",
        "```\n",
        "\n"
      ],
      "metadata": {
        "id": "KU4TuOAJmc5O"
      }
    },
    {
      "cell_type": "code",
      "source": [
        "print(\"Nombre: Oscar\")\n",
        "print(\"Apellido: Paye\")"
      ],
      "metadata": {
        "colab": {
          "base_uri": "https://localhost:8080/"
        },
        "id": "zfCQU3k_mltQ",
        "outputId": "0d7cbde9-4454-4014-f786-5e2c1aaa23f2"
      },
      "execution_count": null,
      "outputs": [
        {
          "output_type": "stream",
          "name": "stdout",
          "text": [
            "Nombre: Oscar\n",
            "Apellido: Paye\n"
          ]
        }
      ]
    },
    {
      "cell_type": "markdown",
      "source": [
        "3 - Imprime tu primer nombre letra por letra. Por ejemplo, si mi nombre es Álvaro, la salida sería:\n",
        "\n",
        "\n",
        "```\n",
        "Á\n",
        "L\n",
        "V\n",
        "A\n",
        "R\n",
        "O\n",
        "```\n",
        "\n"
      ],
      "metadata": {
        "id": "cmKwytYRmqWA"
      }
    },
    {
      "cell_type": "code",
      "source": [
        "nombre = \"Oscar\"\n",
        "for letra in nombre.upper():\n",
        "    print(letra)"
      ],
      "metadata": {
        "colab": {
          "base_uri": "https://localhost:8080/"
        },
        "id": "GR3oz1gnm8ow",
        "outputId": "d31e5e14-a5d9-4ab0-a889-f01864f46b69"
      },
      "execution_count": null,
      "outputs": [
        {
          "output_type": "stream",
          "name": "stdout",
          "text": [
            "O\n",
            "S\n",
            "C\n",
            "A\n",
            "R\n"
          ]
        }
      ]
    },
    {
      "cell_type": "markdown",
      "source": [
        "4 - Imprime tu fecha de nacimiento en formato día mes año. Recuerda que los valores de día y año no deben estar entre comillas. Suponiendo una fecha de cumpleaños el 28 de febrero de 2003, el formato debe ser como el siguiente:\n",
        "\n",
        "\n",
        "```\n",
        "28 febrero 2003\n",
        "\n",
        "```\n",
        "\n"
      ],
      "metadata": {
        "id": "aJ5Tk-EQmyBw"
      }
    },
    {
      "cell_type": "code",
      "source": [
        "dia = 29\n",
        "mes = \"noviembre\"\n",
        "año = 2001\n",
        "print(dia, mes, año)"
      ],
      "metadata": {
        "colab": {
          "base_uri": "https://localhost:8080/"
        },
        "id": "Bt_XZGLwmvon",
        "outputId": "1ba60cfb-84df-4a44-9a7a-f05bdc0adb1e"
      },
      "execution_count": null,
      "outputs": [
        {
          "output_type": "stream",
          "name": "stdout",
          "text": [
            "29 noviembre 2001\n"
          ]
        }
      ]
    },
    {
      "cell_type": "markdown",
      "source": [
        "5 - Imprime, en una sola instrucción print, el año actual en el que estás realizando este curso. El valor del año debe ser un dato numérico, y la salida de print debe ser la siguiente:\n",
        "\n",
        "\n",
        "\n",
        "```\n",
        "Año actual: [año]\n",
        "```\n",
        "\n"
      ],
      "metadata": {
        "id": "IAFIEpNymzTY"
      }
    },
    {
      "cell_type": "code",
      "source": [
        "print(\"Año actual:\", 2025)"
      ],
      "metadata": {
        "colab": {
          "base_uri": "https://localhost:8080/"
        },
        "id": "swQIcgs4m9FJ",
        "outputId": "ade13ba5-a6cb-4404-e2af-12c3349fe384"
      },
      "execution_count": null,
      "outputs": [
        {
          "output_type": "stream",
          "name": "stdout",
          "text": [
            "Año actual: 2025\n"
          ]
        }
      ]
    },
    {
      "cell_type": "markdown",
      "source": [
        "---"
      ],
      "metadata": {
        "id": "mw6qMA0KnNRQ"
      }
    },
    {
      "cell_type": "markdown",
      "source": [
        "# Manipulando los datos\n",
        "\n",
        "Vamos a aprender sobre las variables en Python, cómo declararlas y utilizarlas además de conocer otros comandos de este lenguaje. :D"
      ],
      "metadata": {
        "id": "iP8uWQmFYFRs"
      }
    },
    {
      "cell_type": "markdown",
      "source": [
        "## Variables\n",
        "\n",
        "En Data Science trabajamos con varios tipos de datos e informaciones, entonces es esencial saber cómo trabajar con las variables."
      ],
      "metadata": {
        "id": "sLNVmnTbag1Z"
      }
    },
    {
      "cell_type": "markdown",
      "source": [
        "Las variables en Python se crean cuando atribuimos un valor a ella.\n",
        "\n",
        "Para esto, colocamos el nombre de la variable, el signo de igual (`=`) y el valor que queremos atribuirle."
      ],
      "metadata": {
        "id": "lsCY0wahAbf6"
      }
    },
    {
      "cell_type": "code",
      "source": [
        "5"
      ],
      "metadata": {
        "id": "mfKYzq5GeaDN",
        "colab": {
          "base_uri": "https://localhost:8080/"
        },
        "outputId": "55df2b87-f8c5-4e77-99af-3bf78c54b83d"
      },
      "execution_count": null,
      "outputs": [
        {
          "output_type": "execute_result",
          "data": {
            "text/plain": [
              "5"
            ]
          },
          "metadata": {},
          "execution_count": 1
        }
      ]
    },
    {
      "cell_type": "code",
      "source": [
        "id(5)"
      ],
      "metadata": {
        "id": "aKk_P5eOeaFj",
        "colab": {
          "base_uri": "https://localhost:8080/"
        },
        "outputId": "f34d65c2-907b-43e6-98a3-61c7c1e5d9e9"
      },
      "execution_count": null,
      "outputs": [
        {
          "output_type": "execute_result",
          "data": {
            "text/plain": [
              "10757864"
            ]
          },
          "metadata": {},
          "execution_count": 2
        }
      ]
    },
    {
      "cell_type": "code",
      "source": [
        "edad = 5"
      ],
      "metadata": {
        "id": "YaMLiOUCeaHa"
      },
      "execution_count": null,
      "outputs": []
    },
    {
      "cell_type": "code",
      "source": [
        "print(id(edad))\n",
        "print(id(5))"
      ],
      "metadata": {
        "colab": {
          "base_uri": "https://localhost:8080/"
        },
        "id": "nho2tGQKgmKg",
        "outputId": "8a3b889e-bca2-487b-8f59-1184614565ca"
      },
      "execution_count": null,
      "outputs": [
        {
          "output_type": "stream",
          "name": "stdout",
          "text": [
            "10757864\n",
            "10757864\n"
          ]
        }
      ]
    },
    {
      "cell_type": "code",
      "source": [
        "numerocinco = 5"
      ],
      "metadata": {
        "id": "xxo_QJRngmMk"
      },
      "execution_count": null,
      "outputs": []
    },
    {
      "cell_type": "code",
      "source": [
        "id(numerocinco)"
      ],
      "metadata": {
        "colab": {
          "base_uri": "https://localhost:8080/"
        },
        "id": "Mp8F9eVjgmOc",
        "outputId": "dd9e5c08-9a66-4ad1-e208-b0f9ec973c86"
      },
      "execution_count": null,
      "outputs": [
        {
          "output_type": "execute_result",
          "data": {
            "text/plain": [
              "10757864"
            ]
          },
          "metadata": {},
          "execution_count": 6
        }
      ]
    },
    {
      "cell_type": "code",
      "source": [
        "nombre = 'Gabriel'"
      ],
      "metadata": {
        "id": "E_IiPmXgg_n5"
      },
      "execution_count": null,
      "outputs": []
    },
    {
      "cell_type": "code",
      "source": [
        "id('Gabriel')"
      ],
      "metadata": {
        "colab": {
          "base_uri": "https://localhost:8080/"
        },
        "id": "OKciC7ILg_qP",
        "outputId": "bf05cdfe-5014-4eb2-fc3f-1a91ac0d6222"
      },
      "execution_count": null,
      "outputs": [
        {
          "output_type": "execute_result",
          "data": {
            "text/plain": [
              "135890510022576"
            ]
          },
          "metadata": {},
          "execution_count": 8
        }
      ]
    },
    {
      "cell_type": "code",
      "source": [
        "id(nombre)"
      ],
      "metadata": {
        "colab": {
          "base_uri": "https://localhost:8080/"
        },
        "id": "sfJGbYfdhIpC",
        "outputId": "eda47902-20f5-4fd3-ca02-7700aceaccc9"
      },
      "execution_count": null,
      "outputs": [
        {
          "output_type": "execute_result",
          "data": {
            "text/plain": [
              "135890510022576"
            ]
          },
          "metadata": {},
          "execution_count": 9
        }
      ]
    },
    {
      "cell_type": "markdown",
      "source": [
        "Existen algunos tipos de nomes que **no** podemos definir para las variables:\n",
        "\n",
        "- **Nombres que comiencen con números**\n",
        "  - Ejemplos: `10_notas`, `2_nombre_casa`, etc.\n",
        "- **Palabras separadas por espacio**\n",
        "  - Ejemplos: `Nombre escuela`, `notas estudiantes`, etc.\n",
        "- **Nombres de funciones de Python**\n",
        "  - Ejemplos: `print`, `type`, etc."
      ],
      "metadata": {
        "id": "om2N0jHKAzwL"
      }
    },
    {
      "cell_type": "markdown",
      "source": [
        "> Las letras mayúsculas y minúsculas generarán diferentes variables. La variable `edad` es diferente de `Edad` que a su vez es diferente de `EDAD`:\n",
        "``` Python\n",
        "edad = 1\n",
        "Edad = 2\n",
        "EDAD = 3\n",
        "_edad = 4\n",
        "_edad_ = 5\n",
        "print(edad, Edad, EDAD, _edad, _edad_)\n",
        "1 2 3 4 5\n",
        "```"
      ],
      "metadata": {
        "id": "A19vY2GVMujB"
      }
    },
    {
      "cell_type": "markdown",
      "source": [
        "## Tipos de variables\n",
        "\n",
        "Cada variable contiene una clase específica con respecto al tipo de objeto al cual esta hace referencia. Estas clases serán diferentes de acuerdo con el tipo de dato que le sea atribuido a una variable.\n",
        "\n",
        "Para conocer la clase de cada elemento usamos la función [`type()`](https://docs.python.org/3/library/functions.html#type)"
      ],
      "metadata": {
        "id": "UqhzuBhBHsps"
      }
    },
    {
      "cell_type": "code",
      "source": [
        "edad = 5"
      ],
      "metadata": {
        "id": "D1sPkglFioOm"
      },
      "execution_count": null,
      "outputs": []
    },
    {
      "cell_type": "code",
      "source": [
        "type(edad)"
      ],
      "metadata": {
        "colab": {
          "base_uri": "https://localhost:8080/"
        },
        "id": "QJB_N8R5ioRJ",
        "outputId": "325eae12-4ab8-4eee-feae-11eac4458ecb"
      },
      "execution_count": null,
      "outputs": [
        {
          "output_type": "execute_result",
          "data": {
            "text/plain": [
              "int"
            ]
          },
          "metadata": {},
          "execution_count": 14
        }
      ]
    },
    {
      "cell_type": "code",
      "source": [
        "promedio = 9.5\n",
        "type(promedio)"
      ],
      "metadata": {
        "colab": {
          "base_uri": "https://localhost:8080/"
        },
        "id": "I4Tf5JhpioTQ",
        "outputId": "e5406137-230c-496c-db0a-574e4e140bf1"
      },
      "execution_count": null,
      "outputs": [
        {
          "output_type": "execute_result",
          "data": {
            "text/plain": [
              "float"
            ]
          },
          "metadata": {},
          "execution_count": 15
        }
      ]
    },
    {
      "cell_type": "code",
      "source": [
        "nombre = \"Oscar\"\n",
        "type('Oscar')"
      ],
      "metadata": {
        "colab": {
          "base_uri": "https://localhost:8080/"
        },
        "id": "Dh10yarMitlj",
        "outputId": "98b990dd-b7d8-4470-9a93-2452e591b47e"
      },
      "execution_count": null,
      "outputs": [
        {
          "output_type": "execute_result",
          "data": {
            "text/plain": [
              "str"
            ]
          },
          "metadata": {},
          "execution_count": 10
        }
      ]
    },
    {
      "cell_type": "code",
      "source": [
        "type(nombre)"
      ],
      "metadata": {
        "colab": {
          "base_uri": "https://localhost:8080/"
        },
        "id": "9XmX0nLlkpJY",
        "outputId": "0f016430-a220-4f06-fb20-68e978e0fcce"
      },
      "execution_count": null,
      "outputs": [
        {
          "output_type": "execute_result",
          "data": {
            "text/plain": [
              "str"
            ]
          },
          "metadata": {},
          "execution_count": 12
        }
      ]
    },
    {
      "cell_type": "code",
      "source": [
        "v = True\n",
        "type(v)"
      ],
      "metadata": {
        "colab": {
          "base_uri": "https://localhost:8080/"
        },
        "id": "7bBQzID5lO1X",
        "outputId": "adad664a-8fd7-4722-9199-71918fe9eacf"
      },
      "execution_count": null,
      "outputs": [
        {
          "output_type": "execute_result",
          "data": {
            "text/plain": [
              "bool"
            ]
          },
          "metadata": {},
          "execution_count": 11
        }
      ]
    },
    {
      "cell_type": "markdown",
      "source": [
        "En un conjunto de datos escolares podemos tener varios tipos de informaciones. Supongamos que tenemos acceso a la ficha de datos del alumno *Penélope Camacho*, cómo transformamos este nombre en variables de Python?\n",
        "\n",
        "#### Ficha:\n",
        "\n",
        "- Nombre: Penélope Camacho\n",
        "- Edad: 11 años\n",
        "- Promedio del semestre: 9,75\n",
        "- Situación de aprobación: Verdadera (aprobado)"
      ],
      "metadata": {
        "id": "O-FxDumfWu0C"
      }
    },
    {
      "cell_type": "code",
      "source": [
        "nombre_estudiante = 'Penélope Camacho'\n",
        "edad_estudiante = 11\n",
        "promedio_estudiante = 9.75\n",
        "aprobado = True\n",
        "\n",
        "print(nombre_estudiante,edad_estudiante,promedio_estudiante,aprobado)\n",
        "print(type(nombre_estudiante),type(edad_estudiante),type(promedio_estudiante),type(aprobado))"
      ],
      "metadata": {
        "colab": {
          "base_uri": "https://localhost:8080/"
        },
        "id": "X4ecK0HmjG5n",
        "outputId": "830ddd73-c39a-4f48-84d9-ab713407ed50"
      },
      "execution_count": null,
      "outputs": [
        {
          "output_type": "stream",
          "name": "stdout",
          "text": [
            "Penélope Camacho 11 9.75 True\n",
            "<class 'str'> <class 'int'> <class 'float'> <class 'bool'>\n"
          ]
        }
      ]
    },
    {
      "cell_type": "markdown",
      "source": [
        "## Variables numéricas\n",
        "\n",
        "Entre los tipos de datos numéricos vamos a enfocarnos en los tipos `entero` y `float`."
      ],
      "metadata": {
        "id": "KFq_8Sxf-OG0"
      }
    },
    {
      "cell_type": "markdown",
      "source": [
        "Tenemos una tabla de información sobre los diversos cargos, cantidad de personas empleadas y el salario correspondiente:\n",
        "\n",
        "|Cargo | Cantidad | Salario|\n",
        "|---|---|---|\n",
        "|Vigilante | 5 | 300 |\n",
        "|Docente | 16| 500|\n",
        "|Coordinador| 2 |600|\n",
        "\n",
        "Necesitamos trabajar con estos datos para obtener:\n",
        "\n",
        "- La cantidad total de empleados;\n",
        "- La diferencia entre el salario más bajo y más alto; y\n",
        "- El promedio ponderado de los salarios de los empleados de la escuela."
      ],
      "metadata": {
        "id": "8_HYUbkVYdQY"
      }
    },
    {
      "cell_type": "code",
      "source": [
        "c_vigilante = 5\n",
        "s_vigilante = 300\n",
        "\n",
        "c_docente = 16\n",
        "s_docente = 500\n",
        "\n",
        "c_coordinador = 2\n",
        "s_coordinador = 600"
      ],
      "metadata": {
        "id": "Zwjxuz4HmbBK"
      },
      "execution_count": null,
      "outputs": []
    },
    {
      "cell_type": "code",
      "source": [
        "total_empleados = c_vigilante + c_docente + c_coordinador\n",
        "total_empleados"
      ],
      "metadata": {
        "colab": {
          "base_uri": "https://localhost:8080/"
        },
        "id": "9m28AjCimbDQ",
        "outputId": "596c12a5-a1b1-4b3c-a3da-2b0f0ea81d7a"
      },
      "execution_count": null,
      "outputs": [
        {
          "output_type": "execute_result",
          "data": {
            "text/plain": [
              "23"
            ]
          },
          "metadata": {},
          "execution_count": 20
        }
      ]
    },
    {
      "cell_type": "code",
      "source": [
        "diferencia_salario = s_coordinador - s_vigilante\n",
        "diferencia_salario"
      ],
      "metadata": {
        "colab": {
          "base_uri": "https://localhost:8080/"
        },
        "id": "VjJjId_JmbFt",
        "outputId": "81693ec8-146e-4f5c-faa2-9e2b927543a9"
      },
      "execution_count": null,
      "outputs": [
        {
          "output_type": "execute_result",
          "data": {
            "text/plain": [
              "300"
            ]
          },
          "metadata": {},
          "execution_count": 21
        }
      ]
    },
    {
      "cell_type": "code",
      "source": [
        "promedio_salarios = (c_vigilante * s_vigilante + c_docente * s_docente\n",
        "                     + c_coordinador * s_coordinador) / total_empleados\n",
        "promedio_salarios"
      ],
      "metadata": {
        "colab": {
          "base_uri": "https://localhost:8080/"
        },
        "id": "Br5AS4ixmbH2",
        "outputId": "9fe7810c-98e0-42b4-9d47-384d0430d7ae"
      },
      "execution_count": null,
      "outputs": [
        {
          "output_type": "execute_result",
          "data": {
            "text/plain": [
              "465.2173913043478"
            ]
          },
          "metadata": {},
          "execution_count": 22
        }
      ]
    },
    {
      "cell_type": "code",
      "source": [
        "type(promedio_salarios)"
      ],
      "metadata": {
        "colab": {
          "base_uri": "https://localhost:8080/"
        },
        "id": "eWbR2YrdmbKL",
        "outputId": "571a479d-a09f-49e9-acbc-569180f86081"
      },
      "execution_count": null,
      "outputs": [
        {
          "output_type": "execute_result",
          "data": {
            "text/plain": [
              "float"
            ]
          },
          "metadata": {},
          "execution_count": 23
        }
      ]
    },
    {
      "cell_type": "markdown",
      "source": [
        "## Strings"
      ],
      "metadata": {
        "id": "yQy7b0ZWoD-P"
      }
    },
    {
      "cell_type": "markdown",
      "source": [
        "Strings hace referencia a un conjunto de caracteres formando un texto.\n",
        "\n",
        "Podemos crear Strings cuando atribuimos un dato a una variable entre comillas sencillas (`'`) o comillas dobles (`\"`)."
      ],
      "metadata": {
        "id": "vlo2-DXusv3s"
      }
    },
    {
      "cell_type": "code",
      "source": [
        "t = 'Alura'\n",
        "type(t)"
      ],
      "metadata": {
        "colab": {
          "base_uri": "https://localhost:8080/"
        },
        "id": "Nq4VxWz0t3Sw",
        "outputId": "1a6aced3-94af-438d-cac3-8203ddec2952"
      },
      "execution_count": null,
      "outputs": [
        {
          "output_type": "execute_result",
          "data": {
            "text/plain": [
              "str"
            ]
          },
          "metadata": {},
          "execution_count": 24
        }
      ]
    },
    {
      "cell_type": "markdown",
      "source": [
        "Las variables textuales son objetos que poseen métodos que nos ayudan a formatear strings. Los métodos los podemos ejecutar al definir un objeto de acuerdo con la siguiente estructura:\n",
        "\n",
        "```\n",
        "objeto.metodo()\n",
        "```\n",
        "\n",
        "Existen métodos que no necesitan los `()`, siempre es una buena práctica verificar la documentación para cada caso."
      ],
      "metadata": {
        "id": "2e9UD_CCxqz_"
      }
    },
    {
      "cell_type": "markdown",
      "source": [
        "---\n",
        "**Situación:**\n",
        "\n",
        "Recibimos una variable con el nombre de una profesora de la escuela para añadirla a los registros. Sin embargo, necesitamos darle un tratamiento a este texto antes de insertarlo al sistema."
      ],
      "metadata": {
        "id": "p6aPmMGP4tf9"
      }
    },
    {
      "cell_type": "code",
      "source": [
        "texto = '  Micaela de los Sanyos '\n",
        "id(texto)"
      ],
      "metadata": {
        "id": "4tkS8Iit1Ccg",
        "colab": {
          "base_uri": "https://localhost:8080/"
        },
        "outputId": "89ba06d0-0f3e-48c8-f948-73ce3ade3482"
      },
      "execution_count": null,
      "outputs": [
        {
          "output_type": "execute_result",
          "data": {
            "text/plain": [
              "135890511541184"
            ]
          },
          "metadata": {},
          "execution_count": 14
        }
      ]
    },
    {
      "cell_type": "markdown",
      "source": [
        "El objetivo final es que el nombre aparezca de la siguiente forma:\n",
        "\n",
        "```\n",
        "'MICAELA DE LOS SANTOS'\n",
        "```"
      ],
      "metadata": {
        "id": "Dg2ZXSZOGzjC"
      }
    },
    {
      "cell_type": "markdown",
      "source": [
        "### [`str.upper()` ](https://docs.python.org/3/library/stdtypes.html#str.upper)\n",
        "Convierte una string a mayúsculas."
      ],
      "metadata": {
        "id": "iVTAD8q702eN"
      }
    },
    {
      "cell_type": "code",
      "source": [
        "texto.upper()"
      ],
      "metadata": {
        "colab": {
          "base_uri": "https://localhost:8080/",
          "height": 36
        },
        "id": "Golq18XZt47D",
        "outputId": "7f36f2e9-f0b0-4610-9fc5-066c137609e7"
      },
      "execution_count": null,
      "outputs": [
        {
          "output_type": "execute_result",
          "data": {
            "text/plain": [
              "'  MICAELA DE LOS SANYOS '"
            ],
            "application/vnd.google.colaboratory.intrinsic+json": {
              "type": "string"
            }
          },
          "metadata": {},
          "execution_count": 15
        }
      ]
    },
    {
      "cell_type": "markdown",
      "source": [
        "### [`str.lower()`](https://docs.python.org/3/library/stdtypes.html#str.lower)\n",
        "Convierte una string a minúsculas."
      ],
      "metadata": {
        "id": "hbDSBtMV1TpG"
      }
    },
    {
      "cell_type": "code",
      "source": [
        "texto.lower()"
      ],
      "metadata": {
        "colab": {
          "base_uri": "https://localhost:8080/",
          "height": 36
        },
        "id": "dFqN5vnut6dI",
        "outputId": "6499fc4f-21e0-4cab-e8b6-ab22d07a8928"
      },
      "execution_count": null,
      "outputs": [
        {
          "output_type": "execute_result",
          "data": {
            "text/plain": [
              "'  micaela de los sanyos '"
            ],
            "application/vnd.google.colaboratory.intrinsic+json": {
              "type": "string"
            }
          },
          "metadata": {},
          "execution_count": 16
        }
      ]
    },
    {
      "cell_type": "markdown",
      "source": [
        "### [`str.strip()`](https://docs.python.org/3/library/stdtypes.html#str.strip)\n",
        "Elimina los espacios en blanco al inicio y al final de una string."
      ],
      "metadata": {
        "id": "kz47eWM11gii"
      }
    },
    {
      "cell_type": "code",
      "source": [
        "texto.strip()"
      ],
      "metadata": {
        "colab": {
          "base_uri": "https://localhost:8080/",
          "height": 36
        },
        "id": "rW5vslz3t7UF",
        "outputId": "bddce0d7-2501-47a9-f697-fb29db927995"
      },
      "execution_count": null,
      "outputs": [
        {
          "output_type": "execute_result",
          "data": {
            "text/plain": [
              "'Micaela de los Sanyos'"
            ],
            "application/vnd.google.colaboratory.intrinsic+json": {
              "type": "string"
            }
          },
          "metadata": {},
          "execution_count": 17
        }
      ]
    },
    {
      "cell_type": "markdown",
      "source": [
        "### [`str.replace(antiguo, nuevo)`](https://docs.python.org/3/library/stdtypes.html#str.replace)\n",
        "\n",
        "Sustituye todas las ocurrencias del texto \"antiguo\" en la string por el  \"nuevo\"."
      ],
      "metadata": {
        "id": "m6notiyS1SCV"
      }
    },
    {
      "cell_type": "code",
      "source": [
        "texto.replace('y','t')"
      ],
      "metadata": {
        "colab": {
          "base_uri": "https://localhost:8080/",
          "height": 36
        },
        "id": "NNjS8uY9t8jT",
        "outputId": "7b99bb94-7dca-4ffa-9011-679432489c17"
      },
      "execution_count": null,
      "outputs": [
        {
          "output_type": "execute_result",
          "data": {
            "text/plain": [
              "'  Micaela de los Santos '"
            ],
            "application/vnd.google.colaboratory.intrinsic+json": {
              "type": "string"
            }
          },
          "metadata": {},
          "execution_count": 18
        }
      ]
    },
    {
      "cell_type": "markdown",
      "source": [
        "### Observaciones\n",
        "\n",
        "1. Los métodos devuelven una **tranformación**, no son ejecutados directamente sobre la variable donde está almacenado el texto.\n",
        "\n",
        "2. Adicionalmente, podemos acumular la ejecución de los métodos."
      ],
      "metadata": {
        "id": "zukvEjhG2Rcn"
      }
    },
    {
      "cell_type": "code",
      "source": [
        "texto"
      ],
      "metadata": {
        "colab": {
          "base_uri": "https://localhost:8080/",
          "height": 36
        },
        "id": "Dc74bw4Nvrfo",
        "outputId": "f83f4cd9-6a3e-4888-bdb0-6b9d67bd4542"
      },
      "execution_count": null,
      "outputs": [
        {
          "output_type": "execute_result",
          "data": {
            "text/plain": [
              "'  Micaela de los Sanyos '"
            ],
            "application/vnd.google.colaboratory.intrinsic+json": {
              "type": "string"
            }
          },
          "metadata": {},
          "execution_count": 19
        }
      ]
    },
    {
      "cell_type": "code",
      "source": [
        "id(texto)"
      ],
      "metadata": {
        "colab": {
          "base_uri": "https://localhost:8080/"
        },
        "id": "bXXxGMdZvvOC",
        "outputId": "898fdc9d-d68f-4bbb-c726-dcc384383204"
      },
      "execution_count": null,
      "outputs": [
        {
          "output_type": "execute_result",
          "data": {
            "text/plain": [
              "135890511541184"
            ]
          },
          "metadata": {},
          "execution_count": 20
        }
      ]
    },
    {
      "cell_type": "markdown",
      "source": [
        "Para que la transformación se pueda ejecutar debemos atribuir la salida de las transformaciones a las variables"
      ],
      "metadata": {
        "id": "1KbwfVut2h6I"
      }
    },
    {
      "cell_type": "code",
      "source": [
        "nuevo_texto = texto.strip().replace('y','t').upper()\n",
        "print(nuevo_texto)\n",
        "print(id(texto), id(nuevo_texto))"
      ],
      "metadata": {
        "colab": {
          "base_uri": "https://localhost:8080/"
        },
        "id": "76yQvtO9ty14",
        "outputId": "66f90d60-d6ac-4c6c-dc3d-42264eda12e6"
      },
      "execution_count": null,
      "outputs": [
        {
          "output_type": "stream",
          "name": "stdout",
          "text": [
            "MICAELA DE LOS SANTOS\n",
            "135890511541184 135890509669408\n"
          ]
        }
      ]
    },
    {
      "cell_type": "code",
      "source": [
        "texto = texto.strip().replace('y','t').upper()\n",
        "print(texto)\n",
        "print(id(texto), id(nuevo_texto))"
      ],
      "metadata": {
        "colab": {
          "base_uri": "https://localhost:8080/"
        },
        "id": "RfCJjg5YwdqA",
        "outputId": "42734077-1a70-4af6-b205-6ecff6679423"
      },
      "execution_count": null,
      "outputs": [
        {
          "output_type": "stream",
          "name": "stdout",
          "text": [
            "MICAELA DE LOS SANTOS\n",
            "135890510071328 135890509669408\n"
          ]
        }
      ]
    },
    {
      "cell_type": "markdown",
      "source": [
        "## Capturando datos\n",
        "\n",
        "En algunas aplicaciones necesitamos capturar los valores del usuario de nuestro proyecto. En python, logramos capturar los datos del usuario a través del comando [`input()`](https://docs.python.org/3/library/functions.html#input).\n",
        "\n",
        "Para ejecutar la captura debemos atribuir el resultado de esta función a una variable."
      ],
      "metadata": {
        "id": "0h9Fh5G9kHCa"
      }
    },
    {
      "cell_type": "code",
      "source": [
        "nombre = input(\"Escribe tu nombre: \")"
      ],
      "metadata": {
        "colab": {
          "base_uri": "https://localhost:8080/"
        },
        "id": "L_cCu4T2paAA",
        "outputId": "fa43eb16-4851-4078-d41a-f5e3ff1abb58"
      },
      "execution_count": null,
      "outputs": [
        {
          "name": "stdout",
          "output_type": "stream",
          "text": [
            "Escribe tu nombre: Álvaro\n"
          ]
        }
      ]
    },
    {
      "cell_type": "code",
      "source": [
        "type(nombre)"
      ],
      "metadata": {
        "colab": {
          "base_uri": "https://localhost:8080/"
        },
        "id": "ZY6oZuxKt_B-",
        "outputId": "68aaae37-b0a9-4081-dace-1d64b3db7e2a"
      },
      "execution_count": null,
      "outputs": [
        {
          "output_type": "execute_result",
          "data": {
            "text/plain": [
              "str"
            ]
          },
          "metadata": {},
          "execution_count": 35
        }
      ]
    },
    {
      "cell_type": "markdown",
      "source": [
        "La salida de este comando siempre será una *string*. Esto quiere decir que aunque capturemos un valor de variable numérica, este será de tipo string.\n",
        "\n",
        "Entonces, será necesario **convertir el resultado cuando no se desea utilizar el valor como tipo string**."
      ],
      "metadata": {
        "id": "7z7hcLCk_aCY"
      }
    },
    {
      "cell_type": "markdown",
      "source": [
        "Existen funciones para la conversión de valores:\n",
        "\n",
        "- Enteros: [`int(dato_para_conversion)`](https://docs.python.org/3/library/functions.html#int)\n",
        "- Coma flotante: [`float(dato_para_conversion)`](https://docs.python.org/3/library/functions.html#float)\n",
        "- String: [`str(dato_para_conversion)`](https://docs.python.org/3/library/functions.html#func-str)\n",
        "- Booleano: [`bool(dato_para_conversion)`](https://docs.python.org/3/library/functions.html#bool)"
      ],
      "metadata": {
        "id": "TOlegATj1Jfp"
      }
    },
    {
      "cell_type": "code",
      "source": [
        "ano_admision = int(input('Digita el año de admisión: '))"
      ],
      "metadata": {
        "colab": {
          "base_uri": "https://localhost:8080/"
        },
        "id": "VMZvLph4xgtK",
        "outputId": "ebbae0bb-6a27-411c-b8d5-2c8f58397086"
      },
      "execution_count": null,
      "outputs": [
        {
          "name": "stdout",
          "output_type": "stream",
          "text": [
            "Digita el año de admisión: 2020\n"
          ]
        }
      ]
    },
    {
      "cell_type": "code",
      "source": [
        "type(ano_admision)"
      ],
      "metadata": {
        "colab": {
          "base_uri": "https://localhost:8080/"
        },
        "id": "QaPvVfk8xg9O",
        "outputId": "f05a36b9-cbed-4402-c631-85eb482a12bd"
      },
      "execution_count": null,
      "outputs": [
        {
          "output_type": "execute_result",
          "data": {
            "text/plain": [
              "int"
            ]
          },
          "metadata": {},
          "execution_count": 28
        }
      ]
    },
    {
      "cell_type": "code",
      "source": [
        "nota_admision = float(input('Digita la nota de admisión: '))"
      ],
      "metadata": {
        "colab": {
          "base_uri": "https://localhost:8080/"
        },
        "id": "QiIiQ6bvx8hU",
        "outputId": "97ed2da3-aaf3-465c-e613-7b2d36988748"
      },
      "execution_count": null,
      "outputs": [
        {
          "name": "stdout",
          "output_type": "stream",
          "text": [
            "Digita la nota de admisión: 20\n"
          ]
        }
      ]
    },
    {
      "cell_type": "code",
      "source": [
        "type(nota_admision)"
      ],
      "metadata": {
        "colab": {
          "base_uri": "https://localhost:8080/"
        },
        "id": "l6iTBqLVzhPW",
        "outputId": "42e74960-6d41-436c-bfcf-bf15c8b2a460"
      },
      "execution_count": null,
      "outputs": [
        {
          "output_type": "execute_result",
          "data": {
            "text/plain": [
              "float"
            ]
          },
          "metadata": {},
          "execution_count": 25
        }
      ]
    },
    {
      "cell_type": "markdown",
      "source": [
        "Trataremos de representar mejor ahora el resultado de la transformación que obtuvimos. Nosotros podemos formatear y presentar nuestro resultado mezclando strings con valores no textuales.\n",
        "\n",
        "Para ello utilizamos la estructura de formatación `f` con strings."
      ],
      "metadata": {
        "id": "yNI2-XTbB3aS"
      }
    },
    {
      "cell_type": "code",
      "source": [
        "print(f'\\tEl año de admisión fue: {ano_admision} \\n\\tLa nota de admisión fue: {nota_admision}')"
      ],
      "metadata": {
        "colab": {
          "base_uri": "https://localhost:8080/"
        },
        "id": "kVOCVpuWyI2T",
        "outputId": "1db58e2d-4f52-4cad-e4ed-63fc0b2bc01d"
      },
      "execution_count": null,
      "outputs": [
        {
          "output_type": "stream",
          "name": "stdout",
          "text": [
            "\tEl año de admisión fue: 2020 \n",
            "\tLa nota de admisión fue: 20.0\n"
          ]
        }
      ]
    },
    {
      "cell_type": "code",
      "source": [],
      "metadata": {
        "id": "uNybtSpdlRO_"
      },
      "execution_count": null,
      "outputs": []
    },
    {
      "cell_type": "markdown",
      "source": [
        "## Unicode"
      ],
      "metadata": {
        "id": "DOPzKdgbS0Vk"
      }
    },
    {
      "cell_type": "markdown",
      "source": [
        "La tabla Unicode es una tabla de codificación de caracteres que asocia códigos numéricos con caracteres específicos. Su objetivo era incluir caracteres de todos los idiomas y sistemas de escritura existentes en el mundo"
      ],
      "metadata": {
        "id": "gfW5wioTToM2"
      }
    },
    {
      "cell_type": "markdown",
      "source": [
        "[Documentación de Unicode aquí](https://www.unicode.org/versions/stats/)"
      ],
      "metadata": {
        "id": "mBbt9gINTcU4"
      }
    },
    {
      "cell_type": "markdown",
      "source": [
        "### Ejemplos:"
      ],
      "metadata": {
        "id": "EjZGFNSETwiC"
      }
    },
    {
      "cell_type": "code",
      "source": [
        "chr(64)"
      ],
      "metadata": {
        "colab": {
          "base_uri": "https://localhost:8080/",
          "height": 35
        },
        "id": "yAj0JUuySvM9",
        "outputId": "a57c8159-78bf-41a8-a548-fba1543e5e9b"
      },
      "execution_count": null,
      "outputs": [
        {
          "output_type": "execute_result",
          "data": {
            "text/plain": [
              "'@'"
            ],
            "application/vnd.google.colaboratory.intrinsic+json": {
              "type": "string"
            }
          },
          "metadata": {},
          "execution_count": 53
        }
      ]
    },
    {
      "cell_type": "code",
      "source": [
        "chr(72)+ chr(111) + chr(108) + chr(97)"
      ],
      "metadata": {
        "colab": {
          "base_uri": "https://localhost:8080/",
          "height": 35
        },
        "id": "vVy_ZxX-Sv31",
        "outputId": "17f33947-13df-4d03-cd11-d26a877b8692"
      },
      "execution_count": null,
      "outputs": [
        {
          "output_type": "execute_result",
          "data": {
            "text/plain": [
              "'Hola'"
            ],
            "application/vnd.google.colaboratory.intrinsic+json": {
              "type": "string"
            }
          },
          "metadata": {},
          "execution_count": 54
        }
      ]
    },
    {
      "cell_type": "markdown",
      "source": [
        "## Diversos formatos de print()\n",
        "Existen diversos formatos de print() como el uso del operador de formateo de cadena o la función .format()."
      ],
      "metadata": {
        "id": "hZHFNREZUDOU"
      }
    },
    {
      "cell_type": "markdown",
      "source": [],
      "metadata": {
        "id": "N_d8fSLLUbi9"
      }
    },
    {
      "cell_type": "code",
      "source": [
        "nombre_alumno = 'Penélope Camacho'\n",
        "print('Nombre del alumno: %s' %(nombre_alumno))"
      ],
      "metadata": {
        "colab": {
          "base_uri": "https://localhost:8080/"
        },
        "id": "-gYi2FrLUcKy",
        "outputId": "556d9f8a-02db-42bc-a98b-8ce882c2558d"
      },
      "execution_count": null,
      "outputs": [
        {
          "output_type": "stream",
          "name": "stdout",
          "text": [
            "Nombre del alumno: Penélope Camacho\n"
          ]
        }
      ]
    },
    {
      "cell_type": "code",
      "source": [
        "nombre_alumno = 'Penélope Camacho'\n",
        "edad_alumno = 11\n",
        "media_alumno = 9.95\n",
        "print('Nombre del alumno es %s, tiene %d años y su media es %f.' %(nombre_alumno, edad_alumno, media_alumno))"
      ],
      "metadata": {
        "colab": {
          "base_uri": "https://localhost:8080/"
        },
        "id": "vF7JPgqHUijW",
        "outputId": "4677c19d-b552-4dc1-859f-08701bc1034e"
      },
      "execution_count": null,
      "outputs": [
        {
          "output_type": "stream",
          "name": "stdout",
          "text": [
            "Nombre del alumno es Penélope Camacho, tiene 11 años y su media es 9.950000.\n"
          ]
        }
      ]
    },
    {
      "cell_type": "code",
      "source": [
        "print('Nombre del alumno es %s, tiene %d años y su media es %.2f.' %(nombre_alumno, edad_alumno, media_alumno))"
      ],
      "metadata": {
        "colab": {
          "base_uri": "https://localhost:8080/"
        },
        "id": "P25BlZ15UlIc",
        "outputId": "8827c5fd-7233-41fc-e15c-22f4bb9163fd"
      },
      "execution_count": null,
      "outputs": [
        {
          "output_type": "stream",
          "name": "stdout",
          "text": [
            "Nombre del alumno es Penélope Camacho, tiene 11 años y su media es 9.95.\n"
          ]
        }
      ]
    },
    {
      "cell_type": "code",
      "source": [
        "x = True\n",
        "print(\"Valor de x: %s\" % str(x))"
      ],
      "metadata": {
        "colab": {
          "base_uri": "https://localhost:8080/"
        },
        "id": "t27JfZeTUqvA",
        "outputId": "cb818a0c-d7b1-4a24-9704-16ea45b59e29"
      },
      "execution_count": null,
      "outputs": [
        {
          "output_type": "stream",
          "name": "stdout",
          "text": [
            "Valor de x: True\n"
          ]
        }
      ]
    },
    {
      "cell_type": "code",
      "source": [
        "nombre_alumno = 'Penélope Camacho'\n",
        "print('Nombre del alumno: {}'.format(nombre_alumno))"
      ],
      "metadata": {
        "colab": {
          "base_uri": "https://localhost:8080/"
        },
        "id": "0c_UkBijUtT9",
        "outputId": "c8fa9467-516b-4d72-b1b4-f6144c891398"
      },
      "execution_count": null,
      "outputs": [
        {
          "output_type": "stream",
          "name": "stdout",
          "text": [
            "Nombre del alumno: Penélope Camacho\n"
          ]
        }
      ]
    },
    {
      "cell_type": "code",
      "source": [
        "nombre_alumno = 'Fabricio Daniel'\n",
        "edad_alumno = 15\n",
        "media_alumno = 9.95\n",
        "print('Nombre del alumno es {}, tiene {} años y su media es {}.' .format(nombre_alumno, edad_alumno, media_alumno))"
      ],
      "metadata": {
        "colab": {
          "base_uri": "https://localhost:8080/"
        },
        "id": "jSUP-mgFUx1S",
        "outputId": "ecb6aa1a-d39c-4efe-d10a-8ab0cf25fbbd"
      },
      "execution_count": null,
      "outputs": [
        {
          "output_type": "stream",
          "name": "stdout",
          "text": [
            "Nombre del alumno es Fabricio Daniel, tiene 15 años y su media es 9.95.\n"
          ]
        }
      ]
    },
    {
      "cell_type": "code",
      "source": [
        "print(\"Estudiar es un esfuerzo constante,\\nEs como cultivar una planta,\\nNecesitamos dedicación y paciencia,\\nPara ver madurar el fruto.\")"
      ],
      "metadata": {
        "colab": {
          "base_uri": "https://localhost:8080/"
        },
        "id": "tsE2lxb9UzOL",
        "outputId": "15e69bce-bb5d-4ceb-cc02-80f2dcb764e2"
      },
      "execution_count": null,
      "outputs": [
        {
          "output_type": "stream",
          "name": "stdout",
          "text": [
            "Estudiar es un esfuerzo constante,\n",
            "Es como cultivar una planta,\n",
            "Necesitamos dedicación y paciencia,\n",
            "Para ver madurar el fruto.\n"
          ]
        }
      ]
    },
    {
      "cell_type": "code",
      "source": [
        "print('Cantidad\\tCalidad\\n5 muestras\\tAlta\\n3 muestras\\tBaja')"
      ],
      "metadata": {
        "colab": {
          "base_uri": "https://localhost:8080/"
        },
        "id": "NM7Mf51ZU1pf",
        "outputId": "6f945812-2daa-46de-b753-af47b4dcb626"
      },
      "execution_count": null,
      "outputs": [
        {
          "output_type": "stream",
          "name": "stdout",
          "text": [
            "Cantidad\tCalidad\n",
            "5 muestras\tAlta\n",
            "3 muestras\tBaja\n"
          ]
        }
      ]
    },
    {
      "cell_type": "code",
      "source": [
        "print(\"Ruta del archivo: C:\\\\archivos\\\\documento.csv\")"
      ],
      "metadata": {
        "colab": {
          "base_uri": "https://localhost:8080/"
        },
        "id": "la2-Fek8U6wZ",
        "outputId": "9fa15560-b98a-4eae-8587-a3fd1f5fcdeb"
      },
      "execution_count": null,
      "outputs": [
        {
          "output_type": "stream",
          "name": "stdout",
          "text": [
            "Ruta del archivo: C:\\archivos\\documento.csv\n"
          ]
        }
      ]
    },
    {
      "cell_type": "markdown",
      "source": [],
      "metadata": {
        "id": "pDR5eB51Upsl"
      }
    },
    {
      "cell_type": "code",
      "source": [
        "print(\"Una vez oí: \\\"Los frutos del conocimiento son los más dulces y duraderos de todos.\\\"\")"
      ],
      "metadata": {
        "colab": {
          "base_uri": "https://localhost:8080/"
        },
        "id": "TbUMLKvgU8lT",
        "outputId": "a8443532-69d0-466c-b149-e4e4f998adeb"
      },
      "execution_count": null,
      "outputs": [
        {
          "output_type": "stream",
          "name": "stdout",
          "text": [
            "Una vez oí: \"Los frutos del conocimiento son los más dulces y duraderos de todos.\"\n"
          ]
        }
      ]
    },
    {
      "cell_type": "code",
      "source": [
        "print('Mi profesora una vez dijo: \\'Estudiar es la clave del éxito.\\'')"
      ],
      "metadata": {
        "colab": {
          "base_uri": "https://localhost:8080/"
        },
        "id": "n8I2bt2vVAYL",
        "outputId": "f270df43-37e5-4eb9-8db6-d4c3caacbf94"
      },
      "execution_count": null,
      "outputs": [
        {
          "output_type": "stream",
          "name": "stdout",
          "text": [
            "Mi profesora una vez dijo: 'Estudiar es la clave del éxito.'\n"
          ]
        }
      ]
    },
    {
      "cell_type": "markdown",
      "source": [
        "## Desafios del aula 2"
      ],
      "metadata": {
        "id": "hwEsD11aaSkp"
      }
    },
    {
      "cell_type": "markdown",
      "source": [
        "### Recopilación y muestra de datos"
      ],
      "metadata": {
        "id": "6XA2XADPa1GI"
      }
    },
    {
      "cell_type": "markdown",
      "source": [
        "1 - Crea un programa que solicite al usuario que escriba su nombre y luego imprima \"Hola, [nombre].\"\n"
      ],
      "metadata": {
        "id": "cpmlidVyalic"
      }
    },
    {
      "cell_type": "code",
      "source": [
        "nombre = input(\"Escribe tu nombre: \")\n",
        "print(f\"Hola, {nombre}.\")"
      ],
      "metadata": {
        "colab": {
          "base_uri": "https://localhost:8080/"
        },
        "id": "-nM1R01UcCVv",
        "outputId": "6a7f75dc-8d44-458a-f784-0f6e42195236"
      },
      "execution_count": null,
      "outputs": [
        {
          "output_type": "stream",
          "name": "stdout",
          "text": [
            "Escribe tu nombre: Oscar\n",
            "Hola, Oscar.\n"
          ]
        }
      ]
    },
    {
      "cell_type": "markdown",
      "source": [
        "\n",
        "2 - Crea un programa que solicite al usuario que escriba su nombre y edad, y luego imprima \"Hola, [nombre], tienes [edad] años.\"\n"
      ],
      "metadata": {
        "id": "Zns1oRZZalfn"
      }
    },
    {
      "cell_type": "code",
      "source": [
        "nombre = str(input(\"Escribe tu nombre: \"))\n",
        "edad = int(input(\"Escribe tu edad: \"))\n",
        "print(f\"Hola, {nombre}, tienes {edad} años.\")"
      ],
      "metadata": {
        "colab": {
          "base_uri": "https://localhost:8080/"
        },
        "id": "HKlQoxyAcFXh",
        "outputId": "81f1e27a-126c-4f83-ee37-48668d0ebe2e"
      },
      "execution_count": null,
      "outputs": [
        {
          "output_type": "stream",
          "name": "stdout",
          "text": [
            "Escribe tu nombre: Oscar\n",
            "Escribe tu edad: 23\n",
            "Hola, Oscar, tienes 23 años.\n"
          ]
        }
      ]
    },
    {
      "cell_type": "markdown",
      "source": [
        "\n",
        "3 - Crea un programa que solicite al usuario que escriba su nombre, edad y altura en metros, y luego imprima \"Hola, [nombre], tienes [edad] años y mides [altura] metros.\"\n"
      ],
      "metadata": {
        "id": "71ygqbMIaldM"
      }
    },
    {
      "cell_type": "code",
      "source": [
        "nombre = str(input(\"Escribe tu nombre: \"))\n",
        "edad = int(input(\"Escribe tu edad: \"))\n",
        "altura = float(input(\"Escribe tu altura en metros (ejemplo: 1.75): \"))\n",
        "print(f\"Hola, {nombre}, tienes {edad} años y mides {altura} metros.\")"
      ],
      "metadata": {
        "colab": {
          "base_uri": "https://localhost:8080/"
        },
        "id": "qZFA136GcQIF",
        "outputId": "dfba8f8d-205e-4d3d-8c81-00a16e66a101"
      },
      "execution_count": null,
      "outputs": [
        {
          "output_type": "stream",
          "name": "stdout",
          "text": [
            "Escribe tu nombre: Oscar\n",
            "Escribe tu edad: 12\n",
            "Escribe tu altura en metros (ejemplo: 1.75): 1.69\n",
            "Hola, Oscar, tienes 12 años y mides 1.69 metros.\n"
          ]
        }
      ]
    },
    {
      "cell_type": "markdown",
      "source": [
        "### Calculadora con operadores"
      ],
      "metadata": {
        "id": "b6kKiJUuala7"
      }
    },
    {
      "cell_type": "markdown",
      "source": [
        "4 - Crea un programa que solicite dos valores numéricos al usuario y luego imprima la suma de ambos valores."
      ],
      "metadata": {
        "id": "8gWlqiUGalVm"
      }
    },
    {
      "cell_type": "code",
      "source": [
        "num1 = float(input(\"Escribe el primer número: \"))\n",
        "num2 = float(input(\"Escribe el segundo número: \"))\n",
        "print(f\"La suma es: {num1 + num2}\")"
      ],
      "metadata": {
        "colab": {
          "base_uri": "https://localhost:8080/"
        },
        "id": "cy6c9gs9cdZR",
        "outputId": "cb059351-d2e6-40b8-bee0-9a6d68a1137a"
      },
      "execution_count": null,
      "outputs": [
        {
          "output_type": "stream",
          "name": "stdout",
          "text": [
            "Escribe el primer número: 12.4\n",
            "Escribe el segundo número: 12.1\n",
            "La suma es: 24.5\n"
          ]
        }
      ]
    },
    {
      "cell_type": "markdown",
      "source": [
        "5 - Crea un programa que solicite tres valores numéricos al usuario y luego imprima la suma de los tres valores."
      ],
      "metadata": {
        "id": "ul2Gn4JQalSP"
      }
    },
    {
      "cell_type": "code",
      "source": [
        "num1 = float(input(\"Escribe el primer número: \"))\n",
        "num2 = float(input(\"Escribe el segundo número: \"))\n",
        "num3 = float(input(\"Escribe el tercer número: \"))\n",
        "print(f\"La suma es: {num1 + num2 + num3}\")"
      ],
      "metadata": {
        "colab": {
          "base_uri": "https://localhost:8080/"
        },
        "id": "jUbR0DOzchKE",
        "outputId": "02c4fe97-10c1-4e36-bae9-efb671adf3e2"
      },
      "execution_count": null,
      "outputs": [
        {
          "output_type": "stream",
          "name": "stdout",
          "text": [
            "Escribe el primer número: 1\n",
            "Escribe el segundo número: 2\n",
            "Escribe el tercer número: 10\n",
            "La suma es: 13.0\n"
          ]
        }
      ]
    },
    {
      "cell_type": "markdown",
      "source": [
        "6 - Crea un programa que solicite dos valores numéricos al usuario y luego imprima la resta del primero menos el segundo valor."
      ],
      "metadata": {
        "id": "051-t4JXalNv"
      }
    },
    {
      "cell_type": "code",
      "source": [
        "num1 = float(input(\"Escribe el primer número: \"))\n",
        "num2 = float(input(\"Escribe el segundo número: \"))\n",
        "print(f\"La resta es: {num1 - num2}\")"
      ],
      "metadata": {
        "colab": {
          "base_uri": "https://localhost:8080/"
        },
        "id": "oJszGL_Zckwr",
        "outputId": "ad34d004-cf52-4c26-82f8-83869fc279bb"
      },
      "execution_count": null,
      "outputs": [
        {
          "output_type": "stream",
          "name": "stdout",
          "text": [
            "Escribe el primer número: 12\n",
            "Escribe el segundo número: 5\n",
            "La resta es: 7.0\n"
          ]
        }
      ]
    },
    {
      "cell_type": "markdown",
      "source": [
        "7 - Crea un programa que solicite dos valores numéricos al usuario y luego imprima la multiplicación de los dos valores."
      ],
      "metadata": {
        "id": "jWUqJSMrbttb"
      }
    },
    {
      "cell_type": "code",
      "source": [
        "num1 = float(input(\"Escribe el primer número: \"))\n",
        "num2 = float(input(\"Escribe el segundo número: \"))\n",
        "print(f\"La multiplicación es: {num1 * num2}\")"
      ],
      "metadata": {
        "colab": {
          "base_uri": "https://localhost:8080/"
        },
        "id": "fh8L2U8_coBA",
        "outputId": "595ca8cb-5837-4c35-96f2-b0c0d62adb37"
      },
      "execution_count": null,
      "outputs": [
        {
          "output_type": "stream",
          "name": "stdout",
          "text": [
            "Escribe el primer número: 1.2\n",
            "Escribe el segundo número: 1.5\n",
            "La multiplicación es: 1.7999999999999998\n"
          ]
        }
      ]
    },
    {
      "cell_type": "markdown",
      "source": [
        "8 - Crea un programa que solicite dos valores numéricos, un numerador y un denominador, y realice la división entre los dos valores. Asegúrate de que el valor del denominador no sea igual a 0."
      ],
      "metadata": {
        "id": "E2JqIUf_bxAT"
      }
    },
    {
      "cell_type": "code",
      "source": [
        "num1 = float(input(\"Escribe el numerador: \"))\n",
        "num2 = float(input(\"Escribe el denominador: \"))\n",
        "if num2 != 0:\n",
        "    print(f\"La división es: {num1 / num2}\")\n",
        "else:\n",
        "    print(\"Error: el denominador no puede ser 0.\")"
      ],
      "metadata": {
        "colab": {
          "base_uri": "https://localhost:8080/"
        },
        "id": "mkq6kiccdf0S",
        "outputId": "966e7ec4-92b2-458c-cdfb-a5f7be34e32d"
      },
      "execution_count": null,
      "outputs": [
        {
          "output_type": "stream",
          "name": "stdout",
          "text": [
            "Escribe el numerador: 12\n",
            "Escribe el denominador: 5\n",
            "La división es: 2.4\n"
          ]
        }
      ]
    },
    {
      "cell_type": "markdown",
      "source": [
        "9 - Crea un programa que solicite dos valores numéricos, un operador y una potencia, y realice la exponenciación entre estos dos valores."
      ],
      "metadata": {
        "id": "3fAxMftyby_m"
      }
    },
    {
      "cell_type": "code",
      "source": [
        "base = float(input(\"Escribe la base: \"))\n",
        "exponente = float(input(\"Escribe el exponente: \"))\n",
        "print(f\"El resultado de la potencia es: {base ** exponente}\")"
      ],
      "metadata": {
        "colab": {
          "base_uri": "https://localhost:8080/"
        },
        "id": "Zz6cnqYMdkA8",
        "outputId": "f7a6ae49-4142-4bb1-8666-54770c5221d6"
      },
      "execution_count": null,
      "outputs": [
        {
          "output_type": "stream",
          "name": "stdout",
          "text": [
            "Escribe la base: 12\n",
            "Escribe el exponente: 2\n",
            "El resultado de la potencia es: 144.0\n"
          ]
        }
      ]
    },
    {
      "cell_type": "markdown",
      "source": [
        "10 - Crea un programa que solicite dos valores numéricos, un numerador y un denominador, y realice la división entera entre los dos valores. Asegúrate de que el valor del denominador no sea igual a 0."
      ],
      "metadata": {
        "id": "b46PaFVtb1LR"
      }
    },
    {
      "cell_type": "code",
      "source": [
        "num1 = int(input(\"Escribe el numerador (entero): \"))\n",
        "num2 = int(input(\"Escribe el denominador (entero): \"))\n",
        "if num2 != 0:\n",
        "    print(f\"La división entera es: {num1 // num2}\")\n",
        "else:\n",
        "    print(\"Error: el denominador no puede ser 0.\")"
      ],
      "metadata": {
        "colab": {
          "base_uri": "https://localhost:8080/"
        },
        "id": "9_DcqYzZdntK",
        "outputId": "3489ccaa-e3ee-4c95-b6d2-9d7793ea1acb"
      },
      "execution_count": null,
      "outputs": [
        {
          "output_type": "stream",
          "name": "stdout",
          "text": [
            "Escribe el numerador (entero): 12\n",
            "Escribe el denominador (entero): 5\n",
            "La división entera es: 2\n"
          ]
        }
      ]
    },
    {
      "cell_type": "markdown",
      "source": [
        "11 - Crea un programa que solicite dos valores numéricos, un numerador y un denominador, y devuelva el resto de la división entre los dos valores. Asegúrate de que el valor del denominador no sea igual a 0."
      ],
      "metadata": {
        "id": "BBDSl3Rtb204"
      }
    },
    {
      "cell_type": "code",
      "source": [
        "num1 = int(input(\"Escribe el numerador (entero): \"))\n",
        "num2 = int(input(\"Escribe el denominador (entero): \"))\n",
        "if num2 != 0:\n",
        "    print(f\"El resto de la división es: {num1 % num2}\")\n",
        "else:\n",
        "    print(\"Error: el denominador no puede ser 0.\")"
      ],
      "metadata": {
        "colab": {
          "base_uri": "https://localhost:8080/"
        },
        "id": "ezaFsmoXdtPd",
        "outputId": "bf4d7864-8dae-4be4-dca7-6b1ec9c368f2"
      },
      "execution_count": null,
      "outputs": [
        {
          "output_type": "stream",
          "name": "stdout",
          "text": [
            "Escribe el numerador (entero): 12\n",
            "Escribe el denominador (entero): 2\n",
            "El resto de la división es: 0\n"
          ]
        }
      ]
    },
    {
      "cell_type": "markdown",
      "source": [
        "12 - Crea un código que solicite las 3 notas de un estudiante e imprima el promedio de las notas."
      ],
      "metadata": {
        "id": "1LfG63nHb40m"
      }
    },
    {
      "cell_type": "code",
      "source": [
        "nota1 = float(input(\"Escribe la nota 1: \"))\n",
        "nota2 = float(input(\"Escribe la nota 2: \"))\n",
        "nota3 = float(input(\"Escribe la nota 3: \"))\n",
        "promedio = (nota1 + nota2 + nota3) / 3\n",
        "print(f\"El promedio de las notas es: {promedio}\")\n"
      ],
      "metadata": {
        "colab": {
          "base_uri": "https://localhost:8080/"
        },
        "id": "JVJetZnIdz5p",
        "outputId": "2bbaedfa-d9dd-475d-a4f0-2b6000494808"
      },
      "execution_count": null,
      "outputs": [
        {
          "output_type": "stream",
          "name": "stdout",
          "text": [
            "Escribe la nota 1: 20\n",
            "Escribe la nota 2: 19.5\n",
            "Escribe la nota 3: 19\n",
            "El promedio de las notas es: 19.5\n"
          ]
        }
      ]
    },
    {
      "cell_type": "markdown",
      "source": [
        "13 - Crea un código que calcule e imprima el promedio ponderado de los números 5, 12, 20 y 15 con pesos respectivamente iguales a 1, 2, 3 y 4."
      ],
      "metadata": {
        "id": "KQZ8hlj5b7GK"
      }
    },
    {
      "cell_type": "code",
      "source": [
        "numeros = [5, 12, 20, 15]\n",
        "pesos = [1, 2, 3, 4]\n",
        "suma_ponderada = sum(n * p for n, p in zip(numeros, pesos))\n",
        "suma_pesos = sum(pesos)\n",
        "promedio_ponderado = suma_ponderada / suma_pesos\n",
        "print(f\"El promedio ponderado es: {promedio_ponderado}\")"
      ],
      "metadata": {
        "colab": {
          "base_uri": "https://localhost:8080/"
        },
        "id": "HHV_tO1Dd3-I",
        "outputId": "3c89d0cf-fb64-4d92-ecdd-d03eae7c5924"
      },
      "execution_count": null,
      "outputs": [
        {
          "output_type": "stream",
          "name": "stdout",
          "text": [
            "El promedio ponderado es: 14.9\n"
          ]
        }
      ]
    },
    {
      "cell_type": "markdown",
      "source": [
        "### Editando textos"
      ],
      "metadata": {
        "id": "IrJMEipUalLk"
      }
    },
    {
      "cell_type": "markdown",
      "source": [
        "14 - Crea una variable llamada \"frase\" y asígnale una cadena de texto de tu elección. Luego, imprime la frase en pantalla."
      ],
      "metadata": {
        "id": "hVNUdmitalJX"
      }
    },
    {
      "cell_type": "code",
      "source": [
        "frase = \"Esta es una frase de ejemplo.\"\n",
        "print(frase)"
      ],
      "metadata": {
        "colab": {
          "base_uri": "https://localhost:8080/"
        },
        "id": "tnu8SeAvd7x8",
        "outputId": "266b4140-0cd7-494f-9c26-0ad5ad86a796"
      },
      "execution_count": null,
      "outputs": [
        {
          "output_type": "stream",
          "name": "stdout",
          "text": [
            "Esta es una frase de ejemplo.\n"
          ]
        }
      ]
    },
    {
      "cell_type": "markdown",
      "source": [
        "\n",
        "15 - Crea un código que solicite una frase y luego imprima la frase en pantalla."
      ],
      "metadata": {
        "id": "GeaE373bbINm"
      }
    },
    {
      "cell_type": "code",
      "source": [
        "frase = input(\"Escribe una frase: \")\n",
        "print(frase)\n"
      ],
      "metadata": {
        "colab": {
          "base_uri": "https://localhost:8080/"
        },
        "id": "5q4PGkJ7d9x_",
        "outputId": "e7fdfed3-e1f8-4eac-bf77-c52b4ffe46b6"
      },
      "execution_count": null,
      "outputs": [
        {
          "output_type": "stream",
          "name": "stdout",
          "text": [
            "Escribe una frase: HOLAAA soy Oscar\n",
            "HOLAAA soy Oscar\n"
          ]
        }
      ]
    },
    {
      "cell_type": "markdown",
      "source": [
        "16 - Crea un código que solicite una frase al usuario y luego imprima la misma frase ingresada pero en mayúsculas."
      ],
      "metadata": {
        "id": "xqyCzywzbKNv"
      }
    },
    {
      "cell_type": "code",
      "source": [
        "frase = input(\"Escribe una frase: \")\n",
        "print(frase.upper())"
      ],
      "metadata": {
        "colab": {
          "base_uri": "https://localhost:8080/"
        },
        "id": "HuKUmVJeeBd4",
        "outputId": "36e99137-c78d-4d0b-cc1e-95a6b6c4ed94"
      },
      "execution_count": null,
      "outputs": [
        {
          "output_type": "stream",
          "name": "stdout",
          "text": [
            "Escribe una frase: hola soy Oscar\n",
            "HOLA SOY OSCAR\n"
          ]
        }
      ]
    },
    {
      "cell_type": "markdown",
      "source": [
        "17 - Crea un código que solicite una frase al usuario y luego imprima la misma frase ingresada pero en minúsculas."
      ],
      "metadata": {
        "id": "kNJ4eApRbTrg"
      }
    },
    {
      "cell_type": "code",
      "source": [
        "frase = input(\"Escribe una frase: \")\n",
        "print(frase.lower())"
      ],
      "metadata": {
        "colab": {
          "base_uri": "https://localhost:8080/"
        },
        "id": "vmkJj_WAeGGa",
        "outputId": "3f018214-3326-457a-f199-f7dd66bcb53e"
      },
      "execution_count": null,
      "outputs": [
        {
          "output_type": "stream",
          "name": "stdout",
          "text": [
            "Escribe una frase: Hola Soy Oscar\n",
            "hola soy oscar\n"
          ]
        }
      ]
    },
    {
      "cell_type": "markdown",
      "source": [
        "18 - Crea una variable llamada \"frase\" y asígnale una cadena de texto de tu elección. Luego, imprime la frase sin espacios en blanco al principio y al final."
      ],
      "metadata": {
        "id": "Pl_s8765bVvL"
      }
    },
    {
      "cell_type": "code",
      "source": [
        "frase = \"   Espacios al inicio y final   \"\n",
        "print(frase.strip())"
      ],
      "metadata": {
        "colab": {
          "base_uri": "https://localhost:8080/"
        },
        "id": "O8f-pudZeJrF",
        "outputId": "3027624b-85d5-4b63-c6ee-1a4103bf856d"
      },
      "execution_count": null,
      "outputs": [
        {
          "output_type": "stream",
          "name": "stdout",
          "text": [
            "Espacios al inicio y final\n"
          ]
        }
      ]
    },
    {
      "cell_type": "markdown",
      "source": [
        "19 - Crea un código que solicite una frase al usuario y luego imprima la misma frase sin espacios en blanco al principio y al final."
      ],
      "metadata": {
        "id": "II4WlZ26bYmn"
      }
    },
    {
      "cell_type": "code",
      "source": [
        "frase = input(\"Escribe una frase: \")\n",
        "print(frase.strip())"
      ],
      "metadata": {
        "colab": {
          "base_uri": "https://localhost:8080/"
        },
        "id": "dfbY8kvVePa5",
        "outputId": "fc67ef24-acaa-4aee-d506-6997bf2c2ab8"
      },
      "execution_count": null,
      "outputs": [
        {
          "output_type": "stream",
          "name": "stdout",
          "text": [
            "Escribe una frase:       < este espacio bue borrado >      \n",
            "< este espacio bue borrado >\n"
          ]
        }
      ]
    },
    {
      "cell_type": "markdown",
      "source": [
        "20 - Crea un código que solicite una frase al usuario y luego imprima la misma frase sin espacios en blanco al principio y al final, además de convertirla a minúsculas."
      ],
      "metadata": {
        "id": "XQvsRuCXbal0"
      }
    },
    {
      "cell_type": "code",
      "source": [
        "frase = input(\"Escribe una frase: \")\n",
        "print(frase.strip().lower())"
      ],
      "metadata": {
        "colab": {
          "base_uri": "https://localhost:8080/"
        },
        "id": "xCsGrDipeZt-",
        "outputId": "e6077c26-115f-4cfc-8231-6e23c6444eb7"
      },
      "execution_count": null,
      "outputs": [
        {
          "output_type": "stream",
          "name": "stdout",
          "text": [
            "Escribe una frase:      <- Espacio aqui , Nombre mays. OSCAR\n",
            "<- espacio aqui , nombre mays. oscar\n"
          ]
        }
      ]
    },
    {
      "cell_type": "markdown",
      "source": [
        "21 - Crea un código que solicite una frase al usuario y luego imprima la misma frase con todas las vocales \"e\" reemplazadas por la letra \"f\"."
      ],
      "metadata": {
        "id": "JFS2qYnFbcfq"
      }
    },
    {
      "cell_type": "code",
      "source": [
        "frase = input(\"Escribe una frase: \")\n",
        "print(frase.replace('e', 'f'))\n"
      ],
      "metadata": {
        "colab": {
          "base_uri": "https://localhost:8080/"
        },
        "id": "2oG1RutIegLP",
        "outputId": "18dffbef-ed36-436d-fdae-b94943342e0d"
      },
      "execution_count": null,
      "outputs": [
        {
          "output_type": "stream",
          "name": "stdout",
          "text": [
            "Escribe una frase: esperanza es lo que no pierdo\n",
            "fspfranza fs lo quf no pifrdo\n"
          ]
        }
      ]
    },
    {
      "cell_type": "markdown",
      "source": [
        "22 - Crea un código que solicite una frase al usuario y luego imprima la misma frase con todas las vocales \"a\" reemplazadas por el carácter \"@\"."
      ],
      "metadata": {
        "id": "zsqYaa7Sberj"
      }
    },
    {
      "cell_type": "code",
      "source": [
        "frase = input(\"Escribe una frase: \")\n",
        "print(frase.replace('a', '@'))"
      ],
      "metadata": {
        "colab": {
          "base_uri": "https://localhost:8080/"
        },
        "id": "QCzRA5LCemV5",
        "outputId": "5a5d4ad7-5077-4783-e8de-eeb86c73fc44"
      },
      "execution_count": null,
      "outputs": [
        {
          "output_type": "stream",
          "name": "stdout",
          "text": [
            "Escribe una frase: manzana\n",
            "m@nz@n@\n"
          ]
        }
      ]
    },
    {
      "cell_type": "markdown",
      "source": [
        "23 - Crea un código que solicite una frase al usuario y luego imprima la misma frase con todas las consonantes \"s\" reemplazadas por el carácter \"$\"."
      ],
      "metadata": {
        "id": "8cOUCWs-bgKR"
      }
    },
    {
      "cell_type": "code",
      "source": [
        "frase = input(\"Escribe una frase: \")\n",
        "print(frase.replace('s', '$'))"
      ],
      "metadata": {
        "colab": {
          "base_uri": "https://localhost:8080/"
        },
        "id": "dnB1O3zKehsE",
        "outputId": "a154d1df-29de-47da-ae91-939de5ef713d"
      },
      "execution_count": null,
      "outputs": [
        {
          "output_type": "stream",
          "name": "stdout",
          "text": [
            "Escribe una frase: peras\n",
            "pera$\n"
          ]
        }
      ]
    },
    {
      "cell_type": "markdown",
      "source": [
        "# Estructuras condicionales"
      ],
      "metadata": {
        "id": "NwRaiHHHhhyl"
      }
    },
    {
      "cell_type": "code",
      "source": [
        "# Nota de aprobación entre 7 y 10 == nota de aprobación >= 7\n",
        "# Nota de reprobación es menor a 7 == nota de reprobación < 7\n",
        "\n",
        "\"\"\"\n",
        "Si la nota es mayor o igual a 7 entonces el estudiante aprueba\n",
        "Si no, entonces el estudiante reprueba\n",
        "\"\"\""
      ],
      "metadata": {
        "colab": {
          "base_uri": "https://localhost:8080/",
          "height": 35
        },
        "id": "jS3bxZqy1ldI",
        "outputId": "851a6c44-37b3-4cfc-8a18-815aee227f32"
      },
      "execution_count": null,
      "outputs": [
        {
          "output_type": "execute_result",
          "data": {
            "text/plain": [
              "'\\nSi la nota es mayor o igual a 7 entonces el estudiante aprueba\\nSi no, entonces el estudiante reprueba\\n'"
            ],
            "application/vnd.google.colaboratory.intrinsic+json": {
              "type": "string"
            }
          },
          "metadata": {},
          "execution_count": 41
        }
      ]
    },
    {
      "cell_type": "markdown",
      "source": [
        "## `IF` y `ELSE`\n",
        "\n",
        "Los comandos `if` y `else` son dos estructuras condicionales. El comando `if` ejecutará el bloque de comandos en caso de que la condición citada sea  **verdadera**. El comando `else` ejecutará el bloque de comandos en el caso de que la condicional de `if` sea **falsa**."
      ],
      "metadata": {
        "id": "qXZqg9aYEhAh"
      }
    },
    {
      "cell_type": "markdown",
      "source": [
        "El comando `if` es una palabra clave en Python que significa \"si\". Este se emplea para conformar la estructura condicional, que te permite verificar si una determinada condición es verdadera o falsa e, inmediatamente después, ejecute un bloque de código específico dependiendo del resultado de la verificación. La sintaxis para usar el comando `if` es:\n",
        "\n",
        "\n",
        "\n",
        "```\n",
        "if condicion:\n",
        "    # Realiza algo\n",
        "```\n",
        "\n"
      ],
      "metadata": {
        "id": "EIhlqHXd2Gil"
      }
    },
    {
      "cell_type": "code",
      "source": [
        "if 2 < 7:\n",
        "  print('La condición es verdadera.')"
      ],
      "metadata": {
        "id": "I3Yxjd8QSgLk",
        "colab": {
          "base_uri": "https://localhost:8080/"
        },
        "outputId": "2ab01679-f31f-4820-c5f8-b868bf270dcd"
      },
      "execution_count": null,
      "outputs": [
        {
          "output_type": "stream",
          "name": "stdout",
          "text": [
            "La condición es verdadera.\n"
          ]
        }
      ]
    },
    {
      "cell_type": "code",
      "source": [
        "if 2 > 7:\n",
        "  print('La condición es verdadera.')\n",
        "print('Fin de la consulta.')"
      ],
      "metadata": {
        "id": "4INX80VhSgOI",
        "colab": {
          "base_uri": "https://localhost:8080/"
        },
        "outputId": "577cc0f0-7f46-42cd-9a30-ef10d27a67dc"
      },
      "execution_count": null,
      "outputs": [
        {
          "output_type": "stream",
          "name": "stdout",
          "text": [
            "Fin de la consulta.\n"
          ]
        }
      ]
    },
    {
      "cell_type": "code",
      "source": [],
      "metadata": {
        "id": "28u1waETlomh"
      },
      "execution_count": null,
      "outputs": []
    },
    {
      "cell_type": "markdown",
      "source": [
        "---"
      ],
      "metadata": {
        "id": "ljGXTJcClr9w"
      }
    },
    {
      "cell_type": "markdown",
      "source": [],
      "metadata": {
        "id": "gjNewBkTltiY"
      }
    },
    {
      "cell_type": "markdown",
      "source": [
        "---\n"
      ],
      "metadata": {
        "id": "peRYf9orlpa_"
      }
    },
    {
      "cell_type": "markdown",
      "source": [
        "Ya el comando `else` en Python se usa en junción con la palabra clave `if` para formar una estructura condicional. la sintaxis para usar el `else` es:\n",
        "\n",
        "```\n",
        "if condicion:\n",
        "  # codigo en caso de que sea verdad\n",
        "else:\n",
        "  # codigo en caso de que sea falso\n",
        "```\n",
        "\n",
        "el comando `else` se ejecuta cuando la condición verificada por el `if` es evaluada como `False`."
      ],
      "metadata": {
        "id": "27RW2v_sIKct"
      }
    },
    {
      "cell_type": "markdown",
      "source": [],
      "metadata": {
        "id": "zA1RyOOOlrQf"
      }
    },
    {
      "cell_type": "code",
      "source": [
        "if 2 > 7:\n",
        "  print('La condición es verdadera.')\n",
        "else:\n",
        "  print('La condición es falsa.')\n",
        "print('Fin de la consulta.')"
      ],
      "metadata": {
        "colab": {
          "base_uri": "https://localhost:8080/"
        },
        "id": "2PbkM1PC5iZB",
        "outputId": "ba78a044-9651-4db5-df9c-8a43fe90b3d5"
      },
      "execution_count": null,
      "outputs": [
        {
          "output_type": "stream",
          "name": "stdout",
          "text": [
            "La condición es falsa.\n",
            "Fin de la consulta.\n"
          ]
        }
      ]
    },
    {
      "cell_type": "markdown",
      "source": [
        "---\n",
        "## Operadores relacionales"
      ],
      "metadata": {
        "id": "JQAExYOymSqR"
      }
    },
    {
      "cell_type": "markdown",
      "source": [
        "### Mayor que (`>`)"
      ],
      "metadata": {
        "id": "YQe4QMdQmhoF"
      }
    },
    {
      "cell_type": "code",
      "source": [
        "edad_maria = int(input('Ingrese la edad de María: '))\n",
        "edad_beatriz = int(input('Ingrese la edad de Beatriz: '))\n",
        "\n",
        "if edad_maria > edad_beatriz:\n",
        "  print('María es mayor que Beatriz.')"
      ],
      "metadata": {
        "colab": {
          "base_uri": "https://localhost:8080/"
        },
        "id": "tfWBPxgBmvG_",
        "outputId": "796d431e-fa59-4e81-b771-32c5c11eec39"
      },
      "execution_count": null,
      "outputs": [
        {
          "name": "stdout",
          "output_type": "stream",
          "text": [
            "Ingrese la edad de María: 12\n",
            "Ingrese la edad de Beatriz: 13\n"
          ]
        }
      ]
    },
    {
      "cell_type": "markdown",
      "source": [
        "### Menor que (<)"
      ],
      "metadata": {
        "id": "ZTHouFx3m2ho"
      }
    },
    {
      "cell_type": "code",
      "source": [
        "edad_maria = int(input('Ingrese la edad de María: '))\n",
        "edad_beatriz = int(input('Ingrese la edad de Beatriz: '))\n",
        "\n",
        "if edad_maria < edad_beatriz:\n",
        "  print('María es menor que Beatriz.')"
      ],
      "metadata": {
        "colab": {
          "base_uri": "https://localhost:8080/"
        },
        "id": "__2XCqwim1sH",
        "outputId": "92f5f5f8-9b03-4fca-e815-96de545ad024"
      },
      "execution_count": null,
      "outputs": [
        {
          "output_type": "stream",
          "name": "stdout",
          "text": [
            "Ingrese la edad de María: 12\n",
            "Ingrese la edad de Beatriz: 13\n",
            "María es menor que Beatriz.\n"
          ]
        }
      ]
    },
    {
      "cell_type": "markdown",
      "source": [
        "### Mayor o igual a (>=)"
      ],
      "metadata": {
        "id": "1kaRM0x81IzL"
      }
    },
    {
      "cell_type": "code",
      "source": [
        "empleados_empresa_1 = int(input('Ingrese la cantidad de empleados de la empresa 1: '))\n",
        "empleados_empresa_2 = int(input('Ingrese la cantidad de empleados de la empresa 2: '))\n",
        "\n",
        "if empleados_empresa_1 >= empleados_empresa_2:\n",
        "  print('La empresa 1 tiene una cantidad de empleados mayor o igual a la empresa 2.')"
      ],
      "metadata": {
        "colab": {
          "base_uri": "https://localhost:8080/"
        },
        "id": "K21nPdWIm9B_",
        "outputId": "5d75eef5-c6bd-4464-b03d-65138ab5d391"
      },
      "execution_count": null,
      "outputs": [
        {
          "name": "stdout",
          "output_type": "stream",
          "text": [
            "Ingrese la cantidad de empleados de la empresa 1: 100\n",
            "Ingrese la cantidad de empleados de la empresa 2: 300\n"
          ]
        }
      ]
    },
    {
      "cell_type": "markdown",
      "source": [
        "### Menor o igual a (<=)"
      ],
      "metadata": {
        "id": "IV4IFflx1Fv_"
      }
    },
    {
      "cell_type": "code",
      "source": [
        "empleados_empresa_1 = int(input('Ingrese la cantidad de empleados de la empresa 1: '))\n",
        "empleados_empresa_2 = int(input('Ingrese la cantidad de empleados de la empresa 2: '))\n",
        "\n",
        "if empleados_empresa_1 <= empleados_empresa_2:\n",
        "  print('La empresa 1 tiene una cantidad de empleados menor o igual a la empresa 2.')"
      ],
      "metadata": {
        "colab": {
          "base_uri": "https://localhost:8080/"
        },
        "id": "thITzg5um_XE",
        "outputId": "f3038214-34c5-4057-cc43-5e639d494c95"
      },
      "execution_count": null,
      "outputs": [
        {
          "output_type": "stream",
          "name": "stdout",
          "text": [
            "Ingrese la cantidad de empleados de la empresa 1: 100\n",
            "Ingrese la cantidad de empleados de la empresa 2: 300\n",
            "La empresa 1 tiene una cantidad de empleados menor o igual a la empresa 2.\n"
          ]
        }
      ]
    },
    {
      "cell_type": "markdown",
      "source": [
        "### Igual a (==)"
      ],
      "metadata": {
        "id": "MbN2_1j31AvW"
      }
    },
    {
      "cell_type": "code",
      "source": [
        "libro_1 = input('Ingrese el título del 1° libro: ')\n",
        "libro_2 = input('Ingrese el título del 2° libro: ')\n",
        "\n",
        "if libro_1 == libro_2:\n",
        "  print('Los libros tienen el mismo título.')"
      ],
      "metadata": {
        "colab": {
          "base_uri": "https://localhost:8080/"
        },
        "id": "9AkNDnqCnBC6",
        "outputId": "02e06f28-01ed-4dea-bbfe-174cbba27a39"
      },
      "execution_count": null,
      "outputs": [
        {
          "name": "stdout",
          "output_type": "stream",
          "text": [
            "Ingrese el título del 1° libro: A\n",
            "Ingrese el título del 2° libro: B\n"
          ]
        }
      ]
    },
    {
      "cell_type": "markdown",
      "source": [
        "### Diferente de (!=)"
      ],
      "metadata": {
        "id": "tjp_2k-j044X"
      }
    },
    {
      "cell_type": "code",
      "source": [
        "libro_1 = input('Ingrese el título del 1° libro: ')\n",
        "libro_2 = input('Ingrese el título del 2° libro: ')\n",
        "\n",
        "if libro_1 != libro_2:\n",
        "  print('Los libros tienen títulos diferentes.')"
      ],
      "metadata": {
        "colab": {
          "base_uri": "https://localhost:8080/"
        },
        "id": "7USYnE11nCjR",
        "outputId": "425f319b-e53c-4469-8ea4-99e1401b2d03"
      },
      "execution_count": null,
      "outputs": [
        {
          "output_type": "stream",
          "name": "stdout",
          "text": [
            "Ingrese el título del 1° libro: A\n",
            "Ingrese el título del 2° libro: B\n",
            "Los libros tienen títulos diferentes.\n"
          ]
        }
      ]
    },
    {
      "cell_type": "markdown",
      "source": [
        "---\n",
        "**Situación:**\n",
        "\n",
        "Recibiremos el promedio de la nota de los estudiantes y necesitamos de un algoritmo que ejecute el análisis y determine si el estudiante fue **Aprobado** o **Reprobado**, mostrando un mensaje del resultado. Para ser aprobado, el promedio necesita ser igual o superior a 7.0."
      ],
      "metadata": {
        "id": "BqORg85XX-Nl"
      }
    },
    {
      "cell_type": "code",
      "source": [
        "nota = float(input('Digita la nota: '))\n",
        "\n",
        "if nota >= 7:\n",
        "  print('Aprobó.')\n",
        "else:\n",
        "  print('Reprobó.')"
      ],
      "metadata": {
        "colab": {
          "base_uri": "https://localhost:8080/"
        },
        "id": "wCjmrZIf6WKh",
        "outputId": "4ae4e7ea-36cb-4d57-8db1-2c2a664db5e4"
      },
      "execution_count": null,
      "outputs": [
        {
          "output_type": "stream",
          "name": "stdout",
          "text": [
            "Digita la nota: 7\n",
            "Aprobó.\n"
          ]
        }
      ]
    },
    {
      "cell_type": "markdown",
      "source": [
        "Ahora, nuestra institución educativa estableció que las personas que tengan el promedio entre 5.0 y 7.0 pueden participar del curso de **Recuperación** durante las vacaciones para lograr aprobar.\n",
        "\n",
        "Entonces podemos apoyarnos en un conjunto de `if`s para poder estructurar esta nueva condición."
      ],
      "metadata": {
        "id": "bD9O17HB6LUo"
      }
    },
    {
      "cell_type": "code",
      "source": [
        "nota = float(input('Digita la nota: '))\n",
        "\n",
        "if nota >= 7:\n",
        "  print('Aprobó.')\n",
        "if 7 > nota >= 5:\n",
        "  print('Recuperación.')\n",
        "if nota < 5:\n",
        "  print('Reprobó.')"
      ],
      "metadata": {
        "colab": {
          "base_uri": "https://localhost:8080/"
        },
        "id": "tOqTL2pN6o6I",
        "outputId": "9e6d334e-d517-4840-c981-60ea72985908"
      },
      "execution_count": null,
      "outputs": [
        {
          "output_type": "stream",
          "name": "stdout",
          "text": [
            "Digita la nota: 8\n",
            "Aprobó.\n"
          ]
        }
      ]
    },
    {
      "cell_type": "markdown",
      "source": [
        "Observa que en casos con 3 situaciones como este necesitamos definir bien nuestras condiciones. Pues, si realizamos una condición con `else` al final, este irá a considerar solamente la condición `if` inmediatamente anterior para generar la salida en caso de que el resultado de su operación lógica sea **falso** dando como resultado, dos o más ejecuciones.\n",
        "\n",
        "Por ejemplo:"
      ],
      "metadata": {
        "id": "D5e2mByjvycO"
      }
    },
    {
      "cell_type": "code",
      "source": [
        "nota = float(input('Digita la nota: '))\n",
        "\n",
        "if nota >= 7:\n",
        "  print('Aprobó.')\n",
        "if 7 > nota >= 5:\n",
        "  print('Recuperación.')\n",
        "else:\n",
        "  print('Reprobó.')"
      ],
      "metadata": {
        "colab": {
          "base_uri": "https://localhost:8080/"
        },
        "id": "sfeeau-F61H2",
        "outputId": "911a6569-a988-445f-aeaa-79a2e397adf1"
      },
      "execution_count": null,
      "outputs": [
        {
          "output_type": "stream",
          "name": "stdout",
          "text": [
            "Digita la nota: 8\n",
            "Aprobó.\n",
            "Reprobó.\n"
          ]
        }
      ]
    },
    {
      "cell_type": "markdown",
      "source": [
        "## `ELIF`\n",
        "\n",
        "El comando `elif` es una palabra clave en Python que significa \"si no, si\" y lo podemos considerar una *contracción* entre `else` e `if`. Se utiliza en conjunto con la palabra clave `if` para formar una estructura condicional en cadena."
      ],
      "metadata": {
        "id": "04T5g-7h4zWx"
      }
    },
    {
      "cell_type": "markdown",
      "source": [
        "la sintaxis para utilizar el comando `elif` es:\n",
        "\n",
        "```\n",
        "if condicion1:\n",
        "    # Realiza algo\n",
        "elif condicion2:\n",
        "    # Realiza otra cosa\n",
        "elif condicion3:\n",
        "    # Realiza otra cosa\n",
        "else:\n",
        "    # Realiza algo diferente\n",
        "```\n",
        "\n",
        "El comando `elif` permite que puedas verificar varias condiciones en cadena, economizando espacio en tu código. Si la primera condición se evalúa como `False`, el interpretador de Python evaluará la próxima condición con el `elif`. Ello continuará hasta que una condición sea evaluada como `True` o hasta que el `else` sea alcazado. Si ninguna de las condiciones es evaluada como `True`, la ejecución del código del comando `else` será iniciada."
      ],
      "metadata": {
        "id": "rNBHr5mm1Lm6"
      }
    },
    {
      "cell_type": "markdown",
      "source": [
        "Vamos a emplear el mismo caso anterior:"
      ],
      "metadata": {
        "id": "MVoykFbB4bd4"
      }
    },
    {
      "cell_type": "code",
      "source": [
        "nota = float(input('Digita la nota: '))\n",
        "\n",
        "if nota >= 7:\n",
        "  print('Aprobó.')\n",
        "elif 7 > nota >= 5:\n",
        "  print('Recuperación.')\n",
        "else:\n",
        "  print('Reprobó.')"
      ],
      "metadata": {
        "colab": {
          "base_uri": "https://localhost:8080/"
        },
        "id": "MrBYS2ng8wJW",
        "outputId": "64ac0e3f-b63a-4295-cc9f-30222125d104"
      },
      "execution_count": null,
      "outputs": [
        {
          "output_type": "stream",
          "name": "stdout",
          "text": [
            "Digita la nota: 20\n",
            "Aprobó.\n"
          ]
        }
      ]
    },
    {
      "cell_type": "markdown",
      "source": [
        "## Operadores\n",
        "\n",
        "Durante la construcción de comandos a veces necesitamos de una elaboración mayor de la expresión condicional, necesitando que algunos operadores lógicos se encuentren integrados."
      ],
      "metadata": {
        "id": "Tf1wSOem6iwZ"
      }
    },
    {
      "cell_type": "markdown",
      "source": [
        "### `AND`, `OR`, `NOT`\n",
        "\n",
        "Los operadores lógicos `and`, `or` y `not` son usados para combinar expresiones lógicas en Python. Ellos son usados frecuentemente en conjunto con el comando `if` para crear estructuras condicionales más complejas.\n"
      ],
      "metadata": {
        "id": "GFIZnRWXGPWO"
      }
    },
    {
      "cell_type": "markdown",
      "source": [
        "- `AND` es usado para verificar si dos condiciones son verdaderas. La expresión lógica¹ `x and y` se evalúa como `True` tan solo si **ambas condiciones `x` y `y` son verdaderas**, y como `False` en caso contrario.\n",
        "\n",
        "- `OR` es usado para verificar si al menos una de las condiciones es verdadera. La expresión lógica `x or y` se evalúa como `True` **si al menos una de las condiciones `x` o `y` es verdadera**, y como `False` si ambas condiciones son falsas.\n",
        "\n",
        "- `NOT` es usado para **negar una condición**. La expresión lógica `not x` es evaluada como `True` si la condición x es falsa, y como `False` si la condición x es verdadera.\n",
        "\n",
        "¹ Una expresión lógica es una declaración que puede ser evaluada como verdadera o falsa. Ella se compone por operandos lógicos² y por operadores lógicos³, que son usados ​​para combinar varias expresiones lógicas en una única expresión.\n",
        "\n",
        "² Los operandos lógicos son los elementos que son comparados o evaluados en una expresión lógica. Ellos son generalmente valores verdaderos o falsos, pero también pueden ser expresiones lógicas más complejas. En Python, los operandos lógicos son los valores `True` y `False`.\n",
        "\n",
        "³ Los operadores lógicos son ls símbolos o palabras clave que son usados ​​para combinar varias expresiones lógicas en una única expresión. En Python, los operadores lógicos son `and`, `or` y `not`, bien como las palabras clave `if`, `elif` e `else`."
      ],
      "metadata": {
        "id": "Z_dgAoHXJbzB"
      }
    },
    {
      "cell_type": "markdown",
      "source": [
        "> Operadores lógicos más comunes\n",
        "\n",
        "|a|b|AND|OR|NOT|\n",
        "|-|-|-|-|-|\n",
        "|0|0|0|0|1\n",
        "|0|1|0|1|-\n",
        "|1|0|0|1|-\n",
        "|1|1|1|1|0\n"
      ],
      "metadata": {
        "id": "2E5aUogf-49u"
      }
    },
    {
      "cell_type": "code",
      "source": [
        "v = True\n",
        "f = False"
      ],
      "metadata": {
        "id": "5BsUROayH5BS"
      },
      "execution_count": null,
      "outputs": []
    },
    {
      "cell_type": "code",
      "source": [
        "if f and f:\n",
        "  print('La condición es verdadera.')\n",
        "else:\n",
        "  print('La condición es falsa.')"
      ],
      "metadata": {
        "colab": {
          "base_uri": "https://localhost:8080/"
        },
        "id": "jznX5YvEH53E",
        "outputId": "6e264aab-efe7-49de-f6a6-4ae10317bc2f"
      },
      "execution_count": null,
      "outputs": [
        {
          "output_type": "stream",
          "name": "stdout",
          "text": [
            "La condición es falsa.\n"
          ]
        }
      ]
    },
    {
      "cell_type": "code",
      "source": [
        "if v or v:\n",
        "  print('La condición es verdadera.')\n",
        "else:\n",
        "  print('La condición es falsa.')"
      ],
      "metadata": {
        "colab": {
          "base_uri": "https://localhost:8080/"
        },
        "id": "Yy4OvGucH55r",
        "outputId": "b5c865ce-e532-4eec-b4a0-08360debc5a1"
      },
      "execution_count": null,
      "outputs": [
        {
          "output_type": "stream",
          "name": "stdout",
          "text": [
            "La condición es verdadera.\n"
          ]
        }
      ]
    },
    {
      "cell_type": "code",
      "source": [
        "if not f:\n",
        "  print('La condición es verdadera.')\n",
        "else:\n",
        "  print('La condición es falsa.')"
      ],
      "metadata": {
        "colab": {
          "base_uri": "https://localhost:8080/"
        },
        "id": "Um9j_c0oJNHM",
        "outputId": "438395ee-b355-4334-b598-cc8906652917"
      },
      "execution_count": null,
      "outputs": [
        {
          "output_type": "stream",
          "name": "stdout",
          "text": [
            "La condición es verdadera.\n"
          ]
        }
      ]
    },
    {
      "cell_type": "markdown",
      "source": [
        "### `IN`\n",
        "\n",
        "Es usado para verificar si un elemento está presente en una lista, tupla u otra colección de conjunto. La expresión `x in y` se evalúa como `True` si el elemento `x` esta presente na variávelen la variable de conjunto `y`, y como `False` en caso contrario."
      ],
      "metadata": {
        "id": "w7EXG1dhWtja"
      }
    },
    {
      "cell_type": "markdown",
      "source": [
        "Podemos verificarlo con variables de texto.\n",
        "\n",
        "---\n",
        "\n",
        "**Situación:**\n",
        "\n",
        "En la escuela nos entregaron una lista con nombres de estudiantes que fueron aprobados según el promedio del semestre, pero es necesario verificar si algunos nombres están en esa lista para confirmar que los datos estén correctos.\n",
        "\n",
        "La lista distribuida puede ser observada a continuación:\n",
        "\n",
        "```\n",
        "lista = 'Juan Pérez, María González, Pedro Rodríguez, Ana López, Carlos Martínez,\n",
        "    Laura Sánchez, José García, Elena Fernández, Luis Morales, Carmen Torres,\n",
        "    David Ruiz, Isabel Ramírez, Javier Díaz, Sara Herrera, Miguel Castro,\n",
        "    Patricia Ortega, Francisco Vargas, Marta Jiménez, Manuel Medina, Rosa Molina,\n",
        "    Alejandro Silva, Silvia Ruiz, Andrés Torres, Natalia Soto, Diego Guerrero,\n",
        "    Paula Ríos, Ricardo Navarro, Alicia Cordero, Carlos Vidal, Lorena Gómez'\n",
        "```\n",
        "\n",
        "Los nombres que necesitas verificar son los siguientes:\n",
        "\n",
        "```\n",
        "nombre_1 = 'Miguel Castro'\n",
        "nombre_2 = 'Marcelo Noguera'\n",
        "```"
      ],
      "metadata": {
        "id": "enJNp6JenQbq"
      }
    },
    {
      "cell_type": "code",
      "source": [
        "lista = 'Juan Pérez, María González, Pedro Rodríguez,Ana López, Carlos Martínez,Laura Sánchez, José García, Elena Fernández, Luis Morales, Carmen Torres,David Ruiz, Isabel Ramírez, Javier Díaz, Sara Herrera, Miguel Castro,Patricia Ortega, Francisco Vargas, Marta Jiménez, Manuel Medina, Rosa Molina,Alejandro Silva, Silvia Ruiz, Andrés Torres, Natalia Soto, Diego Guerrero,Paula Ríos, Ricardo Navarro, Alicia Cordero, Carlos Vidal, Lorena Gómez'"
      ],
      "metadata": {
        "id": "zAWWgLgKDeVd"
      },
      "execution_count": null,
      "outputs": []
    },
    {
      "cell_type": "code",
      "source": [
        "nombre_1 = 'Miguel Castro'\n",
        "nombre_2 = 'Marcelo Noguera'"
      ],
      "metadata": {
        "id": "-LhHPI2XDeYQ"
      },
      "execution_count": null,
      "outputs": []
    },
    {
      "cell_type": "code",
      "source": [
        "if nombre_1 in lista:\n",
        "  print('El estudiante aprobó.')\n",
        "else:\n",
        "  print('El estudiante reprobó.')"
      ],
      "metadata": {
        "colab": {
          "base_uri": "https://localhost:8080/"
        },
        "id": "FJCyNcvPJrs3",
        "outputId": "ea007783-4da0-4911-d360-1e5a0fb3d435"
      },
      "execution_count": null,
      "outputs": [
        {
          "output_type": "stream",
          "name": "stdout",
          "text": [
            "El estudiante aprobó.\n"
          ]
        }
      ]
    },
    {
      "cell_type": "code",
      "source": [
        "if nombre_2 in lista:\n",
        "  print('El estudiante aprobó.')\n",
        "else:\n",
        "  print('El estudiante reprobó.')"
      ],
      "metadata": {
        "colab": {
          "base_uri": "https://localhost:8080/"
        },
        "id": "9GcV0FYpJ520",
        "outputId": "f916991e-b994-401a-c39b-d2d1af3db3e5"
      },
      "execution_count": null,
      "outputs": [
        {
          "output_type": "stream",
          "name": "stdout",
          "text": [
            "El estudiante reprobó.\n"
          ]
        }
      ]
    },
    {
      "cell_type": "markdown",
      "source": [
        "## Expresiones Lógicas y Tablas de Verdad en Python\n",
        "En Python, los operadores lógicos principales son:\n",
        "*   and\n",
        "*   or\n",
        "*   not\n",
        "\n",
        "**✅ Operador and**\n",
        "\n",
        "El operador and devuelve True solo si ambos operandos son verdaderos. De lo contrario, devuelve False."
      ],
      "metadata": {
        "id": "7s90dtdprTsA"
      }
    },
    {
      "cell_type": "markdown",
      "source": [
        "**Tabla de Verdad**\n",
        "\n",
        "| operando\\_1 | operando\\_2 | operando\\_1 and operando\\_2 |\n",
        "| ----------- | ----------- | --------------------------- |\n",
        "| False       | False       | False                       |\n",
        "| False       | True        | False                       |\n",
        "| True        | False       | False                       |\n",
        "| True        | True        | True                        |\n"
      ],
      "metadata": {
        "id": "A_zGVgqvG5cc"
      }
    },
    {
      "cell_type": "code",
      "source": [
        "\n",
        "valores = [True, False]\n",
        "\n",
        "print(\"Operador AND:\")x|\n",
        "for a in valores:\n",
        "    for b in valores:\n",
        "        resultado = a and b\n",
        "        print(f\"{a} and {b} = {resultado}\")"
      ],
      "metadata": {
        "colab": {
          "base_uri": "https://localhost:8080/"
        },
        "id": "rS2OvzPjtu1z",
        "outputId": "4087e856-2dcc-41ee-8215-8821e965f34f"
      },
      "execution_count": null,
      "outputs": [
        {
          "output_type": "stream",
          "name": "stdout",
          "text": [
            "Operador AND:\n",
            "True and True = True\n",
            "True and False = False\n",
            "False and True = False\n",
            "False and False = False\n"
          ]
        }
      ]
    },
    {
      "cell_type": "markdown",
      "source": [
        "**✅ Operador or**\n",
        "\n",
        "El operador or devuelve True si al menos uno de los operandos es verdadero. Solo devuelve False si ambos son falsos."
      ],
      "metadata": {
        "id": "XP-awWLxG0XU"
      }
    },
    {
      "cell_type": "markdown",
      "source": [
        "**Tabla de Verdad**\n",
        "\n",
        "| operando\\_1 | operando\\_2 | operando\\_1 or operando\\_2 |\n",
        "| ----------- | ----------- | -------------------------- |\n",
        "| False       | False       | False                      |\n",
        "| False       | True        | True                       |\n",
        "| True        | False       | True                       |\n",
        "| True        | True        | True                       |\n"
      ],
      "metadata": {
        "id": "xsZpH1AKHDLF"
      }
    },
    {
      "cell_type": "code",
      "source": [
        "valores = [True, False]\n",
        "\n",
        "print(\"\\nOperador OR:\")\n",
        "for a in valores:\n",
        "    for b in valores:\n",
        "        resultado = a or b\n",
        "        print(f\"{a} or {b} = {resultado}\")\n"
      ],
      "metadata": {
        "colab": {
          "base_uri": "https://localhost:8080/"
        },
        "id": "_uiW2U14GojA",
        "outputId": "e10cccc6-99e4-4d32-9dc2-a5c0311e2045"
      },
      "execution_count": null,
      "outputs": [
        {
          "output_type": "stream",
          "name": "stdout",
          "text": [
            "\n",
            "Operador OR:\n",
            "True or True = True\n",
            "True or False = True\n",
            "False or True = True\n",
            "False or False = False\n"
          ]
        }
      ]
    },
    {
      "cell_type": "markdown",
      "source": [
        "**✅ Operador not**\n",
        "\n",
        "El operador not invierte el valor lógico del operando. Si es True, devuelve False; y viceversa."
      ],
      "metadata": {
        "id": "LWCYIHw-Gxdk"
      }
    },
    {
      "cell_type": "markdown",
      "source": [
        "**Tabla de Verdad**\n",
        "\n",
        "\n",
        "| operando | not operando |\n",
        "| -------- | ------------ |\n",
        "| True     | False        |\n",
        "| False    | True         |\n"
      ],
      "metadata": {
        "id": "FjzH7rEmHSOV"
      }
    },
    {
      "cell_type": "code",
      "source": [
        "valores = [True, False]\n",
        "\n",
        "print(\"\\nOperador NOT:\")\n",
        "for a in valores:\n",
        "    resultado = not a\n",
        "    print(f\"not {a} = {resultado}\")"
      ],
      "metadata": {
        "colab": {
          "base_uri": "https://localhost:8080/"
        },
        "id": "CEl437GGGsQe",
        "outputId": "1895a71f-d9e9-4d39-c106-bbd970199af7"
      },
      "execution_count": null,
      "outputs": [
        {
          "output_type": "stream",
          "name": "stdout",
          "text": [
            "\n",
            "Operador NOT:\n",
            "not True = False\n",
            "not False = True\n"
          ]
        }
      ]
    },
    {
      "cell_type": "markdown",
      "source": [
        "---\n",
        "## Desafios del aula 3"
      ],
      "metadata": {
        "id": "712yyg7vrXjJ"
      }
    },
    {
      "cell_type": "markdown",
      "source": [
        "### Entrenando la programación"
      ],
      "metadata": {
        "id": "T3UPuly7rpo_"
      }
    },
    {
      "cell_type": "markdown",
      "source": [
        "1 - Escribe un programa que pida a la persona usuaria que proporcione dos números y muestre el número más grande."
      ],
      "metadata": {
        "id": "LovuV4Vqr7YH"
      }
    },
    {
      "cell_type": "code",
      "source": [
        "a = float(input(\"Ingrese el primer número: \"))\n",
        "b = float(input(\"Ingrese el segundo número: \"))\n",
        "if a > b:\n",
        "    print(\"El número más grande es:\", a)\n",
        "elif b > a:\n",
        "    print(\"El número más grande es:\", b)\n",
        "else:\n",
        "    print(\"Ambos números son iguales.\")\n"
      ],
      "metadata": {
        "colab": {
          "base_uri": "https://localhost:8080/"
        },
        "id": "M8fWTyIZrp1o",
        "outputId": "12d21ad1-ceb6-4009-a1a7-6f42ad0f9f64"
      },
      "execution_count": null,
      "outputs": [
        {
          "output_type": "stream",
          "name": "stdout",
          "text": [
            "Ingrese el primer número: 12\n",
            "Ingrese el segundo número: 2\n",
            "El número más grande es: 12.0\n"
          ]
        }
      ]
    },
    {
      "cell_type": "markdown",
      "source": [
        "2 - Escribe un programa que solicite el porcentaje de crecimiento de producción de una empresa e informe si hubo un crecimiento (porcentaje positivo) o una disminución (porcentaje negativo)."
      ],
      "metadata": {
        "id": "vBMOWfk6r6Lw"
      }
    },
    {
      "cell_type": "code",
      "source": [
        "porcentaje = float(input(\"Ingrese el porcentaje de crecimiento: \"))\n",
        "if porcentaje > 0:\n",
        "    print(\"Hubo un crecimiento.\")\n",
        "elif porcentaje < 0:\n",
        "    print(\"Hubo una disminución.\")\n",
        "else:\n",
        "    print(\"No hubo cambio en la producción.\")"
      ],
      "metadata": {
        "colab": {
          "base_uri": "https://localhost:8080/"
        },
        "id": "35j-pWY-HsM1",
        "outputId": "b82a69f4-a55e-4eac-81f8-3691c90fd92e"
      },
      "execution_count": null,
      "outputs": [
        {
          "output_type": "stream",
          "name": "stdout",
          "text": [
            "Ingrese el porcentaje de crecimiento: 89\n",
            "Hubo un crecimiento.\n"
          ]
        }
      ]
    },
    {
      "cell_type": "markdown",
      "source": [
        "3 - Escribe un programa que determine si una letra proporcionada por la persona usuaria es una vocal o una consonante."
      ],
      "metadata": {
        "id": "Oown0KHrr-Hv"
      }
    },
    {
      "cell_type": "code",
      "source": [
        "letra = input(\"Ingrese una letra: \").lower()\n",
        "if letra in \"aeiou\":\n",
        "    print(\"Es una vocal.\")\n",
        "elif letra.isalpha():\n",
        "    print(\"Es una consonante.\")\n",
        "else:\n",
        "    print(\"No ingresó una letra válida.\")\n"
      ],
      "metadata": {
        "colab": {
          "base_uri": "https://localhost:8080/"
        },
        "id": "eqvESIFjIIgL",
        "outputId": "38baa5fe-ada9-43bc-83cd-cb97c08a4c20"
      },
      "execution_count": null,
      "outputs": [
        {
          "output_type": "stream",
          "name": "stdout",
          "text": [
            "Ingrese una letra: A\n",
            "Es una vocal.\n"
          ]
        }
      ]
    },
    {
      "cell_type": "markdown",
      "source": [
        "4 - Escribe un programa que lea valores promedio de precios de un modelo de automóvil durante 3 años consecutivos y muestre el valor más alto y más bajo entre esos tres años."
      ],
      "metadata": {
        "id": "ZBpLuoObr_6p"
      }
    },
    {
      "cell_type": "code",
      "source": [
        "año1 = float(input(\"Ingrese el precio promedio del primer año: \"))\n",
        "año2 = float(input(\"Ingrese el precio promedio del segundo año: \"))\n",
        "año3 = float(input(\"Ingrese el precio promedio del tercer año: \"))\n",
        "if año1 >= año2 and año1 >= año3:\n",
        "    mayor = año1\n",
        "elif año2 >= año1 and año2 >= año3:\n",
        "    mayor = año2\n",
        "else:\n",
        "    mayor = año3\n",
        "\n",
        "if año1 <= año2 and año1 <= año3:\n",
        "    menor = año1\n",
        "elif año2 <= año1 and año2 <= año3:\n",
        "    menor = año2\n",
        "else:\n",
        "    menor = año3\n",
        "print(\"El valor más alto es:\", mayor)\n",
        "print(\"El valor más bajo es:\", menor)"
      ],
      "metadata": {
        "colab": {
          "base_uri": "https://localhost:8080/"
        },
        "id": "iPb2W8jKIiMY",
        "outputId": "83154f1d-25cd-4988-ae11-d849ced71937"
      },
      "execution_count": null,
      "outputs": [
        {
          "output_type": "stream",
          "name": "stdout",
          "text": [
            "Ingrese el precio promedio del primer año: 12\n",
            "Ingrese el precio promedio del segundo año: 13\n",
            "Ingrese el precio promedio del tercer año: 12\n",
            "El valor más alto es: 13.0\n",
            "El valor más bajo es: 12.0\n"
          ]
        }
      ]
    },
    {
      "cell_type": "markdown",
      "source": [
        "5 - Escribe un programa que pregunte sobre el precio de tres productos e indique cuál es el producto más barato para comprar."
      ],
      "metadata": {
        "id": "VNhIbxsmsB5M"
      }
    },
    {
      "cell_type": "code",
      "source": [
        "prod1 = float(input(\"Ingrese el precio del primer producto: \"))\n",
        "prod2 = float(input(\"Ingrese el precio del segundo producto: \"))\n",
        "prod3 = float(input(\"Ingrese el precio del tercer producto: \"))\n",
        "\n",
        "if prod1 <= prod2 and prod1 <= prod3:\n",
        "    print(\"El producto más barato es el Producto 1 y cuesta:\", prod1)\n",
        "elif prod2 <= prod1 and prod2 <= prod3:\n",
        "    print(\"El producto más barato es el Producto 2 y cuesta:\", prod2)\n",
        "else:\n",
        "    print(\"El producto más barato es el Producto 3 y cuesta:\", prod3)\n"
      ],
      "metadata": {
        "colab": {
          "base_uri": "https://localhost:8080/"
        },
        "id": "BbJfQdqfJV27",
        "outputId": "cf43c043-4fda-40a2-917e-eaa44ed2a64c"
      },
      "execution_count": null,
      "outputs": [
        {
          "output_type": "stream",
          "name": "stdout",
          "text": [
            "Ingrese el precio del primer producto: 12\n",
            "Ingrese el precio del segundo producto: 3\n",
            "Ingrese el precio del tercer producto: 4\n",
            "El producto más barato es el Producto 2 y cuesta: 3.0\n"
          ]
        }
      ]
    },
    {
      "cell_type": "markdown",
      "source": [
        "6 - Escribe un programa que lea tres números y los muestre en orden descendente."
      ],
      "metadata": {
        "id": "s0JPGp27sDD_"
      }
    },
    {
      "cell_type": "code",
      "source": [
        "n1 = float(input(\"Ingrese el primer número: \"))\n",
        "n2 = float(input(\"Ingrese el segundo número: \"))\n",
        "n3 = float(input(\"Ingrese el tercer número: \"))\n",
        "if n1 >= n2 and n1 >= n3:\n",
        "    primero = n1\n",
        "    if n2 >= n3:\n",
        "        segundo = n2\n",
        "        tercero = n3\n",
        "    else:\n",
        "        segundo = n3\n",
        "        tercero = n2\n",
        "elif n2 >= n1 and n2 >= n3:\n",
        "    primero = n2\n",
        "    if n1 >= n3:\n",
        "        segundo = n1\n",
        "        tercero = n3\n",
        "    else:\n",
        "        segundo = n3\n",
        "        tercero = n1\n",
        "else:\n",
        "    primero = n3\n",
        "    if n1 >= n2:\n",
        "        segundo = n1\n",
        "        tercero = n2\n",
        "    else:\n",
        "        segundo = n2\n",
        "        tercero = n1\n",
        "print(\"Números en orden descendente:\")\n",
        "print(primero)\n",
        "print(segundo)\n",
        "print(tercero)\n"
      ],
      "metadata": {
        "colab": {
          "base_uri": "https://localhost:8080/"
        },
        "id": "PzFtxPO2KTHE",
        "outputId": "4897cbed-4197-4b45-fc16-db1d379db67c"
      },
      "execution_count": null,
      "outputs": [
        {
          "output_type": "stream",
          "name": "stdout",
          "text": [
            "Ingrese el primer número: 3\n",
            "Ingrese el segundo número: 4\n",
            "Ingrese el tercer número: 2\n",
            "Números en orden descendente:\n",
            "4.0\n",
            "3.0\n",
            "2.0\n"
          ]
        }
      ]
    },
    {
      "cell_type": "markdown",
      "source": [
        "7 -Escribe un programa que pregunte en qué turno estudia la persona usuaria (\"mañana\", \"tarde\" o \"noche\") y muestre el mensaje \"¡Buenos Días!\", \"¡Buenas Tardes!\", \"¡Buenas Noches!\" o \"Valor Inválido!\", según el caso."
      ],
      "metadata": {
        "id": "xTn6ty1bsEhb"
      }
    },
    {
      "cell_type": "code",
      "source": [
        "turno = input(\"¿En qué turno estudias? (mañana/tarde/noche): \").lower()\n",
        "if turno == \"mañana\":\n",
        "    print(\"¡Buenos Días!\")\n",
        "elif turno == \"tarde\":\n",
        "    print(\"¡Buenas Tardes!\")\n",
        "elif turno == \"noche\":\n",
        "    print(\"¡Buenas Noches!\")\n",
        "else:\n",
        "    print(\"¡Valor Inválido!\")\n",
        "\n"
      ],
      "metadata": {
        "colab": {
          "base_uri": "https://localhost:8080/"
        },
        "id": "a1lVHF6XKrAs",
        "outputId": "7d95b2a5-1e96-4980-9748-a2e07b8a1d22"
      },
      "execution_count": null,
      "outputs": [
        {
          "output_type": "stream",
          "name": "stdout",
          "text": [
            "¿En qué turno estudias? (mañana/tarde/noche): tarde\n",
            "¡Buenas Tardes!\n"
          ]
        }
      ]
    },
    {
      "cell_type": "markdown",
      "source": [
        "8 - Escribe un programa que solicite un número entero a la persona usuaria y determine si es par o impar. Pista: Puedes usar el operador módulo (%)."
      ],
      "metadata": {
        "id": "XkNH8cLUsLUQ"
      }
    },
    {
      "cell_type": "code",
      "source": [
        "num = int(input(\"Ingrese un número entero: \"))\n",
        "if num % 2 == 0:\n",
        "    print(\"El número es par.\")\n",
        "else:\n",
        "    print(\"El número es impar.\")"
      ],
      "metadata": {
        "colab": {
          "base_uri": "https://localhost:8080/"
        },
        "id": "vuiC0AtRKw7N",
        "outputId": "80bf327b-9c8f-461b-e460-1ee52251941f"
      },
      "execution_count": null,
      "outputs": [
        {
          "output_type": "stream",
          "name": "stdout",
          "text": [
            "Ingrese un número entero: 1\n",
            "El número es impar.\n"
          ]
        }
      ]
    },
    {
      "cell_type": "markdown",
      "source": [
        "9 - Escribe un programa que pida un número a la persona usuaria y le informe si es entero o decimal. Momento de los proyectos"
      ],
      "metadata": {
        "id": "OBChuBWUsONI"
      }
    },
    {
      "cell_type": "code",
      "source": [
        "num = float(input(\"Ingrese un número: \"))\n",
        "if num % 1 == 0:\n",
        "    print(\"Es un número entero.\")\n",
        "else:\n",
        "    print(\"Es un número decimal.\")"
      ],
      "metadata": {
        "colab": {
          "base_uri": "https://localhost:8080/"
        },
        "id": "b9738W5oK4ex",
        "outputId": "072c4106-7f6b-42f6-cadb-5df4a920cfd9"
      },
      "execution_count": null,
      "outputs": [
        {
          "output_type": "stream",
          "name": "stdout",
          "text": [
            "Ingrese un número: 2\n",
            "Es un número entero.\n"
          ]
        }
      ]
    },
    {
      "cell_type": "markdown",
      "source": [
        "### Momento de los proyectos"
      ],
      "metadata": {
        "id": "_6skeWCpsSc0"
      }
    },
    {
      "cell_type": "markdown",
      "source": [
        "10 - Un programa debe ser escrito para leer dos números y luego preguntar a la persona usuaria qué operación desea realizar. El resultado de la operación debe incluir información sobre el número, si es par o impar, positivo o negativo, e entero o decimal."
      ],
      "metadata": {
        "id": "UzWMc07VsQtf"
      }
    },
    {
      "cell_type": "code",
      "source": [
        "n1 = float(input(\"Ingrese el primer número: \"))\n",
        "n2 = float(input(\"Ingrese el segundo número: \"))\n",
        "operacion = input(\"¿Qué operación desea realizar? (suma, resta, multiplicacion, division): \").lower()\n",
        "if operacion == \"suma\":\n",
        "    resultado = n1 + n2\n",
        "elif operacion == \"resta\":\n",
        "    resultado = n1 - n2\n",
        "elif operacion == \"multiplicacion\":\n",
        "    resultado = n1 * n2\n",
        "elif operacion == \"division\":\n",
        "    if n2 != 0:\n",
        "        resultado = n1 / n2\n",
        "    else:\n",
        "        resultado = \"Indefinido\"\n",
        "else:\n",
        "    resultado = \"Operación no válida\"\n",
        "\n",
        "if isinstance(resultado, (int, float)):\n",
        "    print(\"Resultado de la operación:\", resultado)\n",
        "    if resultado % 2 == 0:\n",
        "        print(\"Par\")\n",
        "    else:\n",
        "        print(\"Impar\")\n",
        "    if resultado > 0:\n",
        "        print(\"Positivo\")\n",
        "    elif resultado < 0:\n",
        "        print(\"Negativo\")\n",
        "    else:\n",
        "        print(\"Cero\")\n",
        "    if resultado % 1 == 0:\n",
        "        print(\"Entero\")\n",
        "    else:\n",
        "        print(\"Decimal\")\n",
        "else:\n",
        "    print(resultado)"
      ],
      "metadata": {
        "colab": {
          "base_uri": "https://localhost:8080/"
        },
        "id": "_-1kN91iK9l8",
        "outputId": "3724b4e8-0ce5-47a9-ed3c-c9d4600a2417"
      },
      "execution_count": null,
      "outputs": [
        {
          "output_type": "stream",
          "name": "stdout",
          "text": [
            "Ingrese el primer número: 1\n",
            "Ingrese el segundo número: 2\n",
            "¿Qué operación desea realizar? (suma, resta, multiplicacion, division): division\n",
            "Resultado de la operación: 0.5\n",
            "Impar\n",
            "Positivo\n",
            "Decimal\n"
          ]
        }
      ]
    },
    {
      "cell_type": "markdown",
      "source": [
        "11 - Escribe un programa que pida a la persona usuaria tres números que representan los lados de un triángulo. El programa debe informar si los valores pueden utilizarse para formar un triángulo y, en caso afirmativo, si es equilátero, isósceles o escaleno. Ten en cuenta algunas sugerencias:\n",
        "\n",
        "\n",
        "*   Tres lados forman un triángulo cuando la suma de cualesquiera dos lados es mayor que el tercero;\n",
        "*   Triángulo Equilátero: tres lados iguales;\n",
        "*   Triángulo Isósceles: dos lados iguales;\n",
        "*   Triángulo Escaleno: tres lados diferentes.\n"
      ],
      "metadata": {
        "id": "Pr1YCkgLshTD"
      }
    },
    {
      "cell_type": "code",
      "source": [
        "l1 = float(input(\"Ingrese el primer lado del triángulo: \"))\n",
        "l2 = float(input(\"Ingrese el segundo lado del triángulo: \"))\n",
        "l3 = float(input(\"Ingrese el tercer lado del triángulo: \"))\n",
        "if l1 + l2 > l3 and l1 + l3 > l2 and l2 + l3 > l1:\n",
        "    if l1 == l2 == l3:\n",
        "        print(\"Es un triángulo equilátero.\")\n",
        "    elif l1 == l2 or l1 == l3 or l2 == l3:\n",
        "        print(\"Es un triángulo isósceles.\")\n",
        "    else:\n",
        "        print(\"Es un triángulo escaleno.\")\n",
        "else:\n",
        "    print(\"Los valores no forman un triángulo.\")"
      ],
      "metadata": {
        "colab": {
          "base_uri": "https://localhost:8080/"
        },
        "id": "HWOWJyLTLAm-",
        "outputId": "9f7ad579-69a1-4f45-8e85-971211227a04"
      },
      "execution_count": null,
      "outputs": [
        {
          "output_type": "stream",
          "name": "stdout",
          "text": [
            "Ingrese el primer lado del triángulo: 12\n",
            "Ingrese el segundo lado del triángulo: 12\n",
            "Ingrese el tercer lado del triángulo: 3\n",
            "Es un triángulo isósceles.\n"
          ]
        }
      ]
    },
    {
      "cell_type": "markdown",
      "source": [
        "\n",
        "12 - Un establecimiento está vendiendo combustibles con descuentos variables. Para el etanol, si la cantidad comprada es de hasta 15 litros, el descuento será del 2 % por litro. En caso contrario, será del 4% por litro. Para el diésel, si la cantidad comprada es de hasta 15 litros, el descuento será del 3% por litro. En caso contrario, será del 5% por litro. El precio por litro de diésel es de R dolares 2,00 y el precio por litro de etanol es de R$ 1,70. Escribe un programa que lea la cantidad de litros vendidos y el tipo de combustible (E para etanol y D para diésel) y calcule el valor a pagar por el cliente. Ten en cuenta algunas sugerencias:\n",
        "*   El valor del descuento será el producto del precio por litro, la cantidad de litros y el valor del descuento.\n",
        "*   El valor a pagar por un cliente será el resultado de la multiplicación del precio por litro por la cantidad de litros menos el valor del descuento resultante del cálculo.\n",
        "\n"
      ],
      "metadata": {
        "id": "2NBUic3Csi5G"
      }
    },
    {
      "cell_type": "code",
      "source": [
        "litros = float(input(\"Ingrese la cantidad de litros: \"))\n",
        "tipo = input(\"Ingrese el tipo de combustible (E para etanol, D para diésel): \").upper()\n",
        "if tipo == \"EE\":\n",
        "    precio = 1.70\n",
        "    if litros <= 15:\n",
        "        descuento = 0.02\n",
        "    else:\n",
        "        descuento = 0.04\n",
        "elif tipo == \"D\":\n",
        "    precio = 2.00\n",
        "    if litros <= 15:\n",
        "        descuento = 0.03\n",
        "    else:\n",
        "        descuento = 0.05\n",
        "else:\n",
        "    precio = 0\n",
        "    descuento = 0\n",
        "total_sin_descuento = precio * litros\n",
        "valor_descuento = total_sin_descuento * descuento\n",
        "total_a_pagar = total_sin_descuento - valor_descuento\n",
        "print(\"El valor a pagar es: R$\", round(total_a_pagar, 2))"
      ],
      "metadata": {
        "colab": {
          "base_uri": "https://localhost:8080/"
        },
        "id": "8zWMTpsnLADO",
        "outputId": "0c4cdba7-d10c-4129-9e5c-97081f1ac718"
      },
      "execution_count": null,
      "outputs": [
        {
          "output_type": "stream",
          "name": "stdout",
          "text": [
            "Ingrese la cantidad de litros: 12\n",
            "Ingrese el tipo de combustible (E para etanol, D para diésel): E\n",
            "El valor a pagar es: R$ 19.99\n"
          ]
        }
      ]
    },
    {
      "cell_type": "markdown",
      "source": [
        "13 - En una empresa de venta de bienes raíces, debes crear un código que analice los datos de ventas anuales para ayudar a la dirección en la toma de decisiones. El código debe recopilar los datos de cantidad de ventas durante los años 2022 y 2023 y calcular la variación porcentual. A partir del valor de la variación, se deben proporcionar las siguientes sugerencias:\n",
        "*   Para una variación superior al 20%: bonificación para el equipo de ventas.\n",
        "*   Para una variación entre el 2% y el 20%: pequeña bonificación para el equipo de ventas.\n",
        "*   Para una variación entre el 2% y el -10%: planificación de políticas de incentivo a las ventas.\n",
        "*   Para bonificaciones inferiores al -10%: recorte de gastos."
      ],
      "metadata": {
        "id": "qYb10lCostLw"
      }
    },
    {
      "cell_type": "code",
      "source": [
        "ventas_2022 = int(input(\"Ingrese la cantidad de ventas en 2022: \"))\n",
        "ventas_2023 = int(input(\"Ingrese la cantidad de ventas en 2023: \"))\n",
        "variacion = ((ventas_2023 - ventas_2022) / ventas_2022) * 100\n",
        "print(\"Variación porcentual:\", round(variacion, 2), \"%\")\n",
        "if variacion > 20:\n",
        "    print(\"Sugerencia: Bonificación para el equipo de ventas.\")\n",
        "elif 2 < variacion <= 20:\n",
        "    print(\"Sugerencia: Pequeña bonificación para el equipo de ventas.\")\n",
        "elif -10 <= variacion <= 2:\n",
        "    print(\"Sugerencia: Planificación de políticas de incentivo a las ventas.\")\n",
        "else:\n",
        "    print(\"Sugerencia: Recorte de gastos.\")"
      ],
      "metadata": {
        "colab": {
          "base_uri": "https://localhost:8080/"
        },
        "id": "Hr5cBOoMLEgF",
        "outputId": "8fe03ed8-91e1-4c0b-8f63-a742102d871a"
      },
      "execution_count": null,
      "outputs": [
        {
          "output_type": "stream",
          "name": "stdout",
          "text": [
            "Ingrese la cantidad de ventas en 2022: 12\n",
            "Ingrese la cantidad de ventas en 2023: 22\n",
            "Variación porcentual: 83.33 %\n",
            "Sugerencia: Bonificación para el equipo de ventas.\n"
          ]
        }
      ]
    },
    {
      "cell_type": "markdown",
      "source": [
        "# Estructuras de repetición"
      ],
      "metadata": {
        "id": "aL1vJPewvwvz"
      }
    },
    {
      "cell_type": "markdown",
      "source": [
        "Cuando tenemos que ejecutar un mismo bloque de comandos durante varias ocasiones no es nada práctico hacerlo a mano.\n",
        "\n",
        "**Situación**: Nos fue solicitado obtener e imprimir el promedio de 2 notas de **3 estudantes**:"
      ],
      "metadata": {
        "id": "VcPfCa8d-84t"
      }
    },
    {
      "cell_type": "code",
      "source": [
        "nota_1 = float(input('Digita la primera nota: '))\n",
        "nota_2 = float(input('Digita la segunda nota: '))\n",
        "print(f'El promedio del estudiante 1 es: {(nota_1+nota_2)/2}')\n",
        "\n",
        "nota_1 = float(input('Digita la primera nota: '))\n",
        "nota_2 = float(input('Digita la segunda nota: '))\n",
        "print(f'El promedio del estudiante 2 es: {(nota_1+nota_2)/2}')\n",
        "\n",
        "nota_1 = float(input('Digita la primera nota: '))\n",
        "nota_2 = float(input('Digita la segunda nota: '))\n",
        "print(f'El promedio del estudiante 3 es: {(nota_1+nota_2)/2}')"
      ],
      "metadata": {
        "colab": {
          "base_uri": "https://localhost:8080/"
        },
        "id": "3b7a8PthMDF2",
        "outputId": "8874f723-3be5-4876-f28d-f892601fe652"
      },
      "execution_count": null,
      "outputs": [
        {
          "output_type": "stream",
          "name": "stdout",
          "text": [
            "Digita la primera nota: 9\n",
            "Digita la segunda nota: 8\n",
            "El promedio del estudiante 1 es: 8.5\n",
            "Digita la primera nota: 7\n",
            "Digita la segunda nota: 10\n",
            "El promedio del estudiante 2 es: 8.5\n",
            "Digita la primera nota: 11\n",
            "Digita la segunda nota: 12\n",
            "El promedio del estudiante 3 es: 11.5\n"
          ]
        }
      ]
    },
    {
      "cell_type": "markdown",
      "source": [
        "Ahora imaginemos una situación en que no son tan solo 3 estudiantes, sino 100 estudiantes. No sería nada interesante repetir el mismo código 100 veces, sino **ejecutar el mismo código 100 veces**.\n",
        "\n",
        "¡Esta estructura la logramos construir con lazos de repetición!"
      ],
      "metadata": {
        "id": "9puIuvUbFSFX"
      }
    },
    {
      "cell_type": "markdown",
      "source": [
        "## `WHILE`"
      ],
      "metadata": {
        "id": "uLO9-aE4-wx8"
      }
    },
    {
      "cell_type": "markdown",
      "source": [
        "El lazo `while` es una estructura de control de repetición en Python que permite ejecutar un bloque de código repetidamente mientras que una determinada condición sea verdadera. Su estructura es:\n",
        "\n",
        "\n",
        "\n",
        "```\n",
        "while condicion:\n",
        "    # bloque de codigo\n",
        "```\n",
        "\n",
        "Vamos a construir un ejemplo con un contador de 1 hasta 10.\n"
      ],
      "metadata": {
        "id": "rXZxDMiqHxm9"
      }
    },
    {
      "cell_type": "code",
      "source": [
        "contador = 1\n",
        "while contador <= 10:\n",
        "  print(contador)\n",
        "  # contador = contador + 1\n",
        "  contador += 1"
      ],
      "metadata": {
        "colab": {
          "base_uri": "https://localhost:8080/"
        },
        "id": "1651_Ll3OnRS",
        "outputId": "8a87e905-013d-4f34-ad4a-d6abf6936ef5"
      },
      "execution_count": null,
      "outputs": [
        {
          "output_type": "stream",
          "name": "stdout",
          "text": [
            "1\n",
            "2\n",
            "3\n",
            "4\n",
            "5\n",
            "6\n",
            "7\n",
            "8\n",
            "9\n",
            "10\n"
          ]
        }
      ]
    },
    {
      "cell_type": "markdown",
      "source": [
        "Ahora vamos a colectar las notas y promedios de cada alumno dentro del lazo `while`. Haremos un ejemplo con 3 promedios."
      ],
      "metadata": {
        "id": "W4KZPBJuIrut"
      }
    },
    {
      "cell_type": "code",
      "source": [
        "contador = 1\n",
        "while contador <= 3:\n",
        "  nota_1 = float(input('Digita la primera nota: '))\n",
        "  nota_2 = float(input('Digita la segunda nota: '))\n",
        "  print(f'El promedio del estudiante 1 es: {(nota_1+nota_2)/2}')\n",
        "  contador += 1"
      ],
      "metadata": {
        "colab": {
          "base_uri": "https://localhost:8080/"
        },
        "id": "DsewOrulOsy2",
        "outputId": "f877534d-af3a-4b22-9018-785a8350b2d0"
      },
      "execution_count": null,
      "outputs": [
        {
          "output_type": "stream",
          "name": "stdout",
          "text": [
            "Digita la primera nota: 8\n",
            "Digita la segunda nota: 9\n",
            "El promedio del estudiante 1 es: 8.5\n",
            "Digita la primera nota: 9\n",
            "Digita la segunda nota: 10\n",
            "El promedio del estudiante 1 es: 9.5\n",
            "Digita la primera nota: 7\n",
            "Digita la segunda nota: 8\n",
            "El promedio del estudiante 1 es: 7.5\n"
          ]
        }
      ]
    },
    {
      "cell_type": "markdown",
      "source": [
        "## `FOR`"
      ],
      "metadata": {
        "id": "WgAIaENMMfCP"
      }
    },
    {
      "cell_type": "markdown",
      "source": [
        "El lazo `for` es un tipo de estructura de control de flujo en Python que permite iterar sobre un conjunto de elementos. Su estructura es:\n",
        "\n",
        "\n",
        "\n",
        "```\n",
        "for elemento in conjunto:\n",
        "    # codigo a ser ejecutado para cada elemento\n",
        "```\n",
        "\n",
        "El lazo `for` itera sobre cada elemento del conjunto especificado y ejecuta el bloque de código dentro del lazo para cada elemento. Cuando el lazo llega al final del conjunto, este se interrumpe y el programa continúa la ejecución después del lazo.\n",
        "\n"
      ],
      "metadata": {
        "id": "HxrSZoRAMh-x"
      }
    },
    {
      "cell_type": "markdown",
      "source": [
        "El conjunto lo podemos generar con la función incorporada [`range()`](https://docs.python.org/3/library/functions.html#func-range). Se trata de una función capaz de generar una secuencia de números enteros. La estructura de esta función es:\n",
        "\n",
        "```\n",
        "range(inicio, fin, paso)\n",
        "```\n",
        "\n",
        "Según la documentación, `range()` genera una secuencia de números enteros a partir del valor del parámetro `inicio` hasta el valor del parámetro `fin`, de acuerdo con el valor del parámetro `paso`. Si `inicio` no es especificado, el valor por defecto es `0`. Si `paso` no es especificado, el valor por defecto es `1`.\n",
        "\n",
        "\n"
      ],
      "metadata": {
        "id": "6VgjyoQtPHBM"
      }
    },
    {
      "cell_type": "markdown",
      "source": [
        "Vamos a recrear el mismo contador `while` con el lazo `for`."
      ],
      "metadata": {
        "id": "ryn0hfdlUwC8"
      }
    },
    {
      "cell_type": "code",
      "source": [
        "for n in range(1,11):\n",
        "  print(n)"
      ],
      "metadata": {
        "colab": {
          "base_uri": "https://localhost:8080/"
        },
        "id": "zWmuCrTpTvyG",
        "outputId": "c5e99818-e45c-4ef3-9197-1496f2c77069"
      },
      "execution_count": null,
      "outputs": [
        {
          "output_type": "stream",
          "name": "stdout",
          "text": [
            "1\n",
            "2\n",
            "3\n",
            "4\n",
            "5\n",
            "6\n",
            "7\n",
            "8\n",
            "9\n",
            "10\n"
          ]
        }
      ]
    },
    {
      "cell_type": "code",
      "source": [
        "for e in range(1,4):\n",
        "  nota_1 = float(input('Digita la primera nota: '))\n",
        "  nota_2 = float(input('Digita la segunda nota: '))\n",
        "  print(f'El promedio del estudiante 1 es: {(nota_1+nota_2)/2}')"
      ],
      "metadata": {
        "colab": {
          "base_uri": "https://localhost:8080/"
        },
        "id": "E8r_t6QkTdMz",
        "outputId": "4ccd6be2-998e-475d-ce64-300ea596beb2"
      },
      "execution_count": null,
      "outputs": [
        {
          "output_type": "stream",
          "name": "stdout",
          "text": [
            "Digita la primera nota: 8\n",
            "Digita la segunda nota: 9\n",
            "El promedio del estudiante 1 es: 8.5\n",
            "Digita la primera nota: 9\n",
            "Digita la segunda nota: 10\n",
            "El promedio del estudiante 1 es: 9.5\n",
            "Digita la primera nota: 7\n",
            "Digita la segunda nota: 8\n",
            "El promedio del estudiante 1 es: 7.5\n"
          ]
        }
      ]
    },
    {
      "cell_type": "markdown",
      "source": [
        "`continue` interrumpe la iteración actual del bucle y salta a la siguiente, es decir, regresa al inicio del código. Como ejemplo, aquí hay un código que cuenta del 1 al 5 con un bucle for:"
      ],
      "metadata": {
        "id": "cNs-vDRpdPvq"
      }
    },
    {
      "cell_type": "code",
      "source": [
        "for i in range(1, 6):\n",
        "    if i == 4:\n",
        "        continue\n",
        "    print(i)"
      ],
      "metadata": {
        "colab": {
          "base_uri": "https://localhost:8080/"
        },
        "id": "xQreSd7rdRpk",
        "outputId": "1b469be2-7670-4875-ce9f-1aa9352a834c"
      },
      "execution_count": null,
      "outputs": [
        {
          "output_type": "stream",
          "name": "stdout",
          "text": [
            "1\n",
            "2\n",
            "3\n",
            "5\n"
          ]
        }
      ]
    },
    {
      "cell_type": "markdown",
      "source": [
        "Por otro lado, `break` detiene por completo la ejecución del bucle, saliendo del bloque de código. Utilicemos el mismo ejemplo de conteo, pero esta vez con break:"
      ],
      "metadata": {
        "id": "KeH4S8V_dXbq"
      }
    },
    {
      "cell_type": "markdown",
      "source": [],
      "metadata": {
        "id": "6pBK6Ka6dm3w"
      }
    },
    {
      "cell_type": "code",
      "source": [
        "for i in range(1, 6):\n",
        "    if i == 4:\n",
        "        break\n",
        "    print(i)"
      ],
      "metadata": {
        "colab": {
          "base_uri": "https://localhost:8080/"
        },
        "id": "DFyLTGIVdWab",
        "outputId": "b1d27fcd-a6d3-4ae2-c2a3-a22498d3bc04"
      },
      "execution_count": null,
      "outputs": [
        {
          "output_type": "stream",
          "name": "stdout",
          "text": [
            "1\n",
            "2\n",
            "3\n"
          ]
        }
      ]
    },
    {
      "cell_type": "markdown",
      "source": [
        "---\n",
        "## Desafios del aula 5"
      ],
      "metadata": {
        "id": "gOwGii_UcZy6"
      }
    },
    {
      "cell_type": "markdown",
      "source": [
        "\n",
        "### Entrenando la programación\n"
      ],
      "metadata": {
        "id": "7Zt-OpDHd6kT"
      }
    },
    {
      "cell_type": "markdown",
      "source": [
        "1 - Escribe un programa que solicite dos números enteros e imprima todos los números enteros entre ellos."
      ],
      "metadata": {
        "id": "lISEl0sCeJN7"
      }
    },
    {
      "cell_type": "code",
      "source": [
        "inicio = int(input(\"Ingrese el primer número entero: \"))\n",
        "fin = int(input(\"Ingrese el segundo número entero: \"))\n",
        "if inicio > fin:\n",
        "    inicio, fin = fin, inicio\n",
        "for i in range(inicio + 1, fin):\n",
        "    print(i)"
      ],
      "metadata": {
        "colab": {
          "base_uri": "https://localhost:8080/"
        },
        "id": "t-l3rqlJd_xX",
        "outputId": "7197dfb0-608f-4e13-bd37-c026884c4a68"
      },
      "execution_count": null,
      "outputs": [
        {
          "output_type": "stream",
          "name": "stdout",
          "text": [
            "Ingrese el primer número entero: 12\n",
            "Ingrese el segundo número entero: 16\n",
            "13\n",
            "14\n",
            "15\n"
          ]
        }
      ]
    },
    {
      "cell_type": "markdown",
      "source": [
        "2 - Escribe un programa para calcular cuántos días tomará que la colonia de una bacteria A supere o iguale a la colonia de una bacteria B, basado en tasas de crecimiento del 3% y 1.5%, respectivamente. Supón que la colonia A comienza con 4 elementos y B con 10."
      ],
      "metadata": {
        "id": "Jyhu3KUSeOxT"
      }
    },
    {
      "cell_type": "code",
      "source": [
        "dias = 0\n",
        "bacteria_a = 4\n",
        "bacteria_b = 10\n",
        "while bacteria_a < bacteria_b:\n",
        "    bacteria_a *= 1.03\n",
        "    bacteria_b *= 1.015\n",
        "    dias += 1\n",
        "print(\"Días hasta que A alcance o supere a B:\", dias)\n"
      ],
      "metadata": {
        "colab": {
          "base_uri": "https://localhost:8080/"
        },
        "id": "mX9Wsd0ge9bo",
        "outputId": "a7e539e3-a1f3-44aa-febd-8ccb064c5ab3"
      },
      "execution_count": null,
      "outputs": [
        {
          "output_type": "stream",
          "name": "stdout",
          "text": [
            "Días hasta que A alcance o supere a B: 63\n"
          ]
        }
      ]
    },
    {
      "cell_type": "markdown",
      "source": [
        "3 - Para procesar una cantidad de 15 datos de evaluaciones de usuarios de un servicio de la empresa, necesitamos verificar si las calificaciones son válidas. Por lo tanto, escribe un programa que recibirá calificaciones del 0 al 5 y verificará si son valores válidos. Si se ingresa una calificación superior a 5 o inferior a 0, se repetirá hasta que el usuario ingrese un valor válido."
      ],
      "metadata": {
        "id": "94NmxIlPeQNa"
      }
    },
    {
      "cell_type": "code",
      "source": [
        "for i in range(15):\n",
        "    nota = float(input(f\"Ingrese la calificación #{i+1} (0 a 5): \"))\n",
        "    while nota < 0 or nota > 5:\n",
        "        nota = float(input(\"Valor inválido. Ingrese una calificación entre 0 y 5: \"))\n",
        "    print(\"Calificación aceptada.\")4"
      ],
      "metadata": {
        "colab": {
          "base_uri": "https://localhost:8080/"
        },
        "id": "g4JlfGaMeSuY",
        "outputId": "9970dfe1-164b-4923-8b30-a0607bca3785"
      },
      "execution_count": null,
      "outputs": [
        {
          "output_type": "stream",
          "name": "stdout",
          "text": [
            "Ingrese la calificación #1 (0 a 5): 2\n",
            "Calificación aceptada.\n",
            "Ingrese la calificación #2 (0 a 5): 2\n",
            "Calificación aceptada.\n",
            "Ingrese la calificación #3 (0 a 5): 3\n",
            "Calificación aceptada.\n",
            "Ingrese la calificación #4 (0 a 5): 4\n",
            "Calificación aceptada.\n",
            "Ingrese la calificación #5 (0 a 5): 1\n",
            "Calificación aceptada.\n",
            "Ingrese la calificación #6 (0 a 5): 5\n",
            "Calificación aceptada.\n",
            "Ingrese la calificación #7 (0 a 5): 6\n",
            "Valor inválido. Ingrese una calificación entre 0 y 5: 7\n",
            "Valor inválido. Ingrese una calificación entre 0 y 5: 1\n",
            "Calificación aceptada.\n",
            "Ingrese la calificación #8 (0 a 5): 1\n",
            "Calificación aceptada.\n",
            "Ingrese la calificación #9 (0 a 5): 2\n",
            "Calificación aceptada.\n",
            "Ingrese la calificación #10 (0 a 5): 12\n",
            "Valor inválido. Ingrese una calificación entre 0 y 5: 1\n",
            "Calificación aceptada.\n",
            "Ingrese la calificación #11 (0 a 5): 2\n",
            "Calificación aceptada.\n",
            "Ingrese la calificación #12 (0 a 5): 1\n",
            "Calificación aceptada.\n",
            "Ingrese la calificación #13 (0 a 5): 2\n",
            "Calificación aceptada.\n",
            "Ingrese la calificación #14 (0 a 5): 3\n",
            "Calificación aceptada.\n",
            "Ingrese la calificación #15 (0 a 5): -2\n",
            "Valor inválido. Ingrese una calificación entre 0 y 5: 2\n",
            "Calificación aceptada.\n"
          ]
        }
      ]
    },
    {
      "cell_type": "markdown",
      "source": [
        "4 - Desarrolla un programa que lea un conjunto indefinido de temperaturas en grados Celsius y calcule su promedio. La lectura debe detenerse al ingresar el valor -273°C."
      ],
      "metadata": {
        "id": "VqRSpAT8eTX_"
      }
    },
    {
      "cell_type": "code",
      "source": [
        "suma = 0\n",
        "contador = 0\n",
        "while True:\n",
        "    temp = float(input(\"Ingrese una temperatura en °C (-273 para finalizar): \"))\n",
        "    if temp == -273:\n",
        "        break\n",
        "    suma += temp\n",
        "    contador += 1\n",
        "if contador > 0:\n",
        "    promedio = suma / contador\n",
        "    print(\"Temperatura promedio:\", round(promedio, 2), \"°C\")\n",
        "else:\n",
        "    print(\"No se ingresaron temperaturas válidas.\")\n"
      ],
      "metadata": {
        "colab": {
          "base_uri": "https://localhost:8080/"
        },
        "id": "PinwDmlweVy4",
        "outputId": "bed10ea3-ddd2-4723-bec5-7784bafd139f"
      },
      "execution_count": null,
      "outputs": [
        {
          "output_type": "stream",
          "name": "stdout",
          "text": [
            "Ingrese una temperatura en °C (-273 para finalizar): -123\n",
            "Ingrese una temperatura en °C (-273 para finalizar): 125\n",
            "Ingrese una temperatura en °C (-273 para finalizar): 15515\n",
            "Ingrese una temperatura en °C (-273 para finalizar): 12\n",
            "Ingrese una temperatura en °C (-273 para finalizar): 222\n",
            "Ingrese una temperatura en °C (-273 para finalizar): -122\n",
            "Ingrese una temperatura en °C (-273 para finalizar): -273\n",
            "Temperatura promedio: 2604.83 °C\n"
          ]
        }
      ]
    },
    {
      "cell_type": "markdown",
      "source": [
        " 5 - Escribe un programa que calcule el factorial de un número entero proporcionado por el usuario. Recuerda que el factorial de un número entero es el producto de ese número por todos sus antecesores hasta llegar al número 1. Por ejemplo, el factorial de 5 es 5 x 4 x 3 x 2 x 1 = 120."
      ],
      "metadata": {
        "id": "wdnJmCpeeWSf"
      }
    },
    {
      "cell_type": "code",
      "source": [
        "num = int(input(\"Ingrese un número entero para calcular su factorial: \"))\n",
        "factorial = 1\n",
        "for i in range(1, num + 1):\n",
        "    factorial *= i\n",
        "print(f\"El factorial de {num} es: {factorial}\")\n"
      ],
      "metadata": {
        "colab": {
          "base_uri": "https://localhost:8080/"
        },
        "id": "lNnjBEoJg9Sq",
        "outputId": "88ff207f-eb8b-408b-f3b2-f9770c4cbd2e"
      },
      "execution_count": null,
      "outputs": [
        {
          "output_type": "stream",
          "name": "stdout",
          "text": [
            "Ingrese un número entero para calcular su factorial: 5\n",
            "El factorial de 5 es: 120\n"
          ]
        }
      ]
    },
    {
      "cell_type": "markdown",
      "source": [
        "### Momento de los proyectos\n",
        "6 - Escribe un programa que genere la tabla de multiplicar de un número entero del 1 al 10, según la elección del usuario. Como ejemplo, para el número 2, la tabla de multiplicar debe mostrarse en el siguiente formato:\n",
        "\n",
        "\n",
        "```\n",
        "Tabla de multiplicar del 2:\n",
        "2 x 1 = 2\n",
        "2 x 2 = 4\n",
        "[...]\n",
        "2 x 10 = 20\n",
        "\n",
        "```\n",
        "\n"
      ],
      "metadata": {
        "id": "3hpNqUiCedHz"
      }
    },
    {
      "cell_type": "code",
      "source": [
        "numero = int(input(\"Ingrese un número para mostrar su tabla de multiplicar: \"))\n",
        "print(f\"Tabla de multiplicar del {numero}:\")\n",
        "for i in range(1, 11):\n",
        "    print(f\"{numero} x {i} = {numero * i}\")"
      ],
      "metadata": {
        "colab": {
          "base_uri": "https://localhost:8080/"
        },
        "id": "u-fJVb8feoxo",
        "outputId": "f8c5453f-d117-4b6a-b606-91a8df7326c5"
      },
      "execution_count": null,
      "outputs": [
        {
          "output_type": "stream",
          "name": "stdout",
          "text": [
            "Ingrese un número para mostrar su tabla de multiplicar: 12\n",
            "Tabla de multiplicar del 12:\n",
            "12 x 1 = 12\n",
            "12 x 2 = 24\n",
            "12 x 3 = 36\n",
            "12 x 4 = 48\n",
            "12 x 5 = 60\n",
            "12 x 6 = 72\n",
            "12 x 7 = 84\n",
            "12 x 8 = 96\n",
            "12 x 9 = 108\n",
            "12 x 10 = 120\n"
          ]
        }
      ]
    },
    {
      "cell_type": "markdown",
      "source": [
        "7 - Los números primos tienen diversas aplicaciones en Ciencia de Datos, como en criptografía y seguridad. Un número primo es aquel que es divisible solo por sí mismo y por 1. Por lo tanto, crea un programa que solicite un número entero y determine si es un número primo o no."
      ],
      "metadata": {
        "id": "OLP5GChkepMw"
      }
    },
    {
      "cell_type": "code",
      "source": [
        "n = int(input(\"Ingrese un número entero para verificar si es primo: \"))\n",
        "es_primo = True\n",
        "if n <= 1:\n",
        "    es_primo = False\n",
        "else:\n",
        "    for i in range(2, int(n**0.5) + 1):\n",
        "        if n % i == 0:\n",
        "            es_primo = False\n",
        "            break\n",
        "if es_primo:\n",
        "    print(f\"{n} es un número primo.\")\n",
        "else:\n",
        "    print(f\"{n} no es un número primo.\")"
      ],
      "metadata": {
        "colab": {
          "base_uri": "https://localhost:8080/"
        },
        "id": "IC1lcdCmeqGI",
        "outputId": "ef9fbeb4-924e-4b82-a3fc-44c8c3d35b7e"
      },
      "execution_count": null,
      "outputs": [
        {
          "output_type": "stream",
          "name": "stdout",
          "text": [
            "Ingrese un número entero para verificar si es primo: 12\n",
            "12 no es un número primo.\n"
          ]
        }
      ]
    },
    {
      "cell_type": "markdown",
      "source": [
        "8 - Vamos a comprender la distribución de edades de los pensionistas de una empresa de seguros. Escribe un programa que lea las edades de una cantidad no informada de clientes y muestre la distribución en los intervalos [0-25], [26-50], [51-75] y [76-100]. La entrada de datos se detendrá al ingresar un número negativo."
      ],
      "metadata": {
        "id": "RBDt5zqAeql_"
      }
    },
    {
      "cell_type": "code",
      "source": [
        "rango1 = rango2 = rango3 = rango4 = 0\n",
        "while True:\n",
        "    edad = int(input(\"Ingrese la edad del cliente (negativo para terminar): \"))\n",
        "    if edad < 0:\n",
        "        break\n",
        "    if 0 <= edad <= 25:\n",
        "        rango1 += 1\n",
        "    elif 26 <= edad <= 50:\n",
        "        rango2 += 1\n",
        "    elif 51 <= edad <= 75:\n",
        "        rango3 += 1\n",
        "    elif 76 <= edad <= 100:\n",
        "        rango4 += 1\n",
        "print(\"Distribución de edades:\")\n",
        "print(\"[0-25]:\", rango1)\n",
        "print(\"[26-50]:\", rango2)\n",
        "print(\"[51-75]:\", rango3)\n",
        "print(\"[76-100]:\", rango4)"
      ],
      "metadata": {
        "colab": {
          "base_uri": "https://localhost:8080/"
        },
        "id": "68tOhF58eu1A",
        "outputId": "8d116536-22e7-4a18-a3d9-aab428d90563"
      },
      "execution_count": null,
      "outputs": [
        {
          "output_type": "stream",
          "name": "stdout",
          "text": [
            "Ingrese la edad del cliente (negativo para terminar): 12\n",
            "Ingrese la edad del cliente (negativo para terminar): 12\n",
            "Ingrese la edad del cliente (negativo para terminar): 13\n",
            "Ingrese la edad del cliente (negativo para terminar): 12\n",
            "Ingrese la edad del cliente (negativo para terminar): 1\n",
            "Ingrese la edad del cliente (negativo para terminar): 1\n",
            "Ingrese la edad del cliente (negativo para terminar): 12\n",
            "Ingrese la edad del cliente (negativo para terminar): 13\n",
            "Ingrese la edad del cliente (negativo para terminar): 15\n",
            "Ingrese la edad del cliente (negativo para terminar): -1\n",
            "Distribución de edades:\n",
            "[0-25]: 9\n",
            "[26-50]: 0\n",
            "[51-75]: 0\n",
            "[76-100]: 0\n"
          ]
        }
      ]
    },
    {
      "cell_type": "markdown",
      "source": [
        "9 - En una elección para la gerencia de una empresa con 20 empleados, hay cuatro candidatos. Escribe un programa que calcule al ganador de la elección. La votación se realizó de la siguiente manera:\n",
        "\n",
        "Cada empleado votó por uno de los cuatro candidatos (representados por los números 1, 2, 3 y 4).\n",
        "\n",
        "También se contaron los votos nulos (representados por el número 5) y los votos en blanco (representados por el número 6).\n",
        "\n",
        "Al final de la votación, el programa debe mostrar el número total de votos para cada candidato, los votos nulos y los votos en blanco. Además, debe calcular y mostrar el porcentaje de votos nulos con respecto al total de votos y el porcentaje de votos en blanco con respecto al total de votos."
      ],
      "metadata": {
        "id": "YivOrxedevTQ"
      }
    },
    {
      "cell_type": "code",
      "source": [
        "c1 = c2 = c3 = c4 = nulos = blancos = 0\n",
        "for i in range(20):\n",
        "    voto = int(input(f\"Ingrese el voto del empleado #{i+1} (1-4, 5=nulo, 6=blanco): \"))\n",
        "    if voto == 1:\n",
        "        c1 += 1\n",
        "    elif voto == 2:\n",
        "        c2 += 1\n",
        "    elif voto == 3:\n",
        "        c3 += 1\n",
        "    elif voto == 4:\n",
        "        c4 += 1\n",
        "    elif voto == 5:\n",
        "        nulos += 1\n",
        "    elif voto == 6:\n",
        "        blancos += 1\n",
        "    else:\n",
        "        print(\"Voto inválido.\")\n",
        "\n",
        "total_votos = c1 + c2 + c3 + c4 + nulos + blancos\n",
        "print(\"Resultados de la votación:\")\n",
        "print(\"Candidato 1:\", c1, \"votos\")\n",
        "print(\"Candidato 2:\", c2, \"votos\")\n",
        "print(\"Candidato 3:\", c3, \"votos\")\n",
        "print(\"Candidato 4:\", c4, \"votos\")\n",
        "print(\"Votos nulos:\", nulos)\n",
        "print(\"Votos en blanco:\", blancos)\n",
        "\n",
        "if total_votos > 0:\n",
        "    print(\"Porcentaje de votos nulos:\", round((nulos / total_votos) * 100, 2), \"%\")\n",
        "    print(\"Porcentaje de votos en blanco:\", round((blancos / total_votos) * 100, 2), \"%\")\n"
      ],
      "metadata": {
        "colab": {
          "base_uri": "https://localhost:8080/"
        },
        "id": "ArJoNPg8e6p_",
        "outputId": "b5131729-b570-406b-8c45-63ff45830438"
      },
      "execution_count": null,
      "outputs": [
        {
          "output_type": "stream",
          "name": "stdout",
          "text": [
            "Ingrese el voto del empleado #1 (1-4, 5=nulo, 6=blanco): 2\n",
            "Ingrese el voto del empleado #2 (1-4, 5=nulo, 6=blanco): 1\n",
            "Ingrese el voto del empleado #3 (1-4, 5=nulo, 6=blanco): 3\n",
            "Ingrese el voto del empleado #4 (1-4, 5=nulo, 6=blanco): 2\n",
            "Ingrese el voto del empleado #5 (1-4, 5=nulo, 6=blanco): 5\n",
            "Ingrese el voto del empleado #6 (1-4, 5=nulo, 6=blanco): 1\n",
            "Ingrese el voto del empleado #7 (1-4, 5=nulo, 6=blanco): 2\n",
            "Ingrese el voto del empleado #8 (1-4, 5=nulo, 6=blanco): 3\n",
            "Ingrese el voto del empleado #9 (1-4, 5=nulo, 6=blanco): 4\n",
            "Ingrese el voto del empleado #10 (1-4, 5=nulo, 6=blanco): 5\n",
            "Ingrese el voto del empleado #11 (1-4, 5=nulo, 6=blanco): 6\n",
            "Ingrese el voto del empleado #12 (1-4, 5=nulo, 6=blanco): 6\n",
            "Ingrese el voto del empleado #13 (1-4, 5=nulo, 6=blanco): 6\n",
            "Ingrese el voto del empleado #14 (1-4, 5=nulo, 6=blanco): 1\n",
            "Ingrese el voto del empleado #15 (1-4, 5=nulo, 6=blanco): 2\n",
            "Ingrese el voto del empleado #16 (1-4, 5=nulo, 6=blanco): 3\n",
            "Ingrese el voto del empleado #17 (1-4, 5=nulo, 6=blanco): 4\n",
            "Ingrese el voto del empleado #18 (1-4, 5=nulo, 6=blanco): 1\n",
            "Ingrese el voto del empleado #19 (1-4, 5=nulo, 6=blanco): 1\n",
            "Ingrese el voto del empleado #20 (1-4, 5=nulo, 6=blanco): 1\n",
            "Resultados de la votación:\n",
            "Candidato 1: 6 votos\n",
            "Candidato 2: 4 votos\n",
            "Candidato 3: 3 votos\n",
            "Candidato 4: 2 votos\n",
            "Votos nulos: 2\n",
            "Votos en blanco: 3\n",
            "Porcentaje de votos nulos: 10.0 %\n",
            "Porcentaje de votos en blanco: 15.0 %\n"
          ]
        }
      ]
    },
    {
      "cell_type": "markdown",
      "source": [
        "---"
      ],
      "metadata": {
        "id": "0JxAMdY5eEUB"
      }
    },
    {
      "cell_type": "markdown",
      "source": [
        "# Estructuras de datos"
      ],
      "metadata": {
        "id": "8noP8OJ0Vhux"
      }
    },
    {
      "cell_type": "markdown",
      "source": [
        "Un conjunto de elementos es una colección de items, que son almacenados juntos de manera organizada. Algunos ejemplos de conjuntos de elementos en Python son las listas, los strings y los diccionarios."
      ],
      "metadata": {
        "id": "xpEUkefTu8fY"
      }
    },
    {
      "cell_type": "markdown",
      "source": [
        "## Listas"
      ],
      "metadata": {
        "id": "THSg4KYLwxIb"
      }
    },
    {
      "cell_type": "markdown",
      "source": [
        "Las listas pueden almacenar una colección de items en orden. Ellas son delimitadas por corchetes `[]` y sus elementos son separados por comas.\n",
        "\n",
        "Estas pueden almacenar cualquier tipo de items, incluyendo números, strings, objetos, otras listas, entre otros. También nos permiten almacenar items de tipos de datos diferentes juntos en una única lista."
      ],
      "metadata": {
        "id": "dzpsiqrOyJcK"
      }
    },
    {
      "cell_type": "code",
      "source": [
        "lista = ['Penélope Camacho',9.5,9.0,9.7,True]\n",
        "lista"
      ],
      "metadata": {
        "id": "DO3TBj7nAYeG",
        "colab": {
          "base_uri": "https://localhost:8080/"
        },
        "outputId": "0eb0b50c-ae29-4a92-fd05-124a33730d7a"
      },
      "execution_count": null,
      "outputs": [
        {
          "output_type": "execute_result",
          "data": {
            "text/plain": [
              "['Penélope Camacho', 9.5, 9.0, 9.7, True]"
            ]
          },
          "metadata": {},
          "execution_count": 3
        }
      ]
    },
    {
      "cell_type": "code",
      "source": [
        "type(lista)"
      ],
      "metadata": {
        "colab": {
          "base_uri": "https://localhost:8080/"
        },
        "id": "SiOaMQebcHgF",
        "outputId": "1047a6b1-24b5-496f-8667-8187dd03f1d0"
      },
      "execution_count": null,
      "outputs": [
        {
          "output_type": "execute_result",
          "data": {
            "text/plain": [
              "list"
            ]
          },
          "metadata": {},
          "execution_count": 4
        }
      ]
    },
    {
      "cell_type": "markdown",
      "source": [
        "Las listas son organizadas en Python porque **cada elemento de la lista tiene un índice que indica su posición al interior de la lista**. Los índices comienzan en 0 van hasta el tamaño de la lista menos 1."
      ],
      "metadata": {
        "id": "qUz3sJNl6LgK"
      }
    },
    {
      "cell_type": "markdown",
      "source": [
        "Tenemos entonces 5 elementos con índices que varían de 0 a 4, ordenadamente:\n",
        "\n",
        "```\n",
        "#             [0]           [1]   [2]   [3]    [4]\n",
        "lista = ['Penélope Camacho', 9.5 , 9.0 , 9.7 , True]\n",
        "```\n",
        "\n",
        "En Python tenemos también los índices **negativos** que se inician en el último elemento con el valor de `-1` y avanzan en el universo de los negativos hasta llegar al 1° elemento:\n",
        "\n",
        "```\n",
        "#             [-5]         [-4]  [-3]  [-2]   [-1]\n",
        "lista = ['Penélope Camacho', 9.5 , 9.0 , 9.7 , True]\n",
        "```\n",
        "\n",
        "Logramos seleccionar separadamente cada elemento a través de sus respectivos índices. Colocando el nombre de la lista y en seguida el índice que será seleccionado."
      ],
      "metadata": {
        "id": "rLf-Qg526hFD"
      }
    },
    {
      "cell_type": "code",
      "source": [
        "type(lista[0])"
      ],
      "metadata": {
        "colab": {
          "base_uri": "https://localhost:8080/"
        },
        "id": "ZhFZrhwobLi_",
        "outputId": "86dce60c-80c4-4065-8ec7-494fd4824382"
      },
      "execution_count": null,
      "outputs": [
        {
          "output_type": "execute_result",
          "data": {
            "text/plain": [
              "str"
            ]
          },
          "metadata": {},
          "execution_count": 5
        }
      ]
    },
    {
      "cell_type": "code",
      "source": [
        "type(lista[1])"
      ],
      "metadata": {
        "colab": {
          "base_uri": "https://localhost:8080/"
        },
        "id": "-aR2pDg8bLl0",
        "outputId": "202df08e-8d47-4213-8906-b71851d3fb75"
      },
      "execution_count": null,
      "outputs": [
        {
          "output_type": "execute_result",
          "data": {
            "text/plain": [
              "float"
            ]
          },
          "metadata": {},
          "execution_count": 65
        }
      ]
    },
    {
      "cell_type": "code",
      "source": [
        "type(lista[-1])"
      ],
      "metadata": {
        "colab": {
          "base_uri": "https://localhost:8080/"
        },
        "id": "DwYzZo3YbLvi",
        "outputId": "52b09357-29bf-48b6-dd23-faa0bb13c0dc"
      },
      "execution_count": null,
      "outputs": [
        {
          "output_type": "execute_result",
          "data": {
            "text/plain": [
              "bool"
            ]
          },
          "metadata": {},
          "execution_count": 66
        }
      ]
    },
    {
      "cell_type": "markdown",
      "source": [
        "Una forma más dinámica de trabajar item a item en una lista es utilizando un lazo `for` para leer un elemento a la vez."
      ],
      "metadata": {
        "id": "6TaE1ijmBTCd"
      }
    },
    {
      "cell_type": "code",
      "source": [
        "for elemento in lista:\n",
        "  print(elemento)"
      ],
      "metadata": {
        "colab": {
          "base_uri": "https://localhost:8080/"
        },
        "id": "YrG21ZNTbKPM",
        "outputId": "bd56530f-a0f0-4f59-8663-be17e95753af"
      },
      "execution_count": null,
      "outputs": [
        {
          "output_type": "stream",
          "name": "stdout",
          "text": [
            "Penélope Camacho\n",
            "9.5\n",
            "9.0\n",
            "9.7\n",
            "True\n"
          ]
        }
      ]
    },
    {
      "cell_type": "markdown",
      "source": [
        "**Situación**: La nota `9.0` de Penélope necesita ser ajustada pues ganó 1 punto en su última nota por participación en clase. Entonces es necesario realizar un cambio en el índice `2` de `9.0` a `10.0`."
      ],
      "metadata": {
        "id": "Dh1_HnIVvucY"
      }
    },
    {
      "cell_type": "code",
      "source": [
        "lista[2] = 10.0"
      ],
      "metadata": {
        "id": "W5l3Uh5UbZbX"
      },
      "execution_count": null,
      "outputs": []
    },
    {
      "cell_type": "code",
      "source": [
        "lista"
      ],
      "metadata": {
        "colab": {
          "base_uri": "https://localhost:8080/"
        },
        "id": "K2f9UIpAbZl5",
        "outputId": "32a303be-83f3-4750-97a4-d4cdbb4e2fbf"
      },
      "execution_count": null,
      "outputs": [
        {
          "output_type": "execute_result",
          "data": {
            "text/plain": [
              "['Penélope Camacho', 9.5, 10.0, 9.7, True]"
            ]
          },
          "metadata": {},
          "execution_count": 7
        }
      ]
    },
    {
      "cell_type": "markdown",
      "source": [
        "También podemos calcular el promedio del estudiante a partir de los datos que tenemos."
      ],
      "metadata": {
        "id": "53XduzXkycAf"
      }
    },
    {
      "cell_type": "code",
      "source": [
        "promedio = (lista[1]+lista[2]+lista[3])/3\n",
        "promedio"
      ],
      "metadata": {
        "colab": {
          "base_uri": "https://localhost:8080/"
        },
        "id": "CBmwzw0lbZoO",
        "outputId": "c59bb946-6eec-4027-a983-460a82df58f9"
      },
      "execution_count": null,
      "outputs": [
        {
          "output_type": "execute_result",
          "data": {
            "text/plain": [
              "9.733333333333333"
            ]
          },
          "metadata": {},
          "execution_count": 8
        }
      ]
    },
    {
      "cell_type": "markdown",
      "source": [
        "---\n",
        "## String - Una secuencia de caracteres Siguiente pregunta"
      ],
      "metadata": {
        "id": "yC2J865M3foF"
      }
    },
    {
      "cell_type": "code",
      "source": [
        "lenguaje = 'Python'\n",
        "print(lenguaje[0], lenguaje[1], lenguaje[2], lenguaje[-3], lenguaje[-2], lenguaje[-1])"
      ],
      "metadata": {
        "colab": {
          "base_uri": "https://localhost:8080/"
        },
        "id": "OpXthGhZ3mMM",
        "outputId": "6a20ca9b-a413-4680-b70f-519c24478370"
      },
      "execution_count": null,
      "outputs": [
        {
          "output_type": "stream",
          "name": "stdout",
          "text": [
            "P y t h o n\n"
          ]
        }
      ]
    },
    {
      "cell_type": "markdown",
      "source": [
        " Una cadena es una secuencia de caracteres (letras, números, símbolos, etc.) representada por una sola variable. Por otro lado, una estructura de datos almacena una colección de elementos (que pueden ser de diferentes tipos) en una sola variable."
      ],
      "metadata": {
        "id": "b4AJ_3OJ3zQL"
      }
    },
    {
      "cell_type": "markdown",
      "source": [
        " Método `split()` para convertir una cadena en una lista dividiéndola según un delimitador (una cadena)"
      ],
      "metadata": {
        "id": "Jjg4XBkJ4HLq"
      }
    },
    {
      "cell_type": "code",
      "source": [
        "pregunta = '¿Quién vino primero? ¿El huevo? ¿O fue la serpiente?'\n",
        "lista_palabras = pregunta.split('?')\n",
        "print(lista_palabras)"
      ],
      "metadata": {
        "colab": {
          "base_uri": "https://localhost:8080/"
        },
        "id": "_ZbsUBBx3p6u",
        "outputId": "7e4b8263-4b58-4898-da22-3b4d2bbbb954"
      },
      "execution_count": null,
      "outputs": [
        {
          "output_type": "stream",
          "name": "stdout",
          "text": [
            "['¿Quién vino primero', ' ¿El huevo', ' ¿O fue la serpiente', '']\n"
          ]
        }
      ]
    },
    {
      "cell_type": "markdown",
      "source": [
        "Sin delimitador se separa por todos los espacios en blanco"
      ],
      "metadata": {
        "id": "fwG-4lEA4iEk"
      }
    },
    {
      "cell_type": "code",
      "source": [
        "pregunta = '¿Quién vino primero? ¿El huevo? ¿O fue la serpiente?'\n",
        "lista_palabras = pregunta.split()\n",
        "print(lista_palabras)"
      ],
      "metadata": {
        "colab": {
          "base_uri": "https://localhost:8080/"
        },
        "id": "1NwW1AAE4ljA",
        "outputId": "8a277484-749f-41a6-c54a-289877853f59"
      },
      "execution_count": null,
      "outputs": [
        {
          "output_type": "stream",
          "name": "stdout",
          "text": [
            "['¿Quién', 'vino', 'primero?', '¿El', 'huevo?', '¿O', 'fue', 'la', 'serpiente?']\n"
          ]
        }
      ]
    },
    {
      "cell_type": "markdown",
      "source": [
        "Método `join()` convirete una lista en una cadena pero se define un carácter que será el punto de union de los elementos de la lista\n"
      ],
      "metadata": {
        "id": "XMvfwdCr5PyU"
      }
    },
    {
      "cell_type": "code",
      "source": [
        "mezclas = ['Pinturas: rojo, azul y amarillo',\n",
        "            'Verde: mezcla de azul y amarillo',\n",
        "            'Naranja: mezcla de rojo y amarillo',\n",
        "            'Morado: mezcla de rojo y azul']\n",
        "unificador = '. '\n",
        "cadena_mezclas = unificador.join(mezclas)\n",
        "print(cadena_mezclas)"
      ],
      "metadata": {
        "colab": {
          "base_uri": "https://localhost:8080/"
        },
        "id": "DWypGARy5Qjm",
        "outputId": "3a202d04-dea2-47ce-b7ab-d6ec7e3e454c"
      },
      "execution_count": null,
      "outputs": [
        {
          "output_type": "stream",
          "name": "stdout",
          "text": [
            "Pinturas: rojo, azul y amarillo. Verde: mezcla de azul y amarillo. Naranja: mezcla de rojo y amarillo. Morado: mezcla de rojo y azul\n"
          ]
        }
      ]
    },
    {
      "cell_type": "markdown",
      "source": [
        "---"
      ],
      "metadata": {
        "id": "AYVtDjOR7xZj"
      }
    },
    {
      "cell_type": "markdown",
      "source": [
        "## Manipulación de listas\n",
        "\n",
        "Las listas son muy útiles en Python porque nos permiten almacenar y acceder a una colección de items de manera organizada y rápida. Estas también ofrecen muchos métodos útiles para manipular los itens almacenados, como adicionar, remover, clasificar y buscar elementos."
      ],
      "metadata": {
        "id": "d-iYr10-y4qw"
      }
    },
    {
      "cell_type": "markdown",
      "source": [
        "#### Cantidad de elementos\n",
        "\n",
        "Usamos la función [`len()`](https://docs.python.org/3/library/functions.html#len) para descubrir la cantidad de elementos de un conjunto."
      ],
      "metadata": {
        "id": "ZLqx9A97XVB_"
      }
    },
    {
      "cell_type": "code",
      "source": [
        "len(lista)"
      ],
      "metadata": {
        "colab": {
          "base_uri": "https://localhost:8080/"
        },
        "id": "6heq2ck4BVxj",
        "outputId": "be68de8e-e468-4e86-e90b-54e8c223d396"
      },
      "execution_count": null,
      "outputs": [
        {
          "output_type": "execute_result",
          "data": {
            "text/plain": [
              "5"
            ]
          },
          "metadata": {},
          "execution_count": 71
        }
      ]
    },
    {
      "cell_type": "markdown",
      "source": [
        "#### Partición\n",
        "\n",
        "La partición de listas por indexación en Python es una técnica muy útil para seleccionar un subconjunto de elementos de una lista. Esta se realiza usando la sintaxis `lista[inicio:fin]`, donde `inicio` es el índice del primer elemento que será incluído en la partición `fin` es el índice del primer elemento que será excluído de la partición."
      ],
      "metadata": {
        "id": "Z5tpstlHJss3"
      }
    },
    {
      "cell_type": "code",
      "source": [
        "lista[0:2]"
      ],
      "metadata": {
        "colab": {
          "base_uri": "https://localhost:8080/"
        },
        "id": "-rEO48bSB_JU",
        "outputId": "5efdb5e4-c643-401c-889f-0f1774070323"
      },
      "execution_count": null,
      "outputs": [
        {
          "output_type": "execute_result",
          "data": {
            "text/plain": [
              "['Penélope Camacho', 9.5]"
            ]
          },
          "metadata": {},
          "execution_count": 72
        }
      ]
    },
    {
      "cell_type": "code",
      "source": [
        "lista[:3]"
      ],
      "metadata": {
        "colab": {
          "base_uri": "https://localhost:8080/"
        },
        "id": "wK_r0oE4B_Lp",
        "outputId": "d0ec8e10-0c0c-4921-e951-7e715fb2587c"
      },
      "execution_count": null,
      "outputs": [
        {
          "output_type": "execute_result",
          "data": {
            "text/plain": [
              "['Penélope Camacho', 9.5, 10.0]"
            ]
          },
          "metadata": {},
          "execution_count": 73
        }
      ]
    },
    {
      "cell_type": "code",
      "source": [
        "lista[3:]"
      ],
      "metadata": {
        "colab": {
          "base_uri": "https://localhost:8080/"
        },
        "id": "FOkzwAmmB_Q5",
        "outputId": "74bd04bf-25bd-427f-d9c7-b1e1eadb2960"
      },
      "execution_count": null,
      "outputs": [
        {
          "output_type": "execute_result",
          "data": {
            "text/plain": [
              "[9.7, True]"
            ]
          },
          "metadata": {},
          "execution_count": 74
        }
      ]
    },
    {
      "cell_type": "code",
      "source": [
        "lista[:]"
      ],
      "metadata": {
        "colab": {
          "base_uri": "https://localhost:8080/"
        },
        "id": "aexJxJ2LIdEf",
        "outputId": "f7e17f2d-cafe-4341-8a8e-3b8951ae83fc"
      },
      "execution_count": null,
      "outputs": [
        {
          "output_type": "execute_result",
          "data": {
            "text/plain": [
              "['Penélope Camacho', 9.5, 10.0, 9.7, True]"
            ]
          },
          "metadata": {},
          "execution_count": 75
        }
      ]
    },
    {
      "cell_type": "markdown",
      "source": [
        "#### [`append()`](https://docs.python.org/3/tutorial/datastructures.html#:~:text=of%20list%20objects%3A-,list.append(x),-Add%20an%20item)\n",
        "\n",
        "Añade un elemento al final de la lista."
      ],
      "metadata": {
        "id": "O0RRyabkRzZC"
      }
    },
    {
      "cell_type": "code",
      "source": [
        "lista.append(promedio)"
      ],
      "metadata": {
        "id": "uU1gEcQSCcqi"
      },
      "execution_count": null,
      "outputs": []
    },
    {
      "cell_type": "code",
      "source": [
        "lista"
      ],
      "metadata": {
        "colab": {
          "base_uri": "https://localhost:8080/"
        },
        "id": "ErK4dv9mIuP5",
        "outputId": "32ce7ae3-914c-4489-8c9c-3890d1e1183b"
      },
      "execution_count": null,
      "outputs": [
        {
          "output_type": "execute_result",
          "data": {
            "text/plain": [
              "['Penélope Camacho', 9.5, 10.0, 9.7, True, 9.733333333333333]"
            ]
          },
          "metadata": {},
          "execution_count": 77
        }
      ]
    },
    {
      "cell_type": "markdown",
      "source": [
        "#### [`extend()`](https://docs.python.org/3/tutorial/datastructures.html#:~:text=list.extend(iterable))\n",
        "\n",
        "Añade varios elementos al final de la lista.\n",
        "\n",
        "Añadiremos las notas `[10.0,8.0,9.0]` En la lista de Penélope Camacho."
      ],
      "metadata": {
        "id": "uQV91XMsUOJD"
      }
    },
    {
      "cell_type": "code",
      "source": [
        "lista.extend([10.0,8.0,9.0])"
      ],
      "metadata": {
        "id": "dtsoLp1ECcBg"
      },
      "execution_count": null,
      "outputs": []
    },
    {
      "cell_type": "code",
      "source": [
        "lista"
      ],
      "metadata": {
        "colab": {
          "base_uri": "https://localhost:8080/"
        },
        "id": "VyHnEv1nI4eY",
        "outputId": "df565b2e-717f-4a43-d863-026a6c230ec3"
      },
      "execution_count": null,
      "outputs": [
        {
          "output_type": "execute_result",
          "data": {
            "text/plain": [
              "['Penélope Camacho', 9.5, 10.0, 9.7, True, 9.733333333333333, 10.0, 8.0, 9.0]"
            ]
          },
          "metadata": {},
          "execution_count": 79
        }
      ]
    },
    {
      "cell_type": "markdown",
      "source": [
        "*A continuación te mostraremos lo que no puede realizarse con* `append`."
      ],
      "metadata": {
        "id": "IVJvkTwNUk6M"
      }
    },
    {
      "cell_type": "code",
      "source": [
        "lista.append([10.0,8.0,9.0])"
      ],
      "metadata": {
        "id": "vex7y_DCCbHC"
      },
      "execution_count": null,
      "outputs": []
    },
    {
      "cell_type": "code",
      "source": [
        "lista"
      ],
      "metadata": {
        "colab": {
          "base_uri": "https://localhost:8080/"
        },
        "id": "cUU2PxvzJBSQ",
        "outputId": "b6c29e88-becd-4cfc-e420-53dbaf9166d6"
      },
      "execution_count": null,
      "outputs": [
        {
          "output_type": "execute_result",
          "data": {
            "text/plain": [
              "['Penélope Camacho',\n",
              " 9.5,\n",
              " 10.0,\n",
              " 9.7,\n",
              " True,\n",
              " 9.733333333333333,\n",
              " 10.0,\n",
              " 8.0,\n",
              " 9.0,\n",
              " [10.0, 8.0, 9.0]]"
            ]
          },
          "metadata": {},
          "execution_count": 81
        }
      ]
    },
    {
      "cell_type": "markdown",
      "source": [
        "#### [`remove()`](https://docs.python.org/3/tutorial/datastructures.html#:~:text=append(x).-,list.remove(x),-Remove%20the%20first)\n",
        "\n",
        "Remueve un elemento específico de la lista."
      ],
      "metadata": {
        "id": "dPGM5gpyUX1z"
      }
    },
    {
      "cell_type": "code",
      "source": [
        "lista.remove([10.0, 8.0, 9.0])"
      ],
      "metadata": {
        "id": "OGzDpQNTCkmD"
      },
      "execution_count": null,
      "outputs": []
    },
    {
      "cell_type": "code",
      "source": [
        "lista"
      ],
      "metadata": {
        "colab": {
          "base_uri": "https://localhost:8080/"
        },
        "id": "Rb3stMcVJPJA",
        "outputId": "3df406bf-20f9-481b-b708-9994d56257f7"
      },
      "execution_count": null,
      "outputs": [
        {
          "output_type": "execute_result",
          "data": {
            "text/plain": [
              "['Penélope Camacho', 9.5, 10.0, 9.7, True]"
            ]
          },
          "metadata": {},
          "execution_count": 20
        }
      ]
    },
    {
      "cell_type": "code",
      "source": [
        "lista.remove(9.5)"
      ],
      "metadata": {
        "id": "Wo20-MfC98_U"
      },
      "execution_count": null,
      "outputs": []
    },
    {
      "cell_type": "code",
      "source": [
        "lista"
      ],
      "metadata": {
        "colab": {
          "base_uri": "https://localhost:8080/"
        },
        "id": "lzxOSYaY-AE0",
        "outputId": "930105c9-0f72-44bf-ded6-8c725794db0b"
      },
      "execution_count": null,
      "outputs": [
        {
          "output_type": "execute_result",
          "data": {
            "text/plain": [
              "['Penélope Camacho', 10.0, 9.7, True]"
            ]
          },
          "metadata": {},
          "execution_count": 22
        }
      ]
    },
    {
      "cell_type": "markdown",
      "source": [
        "---\n",
        "## Otras manipulaciones para las listas"
      ],
      "metadata": {
        "id": "dpHpjfKP7tIE"
      }
    },
    {
      "cell_type": "code",
      "source": [
        "razas_de_perros = ['Labrador Retriever',\n",
        "                   'Bulldog Francés',\n",
        "                   'Pastor Alemán',\n",
        "                   'Poodle']"
      ],
      "metadata": {
        "id": "-TpGNn6_71Vl"
      },
      "execution_count": null,
      "outputs": []
    },
    {
      "cell_type": "markdown",
      "source": [
        " El método es `insert()`  permite insertar un elemento en una posición específica de la lista y tiene sintaxis `lista.insert(indice, elemento)` donde \"`lista`\" es la lista que recibirá el nuevo elemento, \"`indice`\" es la posición donde se insertará el nuevo elemento y \"`elemento`\" es el nuevo elemento que se insertará."
      ],
      "metadata": {
        "id": "8xR68JIS8ADs"
      }
    },
    {
      "cell_type": "code",
      "source": [
        "razas_de_perros.insert(1, 'Golden Retriever')\n",
        "razas_de_perros"
      ],
      "metadata": {
        "colab": {
          "base_uri": "https://localhost:8080/"
        },
        "id": "c-DzDlrq7_A8",
        "outputId": "e1d88158-f70a-427d-b726-b5c2e14a3142"
      },
      "execution_count": null,
      "outputs": [
        {
          "output_type": "execute_result",
          "data": {
            "text/plain": [
              "['Labrador Retriever',\n",
              " 'Golden Retriever',\n",
              " 'Bulldog Francés',\n",
              " 'Pastor Alemán',\n",
              " 'Poodle']"
            ]
          },
          "metadata": {},
          "execution_count": 17
        }
      ]
    },
    {
      "cell_type": "markdown",
      "source": [
        "El método `pop() ` elimina el elemento en una posición específica de la lista y lo devuelve como salida al ejecutar el método."
      ],
      "metadata": {
        "id": "psGCzTGd9mYI"
      }
    },
    {
      "cell_type": "code",
      "source": [
        "razas_de_perros.pop(1)"
      ],
      "metadata": {
        "colab": {
          "base_uri": "https://localhost:8080/",
          "height": 36
        },
        "id": "7TflonBt9leW",
        "outputId": "018a23d1-22f6-4e32-f7b0-60def1248c82"
      },
      "execution_count": null,
      "outputs": [
        {
          "output_type": "execute_result",
          "data": {
            "text/plain": [
              "'Golden Retriever'"
            ],
            "application/vnd.google.colaboratory.intrinsic+json": {
              "type": "string"
            }
          },
          "metadata": {},
          "execution_count": 23
        }
      ]
    },
    {
      "cell_type": "markdown",
      "source": [
        "El método `index() `devuelve el índice de un elemento específico en la lista. Para hacerlo, especificamos el elemento entre paréntesis"
      ],
      "metadata": {
        "id": "z20GtMx09cF3"
      }
    },
    {
      "cell_type": "code",
      "source": [
        "razas_de_perros.index('Pastor Alemán')"
      ],
      "metadata": {
        "colab": {
          "base_uri": "https://localhost:8080/"
        },
        "id": "YA40w2XG9f7W",
        "outputId": "141ae900-b6bb-48e2-e2bf-5c048b142360"
      },
      "execution_count": null,
      "outputs": [
        {
          "output_type": "execute_result",
          "data": {
            "text/plain": [
              "2"
            ]
          },
          "metadata": {},
          "execution_count": 25
        }
      ]
    },
    {
      "cell_type": "markdown",
      "source": [
        "El método sort() ordena los elementos de la lista en orden ascendente o descendente. Si son palabras, el orden se basa en el orden alfabético o en el orden inverso."
      ],
      "metadata": {
        "id": "QadpdceW9bl8"
      }
    },
    {
      "cell_type": "code",
      "source": [
        "razas_de_perros.sort()\n",
        "razas_de_perros"
      ],
      "metadata": {
        "colab": {
          "base_uri": "https://localhost:8080/"
        },
        "id": "lHKotvFE9hWo",
        "outputId": "90c0a740-a43c-43d5-b705-d9033cac7f4d"
      },
      "execution_count": null,
      "outputs": [
        {
          "output_type": "execute_result",
          "data": {
            "text/plain": [
              "['Bulldog Francés', 'Labrador Retriever', 'Pastor Alemán', 'Poodle']"
            ]
          },
          "metadata": {},
          "execution_count": 26
        }
      ]
    },
    {
      "cell_type": "markdown",
      "source": [
        "---"
      ],
      "metadata": {
        "id": "YLHXMTva7zJ8"
      }
    },
    {
      "cell_type": "markdown",
      "source": [
        "## Diccionario"
      ],
      "metadata": {
        "id": "Rc22Vc08YDZ2"
      }
    },
    {
      "cell_type": "markdown",
      "source": [
        "Los diccionarios son un tipo de estructura de datos que almacenan pares de *llave-valor*. Estos son delimitados por llaves `{}` y los pares *llave-valor* son separados por comas.\n",
        "\n",
        "```\n",
        "diccionario = {llave: valor}\n",
        "```\n",
        "\n",
        "La **llave** es un elemento único que identifica a un valor en el diccionario, mientras que el **valor** es el item que será almacenado para la llave. Las llaves y sus respectivos valores se pueden emplear para **cualquier tipo de dato**.\n",
        "\n",
        "Los diccionarios son útiles para almacenar y acceder a los datos de manera organizada y rápida. Se trata de un tipo de conjunto de elementos en Python, pues almacenan una colección de items."
      ],
      "metadata": {
        "id": "PJ-cCKPjeWxL"
      }
    },
    {
      "cell_type": "code",
      "source": [
        "diccionario = {'llave_1':1,\n",
        "               'llave_2':2}\n",
        "\n",
        "diccionario"
      ],
      "metadata": {
        "colab": {
          "base_uri": "https://localhost:8080/"
        },
        "id": "DEST0dckDkJe",
        "outputId": "67a8ad20-9558-41b6-e34d-5d70bc888e67"
      },
      "execution_count": null,
      "outputs": [
        {
          "output_type": "execute_result",
          "data": {
            "text/plain": [
              "{'llave_1': 1, 'llave_2': 2}"
            ]
          },
          "metadata": {},
          "execution_count": 27
        }
      ]
    },
    {
      "cell_type": "code",
      "source": [
        "type(diccionario)"
      ],
      "metadata": {
        "colab": {
          "base_uri": "https://localhost:8080/"
        },
        "id": "XlIbHS3TKuOz",
        "outputId": "edd9e922-009d-455d-9afc-f6fe7e4765d7"
      },
      "execution_count": null,
      "outputs": [
        {
          "output_type": "execute_result",
          "data": {
            "text/plain": [
              "dict"
            ]
          },
          "metadata": {},
          "execution_count": 28
        }
      ]
    },
    {
      "cell_type": "markdown",
      "source": [
        "---\n",
        "**Situación:**\n",
        "\n",
        "Vamos a crear un conjunto de datos con las informaciones de matrícula de un estudiante. Los datos son los siguientes:\n",
        "\n",
        "- matrícula: 2000168933\n",
        "- día de registro: 25\n",
        "- mes de registro: 10\n",
        "- grupo: 2E"
      ],
      "metadata": {
        "id": "_JbQ3KMKfkXU"
      }
    },
    {
      "cell_type": "code",
      "source": [
        "estudiante = {\n",
        "              'matricula': 2000168933,\n",
        "              'dia_registro': 25,\n",
        "              'mes_registro': 10,\n",
        "              'grupo': '2E'\n",
        "              }\n",
        "\n",
        "estudiante"
      ],
      "metadata": {
        "colab": {
          "base_uri": "https://localhost:8080/"
        },
        "id": "hkmApne2EcWa",
        "outputId": "30e45d9c-09c5-4480-f9c5-b3d0b10ed4b6"
      },
      "execution_count": null,
      "outputs": [
        {
          "output_type": "execute_result",
          "data": {
            "text/plain": [
              "{'matricula': 2000168933,\n",
              " 'dia_registro': 25,\n",
              " 'mes_registro': 10,\n",
              " 'grupo': '2E'}"
            ]
          },
          "metadata": {},
          "execution_count": 29
        }
      ]
    },
    {
      "cell_type": "code",
      "source": [
        "estudiante['matricula']"
      ],
      "metadata": {
        "colab": {
          "base_uri": "https://localhost:8080/"
        },
        "id": "d5zYFTqPEcZN",
        "outputId": "ed41f630-089c-4f62-ec4f-da0b6495cf63"
      },
      "execution_count": null,
      "outputs": [
        {
          "output_type": "execute_result",
          "data": {
            "text/plain": [
              "2000168933"
            ]
          },
          "metadata": {},
          "execution_count": 30
        }
      ]
    },
    {
      "cell_type": "code",
      "source": [
        "estudiante['grupo']"
      ],
      "metadata": {
        "colab": {
          "base_uri": "https://localhost:8080/",
          "height": 36
        },
        "id": "1WqPHk-CEce9",
        "outputId": "f2825495-661f-4c08-ea86-0a651a5154ea"
      },
      "execution_count": null,
      "outputs": [
        {
          "output_type": "execute_result",
          "data": {
            "text/plain": [
              "'2E'"
            ],
            "application/vnd.google.colaboratory.intrinsic+json": {
              "type": "string"
            }
          },
          "metadata": {},
          "execution_count": 31
        }
      ]
    },
    {
      "cell_type": "markdown",
      "source": [
        "Es posible sustituir los valores dentro de una llave. Por ejemplo, recibimos la información de que el grupo del estudiante que registramos cambio a `'2G'` y ahora necesitamos cambiar el valor de la llave `'grupo'`."
      ],
      "metadata": {
        "id": "8ex5pt2ykDd2"
      }
    },
    {
      "cell_type": "code",
      "source": [
        "estudiante['grupo'] = '2G'"
      ],
      "metadata": {
        "id": "rLlL-t3IEfDP"
      },
      "execution_count": null,
      "outputs": []
    },
    {
      "cell_type": "code",
      "source": [
        "estudiante"
      ],
      "metadata": {
        "colab": {
          "base_uri": "https://localhost:8080/"
        },
        "id": "NMgkFnhjLdMW",
        "outputId": "664aeed8-3194-412d-ad2a-2c371e376a6e"
      },
      "execution_count": null,
      "outputs": [
        {
          "output_type": "execute_result",
          "data": {
            "text/plain": [
              "{'matricula': 2000168933,\n",
              " 'dia_registro': 25,\n",
              " 'mes_registro': 10,\n",
              " 'grupo': '2G'}"
            ]
          },
          "metadata": {},
          "execution_count": 90
        }
      ]
    },
    {
      "cell_type": "markdown",
      "source": [
        "También podemos añadir otros datos al diccionario. Vamos a añadir la información sobre la modalidad de estudio, nuestro estudiante estudiará inicialemente en la modalidad EAD.\n",
        "\n",
        "Definiremos una llave llamada `'modalidad'` con el valor `'EAD'`."
      ],
      "metadata": {
        "id": "wB0qRb56mQvv"
      }
    },
    {
      "cell_type": "code",
      "source": [
        "estudiante['modalidad'] = 'EAD'"
      ],
      "metadata": {
        "id": "3bgaGQENE68y"
      },
      "execution_count": null,
      "outputs": []
    },
    {
      "cell_type": "code",
      "source": [
        "estudiante"
      ],
      "metadata": {
        "colab": {
          "base_uri": "https://localhost:8080/"
        },
        "id": "apkJDZZ8Lpgf",
        "outputId": "1e6305db-ea85-4b68-d0bd-2c1b8a58e733"
      },
      "execution_count": null,
      "outputs": [
        {
          "output_type": "execute_result",
          "data": {
            "text/plain": [
              "{'matricula': 2000168933,\n",
              " 'dia_registro': 25,\n",
              " 'mes_registro': 10,\n",
              " 'grupo': '2G',\n",
              " 'modalidad': 'EAD'}"
            ]
          },
          "metadata": {},
          "execution_count": 92
        }
      ]
    },
    {
      "cell_type": "code",
      "source": [
        "len(estudiante)"
      ],
      "metadata": {
        "colab": {
          "base_uri": "https://localhost:8080/"
        },
        "id": "DmrqMh0MLtxp",
        "outputId": "1470d360-5b43-41ee-9f35-f905f138389f"
      },
      "execution_count": null,
      "outputs": [
        {
          "output_type": "execute_result",
          "data": {
            "text/plain": [
              "4"
            ]
          },
          "metadata": {},
          "execution_count": 98
        }
      ]
    },
    {
      "cell_type": "markdown",
      "source": [
        "## Profundizando en diccionarios"
      ],
      "metadata": {
        "id": "LJ3o_inroxg_"
      }
    },
    {
      "cell_type": "markdown",
      "source": [
        "#### [`pop()`](https://python-reference.readthedocs.io/en/latest/docs/dict/pop.html)\n",
        "Remueve un item de un diccionario y lo representa en la salida."
      ],
      "metadata": {
        "id": "2N3GLlkSpBiu"
      }
    },
    {
      "cell_type": "code",
      "source": [
        "estudiante.pop('grupo')"
      ],
      "metadata": {
        "colab": {
          "base_uri": "https://localhost:8080/",
          "height": 35
        },
        "id": "_SoAU3eeNnkf",
        "outputId": "2da3dff6-1be7-492f-da32-0fad3cb2fa92"
      },
      "execution_count": null,
      "outputs": [
        {
          "output_type": "execute_result",
          "data": {
            "text/plain": [
              "'2G'"
            ],
            "application/vnd.google.colaboratory.intrinsic+json": {
              "type": "string"
            }
          },
          "metadata": {},
          "execution_count": 101
        }
      ]
    },
    {
      "cell_type": "code",
      "source": [
        "estudiante"
      ],
      "metadata": {
        "colab": {
          "base_uri": "https://localhost:8080/"
        },
        "id": "wjP7zCOaN-uK",
        "outputId": "b03cf90d-a5a0-496e-f40c-96a0a5454eb1"
      },
      "execution_count": null,
      "outputs": [
        {
          "output_type": "execute_result",
          "data": {
            "text/plain": [
              "{'matricula': 2000168933,\n",
              " 'dia_registro': 25,\n",
              " 'mes_registro': 10,\n",
              " 'modalidad': 'EAD'}"
            ]
          },
          "metadata": {},
          "execution_count": 102
        }
      ]
    },
    {
      "cell_type": "markdown",
      "source": [
        "#### [`items()`](https://python-reference.readthedocs.io/en/latest/docs/dict/items.html)\n",
        "Retorna una lista de pares `llave-valor` del diccionario."
      ],
      "metadata": {
        "id": "sYZGvJJYrW_y"
      }
    },
    {
      "cell_type": "code",
      "source": [
        "estudiante.items()"
      ],
      "metadata": {
        "colab": {
          "base_uri": "https://localhost:8080/"
        },
        "id": "pVTZFx-INKvi",
        "outputId": "3703f25b-6906-4508-e950-2d38044fa315"
      },
      "execution_count": null,
      "outputs": [
        {
          "output_type": "execute_result",
          "data": {
            "text/plain": [
              "dict_items([('matricula', 2000168933), ('dia_registro', 25), ('mes_registro', 10), ('modalidad', 'EAD')])"
            ]
          },
          "metadata": {},
          "execution_count": 103
        }
      ]
    },
    {
      "cell_type": "markdown",
      "source": [
        "#### [`keys()`](https://python-reference.readthedocs.io/en/latest/docs/dict/keys.html)\n",
        "Retorna una lista de las llaves del diccionario."
      ],
      "metadata": {
        "id": "Lb0utNFGrZBY"
      }
    },
    {
      "cell_type": "code",
      "source": [
        "estudiante.keys()"
      ],
      "metadata": {
        "colab": {
          "base_uri": "https://localhost:8080/"
        },
        "id": "wwsXC7qPFdrf",
        "outputId": "dd9c2f7d-339a-4f4c-bcbc-04c30111b79c"
      },
      "execution_count": null,
      "outputs": [
        {
          "output_type": "execute_result",
          "data": {
            "text/plain": [
              "dict_keys(['matricula', 'dia_registro', 'mes_registro', 'modalidad'])"
            ]
          },
          "metadata": {},
          "execution_count": 104
        }
      ]
    },
    {
      "cell_type": "markdown",
      "source": [
        "#### [`values()`](https://python-reference.readthedocs.io/en/latest/docs/dict/values.html)\n",
        "Retorna una lista de los valores del diccionario."
      ],
      "metadata": {
        "id": "qKyu3bf9rbtX"
      }
    },
    {
      "cell_type": "code",
      "source": [
        "estudiante.values()"
      ],
      "metadata": {
        "colab": {
          "base_uri": "https://localhost:8080/"
        },
        "id": "ZZ8F7NZpFris",
        "outputId": "63568ea1-72d5-4484-e74c-6015d10abc58"
      },
      "execution_count": null,
      "outputs": [
        {
          "output_type": "execute_result",
          "data": {
            "text/plain": [
              "dict_values([2000168933, 25, 10, 'EAD'])"
            ]
          },
          "metadata": {},
          "execution_count": 105
        }
      ]
    },
    {
      "cell_type": "markdown",
      "source": [
        "### Lectura de valores con el lazo `for`"
      ],
      "metadata": {
        "id": "e3XVjR8Frp75"
      }
    },
    {
      "cell_type": "code",
      "source": [
        "for llave in estudiante.keys():\n",
        "  print(llave)"
      ],
      "metadata": {
        "colab": {
          "base_uri": "https://localhost:8080/"
        },
        "id": "zsxMIvFKF-F_",
        "outputId": "1becffcc-94b8-4930-9048-5b76142f1a55"
      },
      "execution_count": null,
      "outputs": [
        {
          "output_type": "stream",
          "name": "stdout",
          "text": [
            "matricula\n",
            "dia_registro\n",
            "mes_registro\n",
            "modalidad\n"
          ]
        }
      ]
    },
    {
      "cell_type": "code",
      "source": [
        "for llave,valor in estudiante.items():\n",
        "  print(llave,' --> ', valor)"
      ],
      "metadata": {
        "colab": {
          "base_uri": "https://localhost:8080/"
        },
        "id": "2YIUElrfF-Ij",
        "outputId": "a6efb005-a12f-4a5c-c893-6abc34ac0b2a"
      },
      "execution_count": null,
      "outputs": [
        {
          "output_type": "stream",
          "name": "stdout",
          "text": [
            "matricula  -->  2000168933\n",
            "dia_registro  -->  25\n",
            "mes_registro  -->  10\n",
            "modalidad  -->  EAD\n"
          ]
        }
      ]
    },
    {
      "cell_type": "markdown",
      "source": [
        "---\n",
        "## Listas en diccionarios\n"
      ],
      "metadata": {
        "id": "WHNClginCLc0"
      }
    },
    {
      "cell_type": "markdown",
      "source": [
        "Cada clave puede tener una lista asociada a ella"
      ],
      "metadata": {
        "id": "sxj-PHpUCVY2"
      }
    },
    {
      "cell_type": "code",
      "source": [
        "tienda = {'nombres': ['televisión', 'celular', 'notebook', 'geladeira', 'estufa'],\n",
        "          'precios': [2000, 1500, 3500, 4000, 1500]}"
      ],
      "metadata": {
        "id": "AnyBaySMCKLs"
      },
      "execution_count": null,
      "outputs": []
    },
    {
      "cell_type": "markdown",
      "source": [
        "Primero recorre los elementos dentro del diccionario (claves y elementos). Segundo se recorre los elementos de cada lista uno a uno e imprime los valores dentro de ellas."
      ],
      "metadata": {
        "id": "7JPQ3sY6CWAM"
      }
    },
    {
      "cell_type": "code",
      "source": [
        "for clave, elementos in tienda.items():\n",
        "  print(f'Clave: {clave}\\nElementos:')\n",
        "  for dato in elementos:\n",
        "    print(dato)"
      ],
      "metadata": {
        "colab": {
          "base_uri": "https://localhost:8080/"
        },
        "id": "PfmHI1MTCSGM",
        "outputId": "52e0fb8a-7c7b-403d-a33b-26cb38b68cc6"
      },
      "execution_count": null,
      "outputs": [
        {
          "output_type": "stream",
          "name": "stdout",
          "text": [
            "Clave: nombres\n",
            "Elementos:\n",
            "televisión\n",
            "celular\n",
            "notebook\n",
            "geladeira\n",
            "estufa\n",
            "Clave: precios\n",
            "Elementos:\n",
            "2000\n",
            "1500\n",
            "3500\n",
            "4000\n",
            "1500\n"
          ]
        }
      ]
    },
    {
      "cell_type": "markdown",
      "source": [
        "## Funciones incorporadas"
      ],
      "metadata": {
        "id": "J2j5v6NhDOuV"
      }
    },
    {
      "cell_type": "markdown",
      "source": [
        "La función `sum()` permite sumar los elementos de una secuencia o estructura de datos. En el siguiente ejemplo, vamos a sumar los precios de productos:"
      ],
      "metadata": {
        "id": "Yqw52__iDQ1s"
      }
    },
    {
      "cell_type": "code",
      "source": [
        "precios = [100.0, 400.0, 200.0]\n",
        "suma = sum(precios)\n",
        "suma"
      ],
      "metadata": {
        "colab": {
          "base_uri": "https://localhost:8080/"
        },
        "id": "z44KTJ3hDthr",
        "outputId": "8bdb1924-2a5b-40e4-c68a-c09de836827f"
      },
      "execution_count": null,
      "outputs": [
        {
          "output_type": "execute_result",
          "data": {
            "text/plain": [
              "700.0"
            ]
          },
          "metadata": {},
          "execution_count": 34
        }
      ]
    },
    {
      "cell_type": "markdown",
      "source": [
        "La función `help()` se utiliza para acceder a la documentación de funciones, métodos y otros elementos de Python. Muestra información en inglés sobre la funcionalidad, sintaxis y uso de un objeto específico. Para usar esta función, simplemente pasa el elemento deseado entre paréntesis. Por ejemplo, vamos a verificar la documentación de la función print():"
      ],
      "metadata": {
        "id": "N6knJ503Dtnf"
      }
    },
    {
      "cell_type": "code",
      "source": [
        "help(print)"
      ],
      "metadata": {
        "colab": {
          "base_uri": "https://localhost:8080/"
        },
        "id": "47wLgKpcDty3",
        "outputId": "aa1b274e-c492-40b0-bcbb-904e30b7448b"
      },
      "execution_count": null,
      "outputs": [
        {
          "output_type": "stream",
          "name": "stdout",
          "text": [
            "Help on built-in function print in module builtins:\n",
            "\n",
            "print(*args, sep=' ', end='\\n', file=None, flush=False)\n",
            "    Prints the values to a stream, or to sys.stdout by default.\n",
            "    \n",
            "    sep\n",
            "      string inserted between values, default a space.\n",
            "    end\n",
            "      string appended after the last value, default a newline.\n",
            "    file\n",
            "      a file-like object (stream); defaults to the current sys.stdout.\n",
            "    flush\n",
            "      whether to forcibly flush the stream.\n",
            "\n"
          ]
        }
      ]
    },
    {
      "cell_type": "markdown",
      "source": [
        "La función `dir()` se utiliza para mostrar una lista de atributos y métodos asociados a un elemento. Por ejemplo, vamos a descubrir todos los atributos y métodos de una lista:"
      ],
      "metadata": {
        "id": "nRteiGjyDt4M"
      }
    },
    {
      "cell_type": "code",
      "source": [
        "lista = [1,2,3]\n",
        "dir(lista)"
      ],
      "metadata": {
        "colab": {
          "base_uri": "https://localhost:8080/"
        },
        "id": "U2fLJRL8EDBU",
        "outputId": "cd16e71c-4e0c-4d93-d013-da63b69ab72f"
      },
      "execution_count": null,
      "outputs": [
        {
          "output_type": "execute_result",
          "data": {
            "text/plain": [
              "['__add__',\n",
              " '__class__',\n",
              " '__class_getitem__',\n",
              " '__contains__',\n",
              " '__delattr__',\n",
              " '__delitem__',\n",
              " '__dir__',\n",
              " '__doc__',\n",
              " '__eq__',\n",
              " '__format__',\n",
              " '__ge__',\n",
              " '__getattribute__',\n",
              " '__getitem__',\n",
              " '__getstate__',\n",
              " '__gt__',\n",
              " '__hash__',\n",
              " '__iadd__',\n",
              " '__imul__',\n",
              " '__init__',\n",
              " '__init_subclass__',\n",
              " '__iter__',\n",
              " '__le__',\n",
              " '__len__',\n",
              " '__lt__',\n",
              " '__mul__',\n",
              " '__ne__',\n",
              " '__new__',\n",
              " '__reduce__',\n",
              " '__reduce_ex__',\n",
              " '__repr__',\n",
              " '__reversed__',\n",
              " '__rmul__',\n",
              " '__setattr__',\n",
              " '__setitem__',\n",
              " '__sizeof__',\n",
              " '__str__',\n",
              " '__subclasshook__',\n",
              " 'append',\n",
              " 'clear',\n",
              " 'copy',\n",
              " 'count',\n",
              " 'extend',\n",
              " 'index',\n",
              " 'insert',\n",
              " 'pop',\n",
              " 'remove',\n",
              " 'reverse',\n",
              " 'sort']"
            ]
          },
          "metadata": {},
          "execution_count": 36
        }
      ]
    },
    {
      "cell_type": "markdown",
      "source": [
        "---"
      ],
      "metadata": {
        "id": "DEHQgj5yCaJc"
      }
    },
    {
      "cell_type": "markdown",
      "source": [
        "## Desafios del aula 5"
      ],
      "metadata": {
        "id": "1b3B1Wjdcnvp"
      }
    },
    {
      "cell_type": "markdown",
      "source": [
        "\n",
        "### Entrenando la programación\n",
        "1 - Crea un programa que tenga la siguiente lista con los gastos de una empresa de papel [2172.54, 3701.35, 3518.09, 3456.61, 3249.38, 2840.82, 3891.45, 3075.26, 2317.64, 3219.08]. Con estos valores, crea un programa que calcule el promedio de gastos. Sugerencia: usa las funciones integradas sum() y len().\n"
      ],
      "metadata": {
        "id": "Y16lgyJqESlE"
      }
    },
    {
      "cell_type": "code",
      "source": [
        "help(round)"
      ],
      "metadata": {
        "colab": {
          "base_uri": "https://localhost:8080/"
        },
        "id": "142js89FGxR1",
        "outputId": "19737eae-522a-4d0d-aa20-7921112d87f2"
      },
      "execution_count": null,
      "outputs": [
        {
          "output_type": "stream",
          "name": "stdout",
          "text": [
            "Help on built-in function round in module builtins:\n",
            "\n",
            "round(number, ndigits=None)\n",
            "    Round a number to a given precision in decimal digits.\n",
            "    \n",
            "    The return value is an integer if ndigits is omitted or None.  Otherwise\n",
            "    the return value has the same type as the number.  ndigits may be negative.\n",
            "\n"
          ]
        }
      ]
    },
    {
      "cell_type": "code",
      "source": [
        "gastos = [2172.54, 3701.35, 3518.09, 3456.61, 3249.38, 2840.82, 3891.45, 3075.26, 2317.64, 3219.08]\n",
        "promedio = sum(gastos) / len(gastos)\n",
        "print(\"Promedio de gastos:\", round(promedio, 2))\n"
      ],
      "metadata": {
        "colab": {
          "base_uri": "https://localhost:8080/"
        },
        "id": "_B8kEYCKES1s",
        "outputId": "2d567e80-1f32-4bf2-aa81-44a58b115bc2"
      },
      "execution_count": null,
      "outputs": [
        {
          "output_type": "stream",
          "name": "stdout",
          "text": [
            "Promedio de gastos: 3144.22\n"
          ]
        }
      ]
    },
    {
      "cell_type": "markdown",
      "source": [
        "\n",
        "2 - Con los mismos datos de la pregunta anterior, determina cuántas compras se realizaron por encima de 3000 reales y calcula el porcentaje con respecto al total de compras."
      ],
      "metadata": {
        "id": "5PXEsbzJES7Q"
      }
    },
    {
      "cell_type": "code",
      "source": [
        "mayores_3000 = [g for g in gastos if g > 3000]\n",
        "porcentaje = len(mayores_3000) / len(gastos) * 100\n",
        "print(f\"Compras > 3000: {len(mayores_3000)} ({round(porcentaje, 2)}%)\")"
      ],
      "metadata": {
        "colab": {
          "base_uri": "https://localhost:8080/"
        },
        "id": "HDR1hqgsETLz",
        "outputId": "af63ad29-62da-4b4d-ccc2-a9bea544a4e4"
      },
      "execution_count": null,
      "outputs": [
        {
          "output_type": "stream",
          "name": "stdout",
          "text": [
            "Compras > 3000: 7 (70.0%)\n"
          ]
        }
      ]
    },
    {
      "cell_type": "markdown",
      "source": [
        "\n",
        "\n",
        "3 - Crea un código que recoja en una lista 5 números enteros aleatorios e imprima la lista. Ejemplo: [1, 4, 7, 2, 4].\n"
      ],
      "metadata": {
        "id": "ZMRdLTC5ETWT"
      }
    },
    {
      "cell_type": "code",
      "source": [
        "import random"
      ],
      "metadata": {
        "id": "XMq35DX5Fu-M"
      },
      "execution_count": null,
      "outputs": []
    },
    {
      "cell_type": "code",
      "source": [
        "help(random.randint)"
      ],
      "metadata": {
        "colab": {
          "base_uri": "https://localhost:8080/"
        },
        "id": "qQu8jwoUF_2X",
        "outputId": "c6d5440b-4410-4218-9502-6f94c8c50a19"
      },
      "execution_count": null,
      "outputs": [
        {
          "output_type": "stream",
          "name": "stdout",
          "text": [
            "Help on method randint in module random:\n",
            "\n",
            "randint(a, b) method of random.Random instance\n",
            "    Return random integer in range [a, b], including both end points.\n",
            "\n"
          ]
        }
      ]
    },
    {
      "cell_type": "code",
      "source": [
        "numeros = [random.randint(1, 100) for _ in range(5)]\n",
        "print(\"Números aleatorios:\", numeros)"
      ],
      "metadata": {
        "colab": {
          "base_uri": "https://localhost:8080/"
        },
        "id": "56Rr0mW7ETeZ",
        "outputId": "19f9668d-42f7-4a3d-a2eb-61addb763754"
      },
      "execution_count": null,
      "outputs": [
        {
          "output_type": "stream",
          "name": "stdout",
          "text": [
            "Números aleatorios: [59, 20, 91, 79, 86]\n"
          ]
        }
      ]
    },
    {
      "cell_type": "markdown",
      "source": [
        "\n",
        "4 - Recoge nuevamente 5 números enteros e imprime la lista en orden inverso al enviado.\n"
      ],
      "metadata": {
        "id": "JwLMVxp1ETkj"
      }
    },
    {
      "cell_type": "code",
      "source": [
        "help(reversed)"
      ],
      "metadata": {
        "colab": {
          "base_uri": "https://localhost:8080/"
        },
        "id": "bADKPn5hGP1F",
        "outputId": "5d7e5368-c80b-4890-8003-4b804a5f3023"
      },
      "execution_count": null,
      "outputs": [
        {
          "output_type": "stream",
          "name": "stdout",
          "text": [
            "Help on class reversed in module builtins:\n",
            "\n",
            "class reversed(object)\n",
            " |  reversed(sequence, /)\n",
            " |  \n",
            " |  Return a reverse iterator over the values of the given sequence.\n",
            " |  \n",
            " |  Methods defined here:\n",
            " |  \n",
            " |  __getattribute__(self, name, /)\n",
            " |      Return getattr(self, name).\n",
            " |  \n",
            " |  __iter__(self, /)\n",
            " |      Implement iter(self).\n",
            " |  \n",
            " |  __length_hint__(...)\n",
            " |      Private method returning an estimate of len(list(it)).\n",
            " |  \n",
            " |  __next__(self, /)\n",
            " |      Implement next(self).\n",
            " |  \n",
            " |  __reduce__(...)\n",
            " |      Return state information for pickling.\n",
            " |  \n",
            " |  __setstate__(...)\n",
            " |      Set state information for unpickling.\n",
            " |  \n",
            " |  ----------------------------------------------------------------------\n",
            " |  Static methods defined here:\n",
            " |  \n",
            " |  __new__(*args, **kwargs)\n",
            " |      Create and return a new object.  See help(type) for accurate signature.\n",
            "\n"
          ]
        }
      ]
    },
    {
      "cell_type": "code",
      "source": [
        "numeros2 = [int(input(\"Ingrese un número entero: \")) for _ in range(5)]\n",
        "print(\"Lista inversa:\", list(reversed(numeros2)))"
      ],
      "metadata": {
        "colab": {
          "base_uri": "https://localhost:8080/"
        },
        "id": "ylO5ubA4ETrz",
        "outputId": "4460251f-3c5d-4e09-e237-b7edfb3771aa"
      },
      "execution_count": null,
      "outputs": [
        {
          "output_type": "stream",
          "name": "stdout",
          "text": [
            "Ingrese un número entero: 12\n",
            "Ingrese un número entero: 2\n",
            "Ingrese un número entero: 3\n",
            "Ingrese un número entero: 4\n",
            "Ingrese un número entero: 5\n",
            "Lista inversa: [5, 4, 3, 2, 12]\n"
          ]
        }
      ]
    },
    {
      "cell_type": "markdown",
      "source": [
        "\n",
        "5 - Crea un programa que, al ingresar un número cualquiera, genere una lista que contenga todos los números primos entre 1 y el número ingresado.\n"
      ],
      "metadata": {
        "id": "fsm9u2yIETxs"
      }
    },
    {
      "cell_type": "code",
      "source": [
        "n = int(input(\"Ingrese un número: \"))\n",
        "primos = []\n",
        "for num in range(2, n + 1):\n",
        "    es_primo = True\n",
        "    for i in range(2, int(num**0.5) + 1):\n",
        "        if num % i == 0:\n",
        "            es_primo = False\n",
        "            break\n",
        "    if es_primo:\n",
        "        primos.append(num)\n",
        "print(\"Números primos:\", primos)"
      ],
      "metadata": {
        "colab": {
          "base_uri": "https://localhost:8080/"
        },
        "id": "05V1GhuFET3L",
        "outputId": "9944c36f-4902-483f-b25a-eccb05a162f6"
      },
      "execution_count": null,
      "outputs": [
        {
          "output_type": "stream",
          "name": "stdout",
          "text": [
            "Ingrese un número: 4\n",
            "Números primos: [2, 3]\n"
          ]
        }
      ]
    },
    {
      "cell_type": "markdown",
      "source": [
        "6 - Escribe un programa que pida una fecha, especificando el día, mes y año, y determine si es válida para su análisis."
      ],
      "metadata": {
        "id": "KuyQDX2SET9B"
      }
    },
    {
      "cell_type": "code",
      "source": [
        "dia = int(input(\"Día: \"))\n",
        "mes = int(input(\"Mes: \"))\n",
        "año = int(input(\"Año: \"))\n",
        "valida = True\n",
        "if mes < 1 or mes > 12:\n",
        "    valida = False\n",
        "elif dia < 1 or dia > 31:\n",
        "    valida = False\n",
        "elif mes in [4, 6, 9, 11] and dia > 30:\n",
        "    valida = False\n",
        "elif mes == 2:\n",
        "    es_bisiesto = (año % 4 == 0 and año % 100 != 0) or (año % 400 == 0)\n",
        "    if (es_bisiesto and dia > 29) or (not es_bisiesto and dia > 28):\n",
        "        valida = False\n",
        "print(\"Fecha válida.\" if valida else \"Fecha inválida.\")"
      ],
      "metadata": {
        "colab": {
          "base_uri": "https://localhost:8080/"
        },
        "id": "64-1Co_IEUDw",
        "outputId": "0dffd347-7388-497d-af75-aa3d694295e2"
      },
      "execution_count": null,
      "outputs": [
        {
          "output_type": "stream",
          "name": "stdout",
          "text": [
            "Día: 12\n",
            "Mes: 2\n",
            "Año: 2025\n",
            "Fecha válida.\n"
          ]
        }
      ]
    },
    {
      "cell_type": "markdown",
      "source": [
        "### Momento para los proyectos\n",
        "7 - Para un estudio sobre la multiplicación de bacterias en una colonia, se recopiló el número de bacterias multiplicadas por día y se puede observar a continuación: [1.2, 2.1, 3.3, 5.0, 7.8, 11.3, 16.6, 25.1, 37.8, 56.9]. Con estos valores, crea un código que genere una lista que contenga el porcentaje de crecimiento de bacterias por día, comparando el número de bacterias en cada día con el número de bacterias del día anterior. Sugerencia: para calcular el porcentaje de crecimiento, utiliza la siguiente ecuación: 100 * (muestra_actual - muestra_anterior) / muestra_anterior.\n"
      ],
      "metadata": {
        "id": "VYGK1ZigEUJX"
      }
    },
    {
      "cell_type": "code",
      "source": [
        "bacterias = [1.2, 2.1, 3.3, 5.0, 7.8, 11.3, 16.6, 25.1, 37.8, 56.9]\n",
        "crecimientos = []\n",
        "for i in range(1, len(bacterias)):\n",
        "    crecimiento = 100 * (bacterias[i] - bacterias[i-1]) / bacterias[i-1]\n",
        "    crecimientos.append(round(crecimiento, 2))\n",
        "print(\"Crecimiento porcentual por día:\", crecimientos)\n"
      ],
      "metadata": {
        "colab": {
          "base_uri": "https://localhost:8080/"
        },
        "id": "4GY3Ixk6EUSL",
        "outputId": "a9b82a48-ffdc-4708-fa4a-beaecc1293f3"
      },
      "execution_count": null,
      "outputs": [
        {
          "output_type": "stream",
          "name": "stdout",
          "text": [
            "Crecimiento porcentual por día: [75.0, 57.14, 51.52, 56.0, 44.87, 46.9, 51.2, 50.6, 50.53]\n"
          ]
        }
      ]
    },
    {
      "cell_type": "markdown",
      "source": [
        "8 - Para una selección de productos alimenticios, debemos separar el conjunto de IDs proporcionados por números enteros, sabiendo que los productos con ID par son dulces y los que tienen ID impar son amargos. Crea un código que recoja 10 IDs. Luego, calcula y muestra la cantidad de productos dulces y amargos."
      ],
      "metadata": {
        "id": "oMhXakwmEUXw"
      }
    },
    {
      "cell_type": "code",
      "source": [
        "ids = [int(input(\"Ingrese el ID del producto: \")) for _ in range(10)]\n",
        "dulces = sum(1 for i in ids if i % 2 == 0)\n",
        "amargos = len(ids) - dulces\n",
        "print(f\"Dulces: {dulces}, Amargos: {amargos}\")"
      ],
      "metadata": {
        "colab": {
          "base_uri": "https://localhost:8080/"
        },
        "id": "ZHn4W1B1EUeD",
        "outputId": "871217de-9021-48e3-ba62-80f3747e2ce8"
      },
      "execution_count": null,
      "outputs": [
        {
          "output_type": "stream",
          "name": "stdout",
          "text": [
            "Ingrese el ID del producto: 1\n",
            "Ingrese el ID del producto: 2\n",
            "Ingrese el ID del producto: 3\n",
            "Ingrese el ID del producto: 6\n",
            "Ingrese el ID del producto: 5\n",
            "Ingrese el ID del producto: 5\n",
            "Ingrese el ID del producto: 4\n",
            "Ingrese el ID del producto: 4\n",
            "Ingrese el ID del producto: 4\n",
            "Ingrese el ID del producto: 2\n",
            "Dulces: 6, Amargos: 4\n"
          ]
        }
      ]
    },
    {
      "cell_type": "markdown",
      "source": [
        "9 - Desarrolla un programa que informe la puntuación de un estudiante de acuerdo con sus respuestas. Debe pedir la respuesta del estudiante para cada pregunta y verificar si la respuesta coincide con el resultado. Cada pregunta vale un punto y hay opciones A, B, C o D.\n",
        "\n",
        "\n",
        "```\n",
        "Resultado del examen:\n",
        "01 - D\n",
        "02 - A\n",
        "03 - C\n",
        "04 - B\n",
        "05 - A\n",
        "06 - D\n",
        "07 - C\n",
        "08 - C\n",
        "09 - A\n",
        "10 - B\n",
        "\n",
        "```\n",
        "\n"
      ],
      "metadata": {
        "id": "sLYhdIU2EUj2"
      }
    },
    {
      "cell_type": "code",
      "source": [
        "respuestas_correctas = ['D', 'A', 'C', 'B', 'A', 'D', 'C', 'C', 'A', 'B']\n",
        "puntaje = 0\n",
        "for i in range(10):\n",
        "    respuesta = input(f\"Respuesta para la pregunta {i+1}: \").upper()\n",
        "    if respuesta == respuestas_correctas[i]:\n",
        "        puntaje += 1\n",
        "print(\"Puntaje final:\", puntaje)\n"
      ],
      "metadata": {
        "colab": {
          "base_uri": "https://localhost:8080/"
        },
        "id": "mm2Pwt21EUpX",
        "outputId": "2add7f14-6068-4ea1-cfeb-66181560574b"
      },
      "execution_count": null,
      "outputs": [
        {
          "output_type": "stream",
          "name": "stdout",
          "text": [
            "Respuesta para la pregunta 1: A\n",
            "Respuesta para la pregunta 2: B\n",
            "Respuesta para la pregunta 3: C\n",
            "Respuesta para la pregunta 4: D\n",
            "Respuesta para la pregunta 5: D\n",
            "Respuesta para la pregunta 6: A\n",
            "Respuesta para la pregunta 7: B\n",
            "Respuesta para la pregunta 8: D\n",
            "Respuesta para la pregunta 9: C\n",
            "Respuesta para la pregunta 10: A\n",
            "Puntaje final: 1\n"
          ]
        }
      ]
    },
    {
      "cell_type": "markdown",
      "source": [
        "10 - Un instituto de meteorología desea realizar un estudio de la temperatura media de cada mes del año. Para ello, debes crear un código que recoja y almacene esas temperaturas medias en una lista. Luego, calcula el promedio anual de las temperaturas y muestra todas las temperaturas por encima del promedio anual y en qué mes ocurrieron, mostrando los meses por su nombre (Enero, Febrero, etc.)."
      ],
      "metadata": {
        "id": "D3YAcmrPEUvY"
      }
    },
    {
      "cell_type": "code",
      "source": [
        "meses = ['Enero', 'Febrero', 'Marzo', 'Abril', 'Mayo', 'Junio',\n",
        "         'Julio', 'Agosto', 'Septiembre', 'Octubre', 'Noviembre', 'Diciembre']\n",
        "temps = [float(input(f\"Temperatura media de {mes}: \")) for mes in meses]\n",
        "prom_anual = sum(temps) / len(temps)\n",
        "print(\"Temperaturas por encima del promedio anual:\")\n",
        "for i in range(12):\n",
        "    if temps[i] > prom_anual:\n",
        "        print(f\"{meses[i]}: {temps[i]} °C\")\n"
      ],
      "metadata": {
        "colab": {
          "base_uri": "https://localhost:8080/"
        },
        "id": "bqKOoTcDEU1Y",
        "outputId": "58441d70-f5ab-4229-b231-f6c3107f14ab"
      },
      "execution_count": null,
      "outputs": [
        {
          "output_type": "stream",
          "name": "stdout",
          "text": [
            "Temperatura media de Enero: 12\n",
            "Temperatura media de Febrero: 13\n",
            "Temperatura media de Marzo: 14\n",
            "Temperatura media de Abril: 16\n",
            "Temperatura media de Mayo: 12\n",
            "Temperatura media de Junio: 12\n",
            "Temperatura media de Julio: 13\n",
            "Temperatura media de Agosto: 15\n",
            "Temperatura media de Septiembre: 16\n",
            "Temperatura media de Octubre: 14\n",
            "Temperatura media de Noviembre: 14\n",
            "Temperatura media de Diciembre: 10\n",
            "Temperaturas por encima del promedio anual:\n",
            "Marzo: 14.0 °C\n",
            "Abril: 16.0 °C\n",
            "Agosto: 15.0 °C\n",
            "Septiembre: 16.0 °C\n",
            "Octubre: 14.0 °C\n",
            "Noviembre: 14.0 °C\n"
          ]
        }
      ]
    },
    {
      "cell_type": "markdown",
      "source": [
        "11 - Una empresa de comercio electrónico está interesada en analizar las ventas de sus productos. Los datos de ventas se han almacenado en un diccionario:\n",
        "\n",
        "`{'Producto A': 300, 'Producto B': 80, 'Producto C': 60, 'Producto D': 200, 'Producto E': 250, 'Producto F': 30}`\n",
        "\n",
        "Escribe un código que calcule el total de ventas y el producto más vendido."
      ],
      "metadata": {
        "id": "s0Fi_QeqE7Zd"
      }
    },
    {
      "cell_type": "code",
      "source": [
        "ventas = {'Producto A': 300, 'Producto B': 80, 'Producto C': 60,\n",
        "          'Producto D': 200, 'Producto E': 250, 'Producto F': 30}\n",
        "total = sum(ventas.values())\n",
        "mas_vendido = max(ventas, key=ventas.get)\n",
        "print(\"Total de ventas:\", total)\n",
        "print(\"Producto más vendido:\", mas_vendido)"
      ],
      "metadata": {
        "colab": {
          "base_uri": "https://localhost:8080/"
        },
        "id": "rjteUjGEE7i8",
        "outputId": "bb92d683-e4ef-46db-9a79-9c06bfafe14a"
      },
      "execution_count": null,
      "outputs": [
        {
          "output_type": "stream",
          "name": "stdout",
          "text": [
            "Total de ventas: 920\n",
            "Producto más vendido: Producto A\n"
          ]
        }
      ]
    },
    {
      "cell_type": "markdown",
      "source": [
        "12 - Se realizó una encuesta de mercado para decidir cuál diseño de marca infantil es más atractivo para los niños. Los votos de la encuesta se pueden ver a continuación:\n",
        "\n",
        "\n",
        "\n",
        "```\n",
        "Tabla de votos de la marca\n",
        "Diseño 1 - 1334 votos\n",
        "Diseño 2 - 982 votos\n",
        "Diseño 3 - 1751 votos\n",
        "Diseño 4 - 210 votos\n",
        "Diseño 5 - 1811 votos\n",
        "```\n",
        "\n",
        "\n",
        "\n",
        "Adapta los datos proporcionados a una estructura de diccionario. A partir de ello, informa el diseño ganador y el porcentaje de votos recibidos."
      ],
      "metadata": {
        "id": "eDvw97foE7qc"
      }
    },
    {
      "cell_type": "code",
      "source": [
        "votos = {\n",
        "    'Diseño 1': 1334,\n",
        "    'Diseño 2': 982,\n",
        "    'Diseño 3': 1751,\n",
        "    'Diseño 4': 210,\n",
        "    'Diseño 5': 1811\n",
        "}\n",
        "total_votos = sum(votos.values())\n",
        "ganador = max(votos, key=votos.get)\n",
        "porcentaje = votos[ganador] / total_votos * 100\n",
        "print(f\"Diseño ganador: {ganador} ({round(porcentaje, 2)}%)\")\n"
      ],
      "metadata": {
        "colab": {
          "base_uri": "https://localhost:8080/"
        },
        "id": "YdJFKFUmE72L",
        "outputId": "21fe755a-7710-43da-c7b9-f6baca07c00a"
      },
      "execution_count": null,
      "outputs": [
        {
          "output_type": "stream",
          "name": "stdout",
          "text": [
            "Diseño ganador: Diseño 5 (29.75%)\n"
          ]
        }
      ]
    },
    {
      "cell_type": "markdown",
      "source": [
        "13 - Los empleados de un departamento de tu empresa recibirán una bonificación del 10% de su salario debido a un excelente rendimiento del equipo. El departamento de finanzas ha solicitado tu ayuda para verificar las consecuencias financieras de esta bonificación en los recursos. Se te ha enviado una lista con los salarios que recibirán la bonificación: [1172, 1644, 2617, 5130, 5532, 6341, 6650, 7238, 7685, 7782, 7903]. La bonificación de cada empleado no puede ser inferior a 200. En el código, convierte cada uno de los salarios en claves de un diccionario y la bonificación de cada salario en el valor correspondiente. Luego, informa el gasto total en bonificaciones, cuántos empleados recibieron la bonificación mínima y cuál fue el valor más alto de la bonificación proporcionada."
      ],
      "metadata": {
        "id": "xdiDw2wQE7_X"
      }
    },
    {
      "cell_type": "code",
      "source": [
        "salarios = [1172, 1644, 2617, 5130, 5532, 6341, 6650, 7238, 7685, 7782, 7903]\n",
        "bonificaciones = {}\n",
        "for s in salarios:\n",
        "    bonificacion = max(s * 0.10, 200)\n",
        "    bonificaciones[s] = bonificacion\n",
        "total_bonificaciones = sum(bonificaciones.values())\n",
        "minimas = sum(1 for b in bonificaciones.values() if b == 200)\n",
        "mayor_bonificacion = max(bonificaciones.values())\n",
        "print(\"Total en bonificaciones:\", round(total_bonificaciones, 2))\n",
        "print(\"Bonificaciones mínimas:\", minimas)\n",
        "print(\"Mayor bonificación:\", round(mayor_bonificacion, 2))"
      ],
      "metadata": {
        "colab": {
          "base_uri": "https://localhost:8080/"
        },
        "id": "f6ohYagbE8I0",
        "outputId": "bc52553a-179d-41b3-e7e9-7381eef4a68a"
      },
      "execution_count": null,
      "outputs": [
        {
          "output_type": "stream",
          "name": "stdout",
          "text": [
            "Total en bonificaciones: 6087.8\n",
            "Bonificaciones mínimas: 2\n",
            "Mayor bonificación: 790.3\n"
          ]
        }
      ]
    },
    {
      "cell_type": "markdown",
      "source": [
        "14 - Un equipo de científicos de datos está estudiando la diversidad biológica en un bosque. El equipo recopiló información sobre el número de especies de plantas y animales en cada área del bosque y almacenó estos datos en un diccionario. En él, la clave describe el área de los datos y los valores en las listas corresponden a las especies de plantas y animales en esas áreas, respectivamente.\n",
        "\n",
        "\n",
        "```\n",
        "{'Área Norte': [2819, 7236], 'Área Leste': [1440, 9492], 'Área Sul': [5969, 7496], 'Área Oeste': [14446, 49688], 'Área Centro': [22558, 45148]}\n",
        "```\n",
        "\n",
        "\n",
        "Escribe un código para calcular el promedio de especies por área e identificar el área con la mayor diversidad biológica. Sugerencia: utiliza las funciones incorporadas sum() y len()."
      ],
      "metadata": {
        "id": "2fWVaSuBFH1U"
      }
    },
    {
      "cell_type": "code",
      "source": [
        "datos = {\n",
        "    'Área Norte': [2819, 7236],\n",
        "    'Área Leste': [1440, 9492],\n",
        "    'Área Sul': [5969, 7496],\n",
        "    'Área Oeste': [14446, 49688],\n",
        "    'Área Centro': [22558, 45148]\n",
        "}\n",
        "promedios = {}\n",
        "for area, especies in datos.items():\n",
        "    promedio = sum(especies) / len(especies)\n",
        "    promedios[area] = promedio\n",
        "mayor_diversidad = max(promedios, key=promedios.get)\n",
        "print(\"Promedios por área:\")\n",
        "for area, promedio in promedios.items():\n",
        "    print(f\"{area}: {round(promedio, 2)}\")\n",
        "print(\"Área con mayor diversidad:\", mayor_diversidad)"
      ],
      "metadata": {
        "colab": {
          "base_uri": "https://localhost:8080/"
        },
        "id": "lsdOj5eRFIAT",
        "outputId": "91ea0276-6ade-4362-a6bc-56f11b2539b7"
      },
      "execution_count": null,
      "outputs": [
        {
          "output_type": "stream",
          "name": "stdout",
          "text": [
            "Promedios por área:\n",
            "Área Norte: 5027.5\n",
            "Área Leste: 5466.0\n",
            "Área Sul: 6732.5\n",
            "Área Oeste: 32067.0\n",
            "Área Centro: 33853.0\n",
            "Área con mayor diversidad: Área Centro\n"
          ]
        }
      ]
    },
    {
      "cell_type": "markdown",
      "source": [
        "15 - El departamento de Recursos Humanos de tu empresa te pidió ayuda para analizar las edades de los colaboradores de 4 sectores de la empresa. Para ello, te proporcionaron los siguientes datos:\n",
        "\n",
        "\n",
        "```\n",
        "{'Setor A': [22, 26, 30, 30, 35, 38, 40, 56, 57, 65],\n",
        " 'Setor B': [22, 24, 26, 33, 41, 49, 50, 54, 60, 64],\n",
        " 'Setor C': [23, 26, 26, 29, 34, 35, 36, 41, 52, 56],\n",
        " 'Setor D': [19, 20, 25, 27, 34, 39, 42, 44, 50, 65]}\n",
        "```\n",
        "\n",
        "Dado que cada sector tiene 10 colaboradores, construye un código que calcule la media de edad de cada sector, la edad media general entre todos los sectores y cuántas personas están por encima de la edad media general."
      ],
      "metadata": {
        "id": "jzMwYcYzFPSs"
      }
    },
    {
      "cell_type": "code",
      "source": [
        "sectores = {\n",
        "    'Setor A': [22, 26, 30, 30, 35, 38, 40, 56, 57, 65],\n",
        "    'Setor B': [22, 24, 26, 33, 41, 49, 50, 54, 60, 64],\n",
        "    'Setor C': [23, 26, 26, 29, 34, 35, 36, 41, 52, 56],\n",
        "    'Setor D': [19, 20, 25, 27, 34, 39, 42, 44, 50, 65]\n",
        "}\n",
        "total_edades = 0\n",
        "total_personas = 0\n",
        "edades_mayores = 0\n",
        "medias_sector = {}\n",
        "\n",
        "# Calcular medias por sector\n",
        "for nombre, edades in sectores.items():\n",
        "    media = sum(edades) / len(edades)\n",
        "    medias_sector[nombre] = media\n",
        "    total_edades += sum(edades)\n",
        "    total_personas += len(edades)\n",
        "\n",
        "media_general = total_edades / total_personas\n",
        "\n",
        "# Contar mayores a la media general\n",
        "for edades in sectores.values():\n",
        "    for edad in edades:\n",
        "        if edad > media_general:\n",
        "            edades_mayores += 1\n",
        "\n",
        "print(\"Media por sector:\")\n",
        "for sector, media in medias_sector.items():\n",
        "    print(f\"{sector}: {round(media, 2)}\")\n",
        "print(\"Edad media general:\", round(media_general, 2))\n",
        "print(\"Personas por encima de la media general:\", edades_mayores)"
      ],
      "metadata": {
        "colab": {
          "base_uri": "https://localhost:8080/"
        },
        "id": "A2dmqVWVFZzi",
        "outputId": "e0e108bd-70be-4397-e850-1b1d13e52569"
      },
      "execution_count": null,
      "outputs": [
        {
          "output_type": "stream",
          "name": "stdout",
          "text": [
            "Media por sector:\n",
            "Setor A: 39.9\n",
            "Setor B: 42.3\n",
            "Setor C: 35.8\n",
            "Setor D: 36.5\n",
            "Edad media general: 38.62\n",
            "Personas por encima de la media general: 18\n"
          ]
        }
      ]
    },
    {
      "cell_type": "markdown",
      "source": [
        "# 💼 Proyecto: Sistema de Gestión de Inventario de Productos\n",
        "\n",
        "## 🎯 Objetivo\n",
        "\n",
        "Desarrollar un sistema CRUD interactivo en Python que permita a una empresa gestionar su inventario de productos de forma simple, utilizando estructuras como **diccionarios** y **listas**, y aplicando conceptos clave de programación como:\n",
        "\n",
        "- Estructuras de control\n",
        "- Funciones incorporadas\n",
        "- Métodos de manipulación de datos\n",
        "\n",
        "---\n",
        "\n",
        "## 📦 Estructura de los datos\n",
        "\n",
        "Cada producto en el inventario estará representado con un **ID único** (clave del diccionario), y los siguientes valores asociados:\n",
        "\n",
        "```python\n",
        "{\n",
        "    \"001\": {\"nombre\": \"Teclado\", \"precio\": 150.0, \"cantidad\": 10},\n",
        "    \"002\": {\"nombre\": \"Mouse\", \"precio\": 75.0, \"cantidad\": 25}\n",
        "}\n",
        "```\n",
        "\n",
        "---\n",
        "\n",
        "## 🛠 Funcionalidades que debe tener el sistema\n",
        "\n",
        "### 1. Crear (C)\n",
        "Registrar un nuevo producto con:\n",
        "- ID único\n",
        "- Nombre\n",
        "- Precio\n",
        "- Cantidad\n",
        "\n",
        "### 2. Leer / Consultar (R)\n",
        "- Mostrar todos los productos (`items()`)\n",
        "- Consultar producto por ID (`get()` o `in`)\n",
        "- Consultar producto por nombre (`values()` + búsqueda)\n",
        "- Consultar producto por índice (`list(inventario.items())[i]`)\n",
        "\n",
        "### 3. Actualizar (U)\n",
        "- Modificar el **nombre**, **precio** o **cantidad** de un producto dado su ID\n",
        "- Validar que el ID exista\n",
        "\n",
        "### 4. Eliminar (D)\n",
        "- Eliminar producto por ID (`pop()`)\n",
        "- Eliminar producto por índice (`del`)\n",
        "- Eliminar todo el inventario (`clear()`)\n",
        "\n",
        "### 5. Extras / Estadísticas\n",
        "- Mostrar el número total de productos (`len()`)\n",
        "- Calcular el valor total del inventario (`precio * cantidad`)\n",
        "- Buscar productos que contengan un nombre parcial (ej. buscar \"usb\")\n",
        "\n",
        "---\n",
        "\n",
        "## 🎮 Interacción (Menú)\n",
        "\n",
        "El sistema debe mostrar el siguiente menú interactivo:\n",
        "\n",
        "```text\n",
        "1 - Agregar producto\n",
        "2 - Ver todos los productos\n",
        "3 - Consultar producto por ID\n",
        "4 - Consultar producto por nombre\n",
        "5 - Consultar producto por índice\n",
        "6 - Actualizar producto\n",
        "7 - Eliminar producto por ID\n",
        "8 - Eliminar producto por índice\n",
        "9 - Vaciar inventario\n",
        "10 - Ver estadísticas\n",
        "0 - Salir\n",
        "```\n",
        "\n",
        "---\n",
        "\n",
        "## 🧠 Conceptos clave que aplicarás\n",
        "\n",
        "- **Diccionarios**: `keys()`, `values()`, `items()`, `get()`, `pop()`, `update()`, `clear()`\n",
        "- **Listas**: `append()`, `index()`, `del`, `list()`\n",
        "- **Condicionales**: `if`, `elif`, `else`\n",
        "- **Bucles**: `while`, `for`\n",
        "- **Validaciones** y control de errores (`try-except`)\n",
        "- **Funciones incorporadas**: `input()`, `len()`, `sum()`, `round()`\n"
      ],
      "metadata": {
        "id": "5f_T6zzmO0S_"
      }
    },
    {
      "cell_type": "code",
      "source": [
        "inventario = {}\n",
        "\n",
        "def crear_producto():\n",
        "    id_prod = input(\"ID del producto: \")\n",
        "    if id_prod in inventario:\n",
        "        print(\"⚠️ Ese ID ya existe.\")\n",
        "        return\n",
        "    nombre = input(\"Nombre del producto: \")\n",
        "    try:\n",
        "        precio = float(input(\"Precio: \"))\n",
        "        cantidad = int(input(\"Cantidad: \"))\n",
        "        inventario[id_prod] = {\"nombre\": nombre, \"precio\": precio, \"cantidad\": cantidad}\n",
        "        print(\"✅ Producto agregado.\")\n",
        "    except ValueError:\n",
        "        print(\"❌ Entrada inválida. Precio y cantidad deben ser numéricos.\")\n",
        "\n",
        "def ver_todos():\n",
        "    if not inventario:\n",
        "        print(\"📭 Inventario vacío.\")\n",
        "    else:\n",
        "        for id_prod, datos in inventario.items():\n",
        "            print(f\"ID: {id_prod} | Nombre: {datos['nombre']} | Precio: {datos['precio']} | Cantidad: {datos['cantidad']}\")\n",
        "\n",
        "def consultar_por_id():\n",
        "    id_buscar = input(\"ID del producto: \")\n",
        "    if id_buscar in inventario:\n",
        "        datos = inventario[id_buscar]\n",
        "        print(f\"Producto encontrado: {datos}\")\n",
        "    else:\n",
        "        print(\"❌ No existe un producto con ese ID.\")\n",
        "\n",
        "def consultar_por_nombre():\n",
        "    nombre_buscar = input(\"Nombre del producto: \").lower()\n",
        "    encontrados = []\n",
        "    for id_prod, datos in inventario.items():\n",
        "        if nombre_buscar in datos['nombre'].lower():\n",
        "            encontrados.append((id_prod, datos))\n",
        "    if encontrados:\n",
        "        for id_prod, datos in encontrados:\n",
        "            print(f\"ID: {id_prod} | {datos}\")\n",
        "    else:\n",
        "        print(\"❌ Ningún producto coincide con ese nombre.\")\n",
        "\n",
        "def consultar_por_indice():\n",
        "    try:\n",
        "        indice = int(input(\"Índice del producto: \"))\n",
        "        lista_items = list(inventario.items())\n",
        "        id_prod, datos = lista_items[indice]\n",
        "        print(f\"ID: {id_prod} | {datos}\")\n",
        "    except (IndexError, ValueError):\n",
        "        print(\"❌ Índice inválido.\")\n",
        "\n",
        "def actualizar_producto():\n",
        "    id_prod = input(\"ID del producto a actualizar: \")\n",
        "    if id_prod in inventario:\n",
        "        campo = input(\"¿Qué deseas actualizar? (nombre/precio/cantidad): \").lower()\n",
        "        if campo in [\"nombre\", \"precio\", \"cantidad\"]:\n",
        "            nuevo_valor = input(f\"Nuevo valor para {campo}: \")\n",
        "            try:\n",
        "                if campo == \"precio\":\n",
        "                    inventario[id_prod][campo] = float(nuevo_valor)\n",
        "                elif campo == \"cantidad\":\n",
        "                    inventario[id_prod][campo] = int(nuevo_valor)\n",
        "                else:\n",
        "                    inventario[id_prod][campo] = nuevo_valor\n",
        "                print(\"✅ Producto actualizado.\")\n",
        "            except ValueError:\n",
        "                print(\"❌ Valor no válido.\")\n",
        "        else:\n",
        "            print(\"❌ Campo inválido.\")\n",
        "    else:\n",
        "        print(\"❌ ID no encontrado.\")\n",
        "\n",
        "def eliminar_por_id():\n",
        "    id_prod = input(\"ID del producto a eliminar: \")\n",
        "    if id_prod in inventario:\n",
        "        inventario.pop(id_prod)\n",
        "        print(\"🗑️ Producto eliminado.\")\n",
        "    else:\n",
        "        print(\"❌ ID no encontrado.\")\n",
        "\n",
        "def eliminar_por_indice():\n",
        "    try:\n",
        "        indice = int(input(\"Índice del producto a eliminar: \"))\n",
        "        clave = list(inventario.keys())[indice]\n",
        "        del inventario[clave]\n",
        "        print(\"🗑️ Producto eliminado.\")\n",
        "    except (IndexError, ValueError):\n",
        "        print(\"❌ Índice inválido.\")\n",
        "\n",
        "def vaciar_inventario():\n",
        "    inventario.clear()\n",
        "    print(\"📦 Inventario vaciado.\")\n",
        "\n",
        "def estadisticas():\n",
        "    total_productos = len(inventario)\n",
        "    valor_total = sum(prod[\"precio\"] * prod[\"cantidad\"] for prod in inventario.values())\n",
        "    print(f\"📊 Total de productos: {total_productos}\")\n",
        "    print(f\"💰 Valor total del inventario: {round(valor_total, 2)}\")\n",
        "\n",
        "def menu():\n",
        "    while True:\n",
        "        print(\"\\n--- MENU CRUD INVENTARIO ---\")\n",
        "        print(\"1 - Agregar producto\")\n",
        "        print(\"2 - Ver todos los productos\")\n",
        "        print(\"3 - Consultar producto por ID\")\n",
        "        print(\"4 - Consultar producto por nombre\")\n",
        "        print(\"5 - Consultar producto por índice\")\n",
        "        print(\"6 - Actualizar producto\")\n",
        "        print(\"7 - Eliminar producto por ID\")\n",
        "        print(\"8 - Eliminar producto por índice\")\n",
        "        print(\"9 - Vaciar inventario\")\n",
        "        print(\"10 - Ver estadísticas\")\n",
        "        print(\"0 - Salir\")\n",
        "\n",
        "        opcion = input(\"Selecciona una opción: \")\n",
        "\n",
        "        if opcion == \"1\":\n",
        "            crear_producto()\n",
        "        elif opcion == \"2\":\n",
        "            ver_todos()\n",
        "        elif opcion == \"3\":\n",
        "            consultar_por_id()\n",
        "        elif opcion == \"4\":\n",
        "            consultar_por_nombre()\n",
        "        elif opcion == \"5\":\n",
        "            consultar_por_indice()\n",
        "        elif opcion == \"6\":\n",
        "            actualizar_producto()\n",
        "        elif opcion == \"7\":\n",
        "            eliminar_por_id()\n",
        "        elif opcion == \"8\":\n",
        "            eliminar_por_indice()\n",
        "        elif opcion == \"9\":\n",
        "            vaciar_inventario()\n",
        "        elif opcion == \"10\":\n",
        "            estadisticas()\n",
        "        elif opcion == \"0\":\n",
        "            print(\"👋 Saliendo del sistema...\")\n",
        "            break\n",
        "        else:\n",
        "            print(\"❌ Opción inválida.\")\n",
        "\n",
        "menu()\n"
      ],
      "metadata": {
        "colab": {
          "base_uri": "https://localhost:8080/",
          "height": 1000
        },
        "id": "vqr4auBZIruq",
        "outputId": "507908d7-1c00-4ec6-a8df-83a7d4062e7f"
      },
      "execution_count": null,
      "outputs": [
        {
          "output_type": "stream",
          "name": "stdout",
          "text": [
            "\n",
            "--- MENU CRUD INVENTARIO ---\n",
            "1 - Agregar producto\n",
            "2 - Ver todos los productos\n",
            "3 - Consultar producto por ID\n",
            "4 - Consultar producto por nombre\n",
            "5 - Consultar producto por índice\n",
            "6 - Actualizar producto\n",
            "7 - Eliminar producto por ID\n",
            "8 - Eliminar producto por índice\n",
            "9 - Vaciar inventario\n",
            "10 - Ver estadísticas\n",
            "0 - Salir\n",
            "Selecciona una opción: 1\n",
            "ID del producto: 2\n",
            "Nombre del producto: teclado\n",
            "Precio: 12\n",
            "Cantidad: 307\n",
            "✅ Producto agregado.\n",
            "\n",
            "--- MENU CRUD INVENTARIO ---\n",
            "1 - Agregar producto\n",
            "2 - Ver todos los productos\n",
            "3 - Consultar producto por ID\n",
            "4 - Consultar producto por nombre\n",
            "5 - Consultar producto por índice\n",
            "6 - Actualizar producto\n",
            "7 - Eliminar producto por ID\n",
            "8 - Eliminar producto por índice\n",
            "9 - Vaciar inventario\n",
            "10 - Ver estadísticas\n",
            "0 - Salir\n",
            "Selecciona una opción: 10\n",
            "📊 Total de productos: 1\n",
            "💰 Valor total del inventario: 3684.0\n",
            "\n",
            "--- MENU CRUD INVENTARIO ---\n",
            "1 - Agregar producto\n",
            "2 - Ver todos los productos\n",
            "3 - Consultar producto por ID\n",
            "4 - Consultar producto por nombre\n",
            "5 - Consultar producto por índice\n",
            "6 - Actualizar producto\n",
            "7 - Eliminar producto por ID\n",
            "8 - Eliminar producto por índice\n",
            "9 - Vaciar inventario\n",
            "10 - Ver estadísticas\n",
            "0 - Salir\n"
          ]
        },
        {
          "output_type": "error",
          "ename": "KeyboardInterrupt",
          "evalue": "Interrupted by user",
          "traceback": [
            "\u001b[0;31m---------------------------------------------------------------------------\u001b[0m",
            "\u001b[0;31mKeyboardInterrupt\u001b[0m                         Traceback (most recent call last)",
            "\u001b[0;32m/tmp/ipython-input-241086581.py\u001b[0m in \u001b[0;36m<cell line: 0>\u001b[0;34m()\u001b[0m\n\u001b[1;32m    142\u001b[0m             \u001b[0mprint\u001b[0m\u001b[0;34m(\u001b[0m\u001b[0;34m\"❌ Opción inválida.\"\u001b[0m\u001b[0;34m)\u001b[0m\u001b[0;34m\u001b[0m\u001b[0;34m\u001b[0m\u001b[0m\n\u001b[1;32m    143\u001b[0m \u001b[0;34m\u001b[0m\u001b[0m\n\u001b[0;32m--> 144\u001b[0;31m \u001b[0mmenu\u001b[0m\u001b[0;34m(\u001b[0m\u001b[0;34m)\u001b[0m\u001b[0;34m\u001b[0m\u001b[0;34m\u001b[0m\u001b[0m\n\u001b[0m",
            "\u001b[0;32m/tmp/ipython-input-241086581.py\u001b[0m in \u001b[0;36mmenu\u001b[0;34m()\u001b[0m\n\u001b[1;32m    114\u001b[0m         \u001b[0mprint\u001b[0m\u001b[0;34m(\u001b[0m\u001b[0;34m\"0 - Salir\"\u001b[0m\u001b[0;34m)\u001b[0m\u001b[0;34m\u001b[0m\u001b[0;34m\u001b[0m\u001b[0m\n\u001b[1;32m    115\u001b[0m \u001b[0;34m\u001b[0m\u001b[0m\n\u001b[0;32m--> 116\u001b[0;31m         \u001b[0mopcion\u001b[0m \u001b[0;34m=\u001b[0m \u001b[0minput\u001b[0m\u001b[0;34m(\u001b[0m\u001b[0;34m\"Selecciona una opción: \"\u001b[0m\u001b[0;34m)\u001b[0m\u001b[0;34m\u001b[0m\u001b[0;34m\u001b[0m\u001b[0m\n\u001b[0m\u001b[1;32m    117\u001b[0m \u001b[0;34m\u001b[0m\u001b[0m\n\u001b[1;32m    118\u001b[0m         \u001b[0;32mif\u001b[0m \u001b[0mopcion\u001b[0m \u001b[0;34m==\u001b[0m \u001b[0;34m\"1\"\u001b[0m\u001b[0;34m:\u001b[0m\u001b[0;34m\u001b[0m\u001b[0;34m\u001b[0m\u001b[0m\n",
            "\u001b[0;32m/usr/local/lib/python3.11/dist-packages/ipykernel/kernelbase.py\u001b[0m in \u001b[0;36mraw_input\u001b[0;34m(self, prompt)\u001b[0m\n\u001b[1;32m   1175\u001b[0m                 \u001b[0;34m\"raw_input was called, but this frontend does not support input requests.\"\u001b[0m\u001b[0;34m\u001b[0m\u001b[0;34m\u001b[0m\u001b[0m\n\u001b[1;32m   1176\u001b[0m             )\n\u001b[0;32m-> 1177\u001b[0;31m         return self._input_request(\n\u001b[0m\u001b[1;32m   1178\u001b[0m             \u001b[0mstr\u001b[0m\u001b[0;34m(\u001b[0m\u001b[0mprompt\u001b[0m\u001b[0;34m)\u001b[0m\u001b[0;34m,\u001b[0m\u001b[0;34m\u001b[0m\u001b[0;34m\u001b[0m\u001b[0m\n\u001b[1;32m   1179\u001b[0m             \u001b[0mself\u001b[0m\u001b[0;34m.\u001b[0m\u001b[0m_parent_ident\u001b[0m\u001b[0;34m[\u001b[0m\u001b[0;34m\"shell\"\u001b[0m\u001b[0;34m]\u001b[0m\u001b[0;34m,\u001b[0m\u001b[0;34m\u001b[0m\u001b[0;34m\u001b[0m\u001b[0m\n",
            "\u001b[0;32m/usr/local/lib/python3.11/dist-packages/ipykernel/kernelbase.py\u001b[0m in \u001b[0;36m_input_request\u001b[0;34m(self, prompt, ident, parent, password)\u001b[0m\n\u001b[1;32m   1217\u001b[0m             \u001b[0;32mexcept\u001b[0m \u001b[0mKeyboardInterrupt\u001b[0m\u001b[0;34m:\u001b[0m\u001b[0;34m\u001b[0m\u001b[0;34m\u001b[0m\u001b[0m\n\u001b[1;32m   1218\u001b[0m                 \u001b[0;31m# re-raise KeyboardInterrupt, to truncate traceback\u001b[0m\u001b[0;34m\u001b[0m\u001b[0;34m\u001b[0m\u001b[0m\n\u001b[0;32m-> 1219\u001b[0;31m                 \u001b[0;32mraise\u001b[0m \u001b[0mKeyboardInterrupt\u001b[0m\u001b[0;34m(\u001b[0m\u001b[0;34m\"Interrupted by user\"\u001b[0m\u001b[0;34m)\u001b[0m \u001b[0;32mfrom\u001b[0m \u001b[0;32mNone\u001b[0m\u001b[0;34m\u001b[0m\u001b[0;34m\u001b[0m\u001b[0m\n\u001b[0m\u001b[1;32m   1220\u001b[0m             \u001b[0;32mexcept\u001b[0m \u001b[0mException\u001b[0m\u001b[0;34m:\u001b[0m\u001b[0;34m\u001b[0m\u001b[0;34m\u001b[0m\u001b[0m\n\u001b[1;32m   1221\u001b[0m                 \u001b[0mself\u001b[0m\u001b[0;34m.\u001b[0m\u001b[0mlog\u001b[0m\u001b[0;34m.\u001b[0m\u001b[0mwarning\u001b[0m\u001b[0;34m(\u001b[0m\u001b[0;34m\"Invalid Message:\"\u001b[0m\u001b[0;34m,\u001b[0m \u001b[0mexc_info\u001b[0m\u001b[0;34m=\u001b[0m\u001b[0;32mTrue\u001b[0m\u001b[0;34m)\u001b[0m\u001b[0;34m\u001b[0m\u001b[0;34m\u001b[0m\u001b[0m\n",
            "\u001b[0;31mKeyboardInterrupt\u001b[0m: Interrupted by user"
          ]
        }
      ]
    },
    {
      "cell_type": "markdown",
      "source": [
        "# ALURA CURSOS ONLINE\n",
        "# Instructor: Álvaro Hernando Camacho Diaz"
      ],
      "metadata": {
        "id": "ozS7x0f5RGfd"
      }
    }
  ]
}